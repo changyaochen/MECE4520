{
 "cells": [
  {
   "cell_type": "code",
   "execution_count": 4,
   "id": "524cb1c6-5af2-48dd-bc2d-755398a686b8",
   "metadata": {},
   "outputs": [],
   "source": [
    "import matplotlib.pyplot as plt\n",
    "import numpy as np\n",
    "import pandas as pd\n",
    "import seaborn as sns\n",
    "import statsmodels.formula.api as smf\n",
    "from scipy.stats import t\n",
    "\n",
    "sns.set(font_scale=1.5)\n",
    "sns.set_style(\"whitegrid\", {'grid.linestyle':'--'})"
   ]
  },
  {
   "cell_type": "markdown",
   "id": "ea4970b3-3d5e-4cbc-a0bf-3e85744b9f33",
   "metadata": {},
   "source": [
    "## Automobile MPG data\n",
    "\n",
    "In this class, we will use the \"Auto MPG\" dataset for demonstrative purposes."
   ]
  },
  {
   "cell_type": "code",
   "execution_count": 5,
   "id": "8ebc43af-6bbb-43dd-861f-94877fcfab1d",
   "metadata": {},
   "outputs": [
    {
     "data": {
      "text/html": [
       "<div>\n",
       "<style scoped>\n",
       "    .dataframe tbody tr th:only-of-type {\n",
       "        vertical-align: middle;\n",
       "    }\n",
       "\n",
       "    .dataframe tbody tr th {\n",
       "        vertical-align: top;\n",
       "    }\n",
       "\n",
       "    .dataframe thead th {\n",
       "        text-align: right;\n",
       "    }\n",
       "</style>\n",
       "<table border=\"1\" class=\"dataframe\">\n",
       "  <thead>\n",
       "    <tr style=\"text-align: right;\">\n",
       "      <th></th>\n",
       "      <th>mpg</th>\n",
       "      <th>cylinders</th>\n",
       "      <th>displacement</th>\n",
       "      <th>horsepower</th>\n",
       "      <th>weight</th>\n",
       "      <th>acceleration</th>\n",
       "      <th>model</th>\n",
       "      <th>origin</th>\n",
       "      <th>car</th>\n",
       "    </tr>\n",
       "  </thead>\n",
       "  <tbody>\n",
       "    <tr>\n",
       "      <th>0</th>\n",
       "      <td>18.0</td>\n",
       "      <td>8.0</td>\n",
       "      <td>307.0</td>\n",
       "      <td>130.0</td>\n",
       "      <td>3504.0</td>\n",
       "      <td>12.0</td>\n",
       "      <td>70.0</td>\n",
       "      <td>1.0</td>\n",
       "      <td>chevrolet chevelle malibu</td>\n",
       "    </tr>\n",
       "    <tr>\n",
       "      <th>1</th>\n",
       "      <td>15.0</td>\n",
       "      <td>8.0</td>\n",
       "      <td>350.0</td>\n",
       "      <td>165.0</td>\n",
       "      <td>3693.0</td>\n",
       "      <td>11.5</td>\n",
       "      <td>70.0</td>\n",
       "      <td>1.0</td>\n",
       "      <td>buick skylark 320</td>\n",
       "    </tr>\n",
       "    <tr>\n",
       "      <th>2</th>\n",
       "      <td>18.0</td>\n",
       "      <td>8.0</td>\n",
       "      <td>318.0</td>\n",
       "      <td>150.0</td>\n",
       "      <td>3436.0</td>\n",
       "      <td>11.0</td>\n",
       "      <td>70.0</td>\n",
       "      <td>1.0</td>\n",
       "      <td>plymouth satellite</td>\n",
       "    </tr>\n",
       "    <tr>\n",
       "      <th>3</th>\n",
       "      <td>16.0</td>\n",
       "      <td>8.0</td>\n",
       "      <td>304.0</td>\n",
       "      <td>150.0</td>\n",
       "      <td>3433.0</td>\n",
       "      <td>12.0</td>\n",
       "      <td>70.0</td>\n",
       "      <td>1.0</td>\n",
       "      <td>amc rebel sst</td>\n",
       "    </tr>\n",
       "    <tr>\n",
       "      <th>4</th>\n",
       "      <td>17.0</td>\n",
       "      <td>8.0</td>\n",
       "      <td>302.0</td>\n",
       "      <td>140.0</td>\n",
       "      <td>3449.0</td>\n",
       "      <td>10.5</td>\n",
       "      <td>70.0</td>\n",
       "      <td>1.0</td>\n",
       "      <td>ford torino</td>\n",
       "    </tr>\n",
       "  </tbody>\n",
       "</table>\n",
       "</div>"
      ],
      "text/plain": [
       "    mpg  cylinders  displacement  horsepower  weight  acceleration  model  \\\n",
       "0  18.0        8.0         307.0       130.0  3504.0          12.0   70.0   \n",
       "1  15.0        8.0         350.0       165.0  3693.0          11.5   70.0   \n",
       "2  18.0        8.0         318.0       150.0  3436.0          11.0   70.0   \n",
       "3  16.0        8.0         304.0       150.0  3433.0          12.0   70.0   \n",
       "4  17.0        8.0         302.0       140.0  3449.0          10.5   70.0   \n",
       "\n",
       "   origin                        car  \n",
       "0     1.0  chevrolet chevelle malibu  \n",
       "1     1.0          buick skylark 320  \n",
       "2     1.0         plymouth satellite  \n",
       "3     1.0              amc rebel sst  \n",
       "4     1.0                ford torino  "
      ]
     },
     "execution_count": 5,
     "metadata": {},
     "output_type": "execute_result"
    }
   ],
   "source": [
    "data = pd.read_csv(\"https://raw.githubusercontent.com/changyaochen/MECE4520/master/data/auto_mpg.csv\")\n",
    "data.head()"
   ]
  },
  {
   "cell_type": "markdown",
   "id": "4e57e28a-774c-4409-ad70-4f410013e078",
   "metadata": {},
   "source": [
    "### Data representation\n",
    "\n",
    "It is very common to represent the data in the matrix format, and with `pandas`, we can extract the underlying data as `numpy.ndarray`. "
   ]
  },
  {
   "cell_type": "code",
   "execution_count": 7,
   "id": "42c585f4-a189-47c4-b6a7-4a3c0e6f5de5",
   "metadata": {},
   "outputs": [
    {
     "name": "stdout",
     "output_type": "stream",
     "text": [
      "(398, 1)\n"
     ]
    },
    {
     "data": {
      "text/plain": [
       "array([[18.],\n",
       "       [15.],\n",
       "       [18.],\n",
       "       [16.],\n",
       "       [17.]])"
      ]
     },
     "execution_count": 7,
     "metadata": {},
     "output_type": "execute_result"
    }
   ],
   "source": [
    "# Retrieve data as a numpy array\n",
    "Y = data[[\"mpg\"]].values\n",
    "print(Y.shape)\n",
    "Y[:5]"
   ]
  },
  {
   "cell_type": "markdown",
   "id": "6dcb9a65-2d68-4026-8e26-7c6d3f80d078",
   "metadata": {},
   "source": [
    "### Simple linear regression\n",
    "\n",
    "In simple linear regression, there is only one independent variable. The goal of the (simple) linear regression, is to find the best values of coefficients, $\\beta$, that minimize the error sum of squares. \n",
    "\n",
    "To find $\\beta$, we can simply apply calculus, via the so-call Normal equation."
   ]
  },
  {
   "cell_type": "code",
   "execution_count": 8,
   "id": "64fe860c-5561-4aa9-9a7b-c8c9e440c2a0",
   "metadata": {},
   "outputs": [
    {
     "name": "stdout",
     "output_type": "stream",
     "text": [
      "(398, 2)\n"
     ]
    },
    {
     "data": {
      "text/plain": [
       "array([[1.000e+00, 3.504e+03],\n",
       "       [1.000e+00, 3.693e+03],\n",
       "       [1.000e+00, 3.436e+03],\n",
       "       [1.000e+00, 3.433e+03],\n",
       "       [1.000e+00, 3.449e+03]])"
      ]
     },
     "execution_count": 8,
     "metadata": {},
     "output_type": "execute_result"
    }
   ],
   "source": [
    "X = np.append(np.ones(shape=(data.shape[0], 1)), data[[\"weight\"]].values, axis=1)\n",
    "print(X.shape)\n",
    "X[:5]"
   ]
  },
  {
   "cell_type": "code",
   "execution_count": 9,
   "id": "6375f24b-7747-4dbe-9a1a-c7f9c13f5cf5",
   "metadata": {},
   "outputs": [
    {
     "data": {
      "text/plain": [
       "array([[ 4.63173644e+01],\n",
       "       [-7.67661006e-03]])"
      ]
     },
     "execution_count": 9,
     "metadata": {},
     "output_type": "execute_result"
    }
   ],
   "source": [
    "# Calculates coefficients\n",
    "betas = np.linalg.inv(X.T @ X) @ X.T @ Y\n",
    "betas"
   ]
  },
  {
   "cell_type": "code",
   "execution_count": 10,
   "id": "baf3f558-e4b5-49ed-982c-4d1faf2a7d0d",
   "metadata": {},
   "outputs": [
    {
     "name": "stderr",
     "output_type": "stream",
     "text": [
      "/var/folders/ck/6xgx96j15vd6tcwzl68twbpc0000gn/T/ipykernel_77486/1414136738.py:6: RuntimeWarning: invalid value encountered in sqrt\n",
      "  se = np.sqrt(var * np.linalg.inv(X.T @ X))\n"
     ]
    },
    {
     "data": {
      "text/plain": [
       "array([[7.95245230e-01,            nan],\n",
       "       [           nan, 2.57486863e-04]])"
      ]
     },
     "execution_count": 10,
     "metadata": {},
     "output_type": "execute_result"
    }
   ],
   "source": [
    "# Calculates the standard error\n",
    "Y_hat = X @ betas\n",
    "residual = Y - Y_hat\n",
    "var = np.var(residual, ddof=X.shape[1])\n",
    "\n",
    "se = np.sqrt(var * np.linalg.inv(X.T @ X))\n",
    "se"
   ]
  },
  {
   "cell_type": "code",
   "execution_count": 11,
   "id": "3d2cf693-c80d-4b17-bfee-bf0bd8c19d13",
   "metadata": {},
   "outputs": [
    {
     "data": {
      "text/plain": [
       "0.6917929800341555"
      ]
     },
     "execution_count": 11,
     "metadata": {},
     "output_type": "execute_result"
    }
   ],
   "source": [
    "# Calculates R2\n",
    "r2 = np.power(Y_hat - np.mean(Y), 2).sum() / np.power(Y - np.mean(Y), 2).sum()\n",
    "r2"
   ]
  },
  {
   "cell_type": "markdown",
   "id": "1a0d8799-528c-48a5-b06c-a7bba2c214d8",
   "metadata": {},
   "source": [
    "### Confidence interval and prediction interval\n",
    "\n",
    "Both confidence intervals and prediction intervals are used to convey the uncertainty associated with estimates or predictions from regression models, but they serve different purposes and are interpreted differently.\n",
    "\n",
    "#### Confidence Interval (CI):\n",
    "\n",
    "A confidence interval provides a range of values for some parameter (e.g., the mean or a regression coefficient) based on the data from a sample. It captures the uncertainty about the parameter estimate in repeated sampling. If we were to collect **many samples** and compute a confidence interval from each of them, we expect a certain proportion (e.g., 95% for a 95% CI) of those intervals to contain the true parameter value. For a 95% confidence interval, we'd say that we are 95% confident that the true parameter value lies within this interval.\n",
    "\n",
    "#### Prediction Interval (PI):\n",
    "\n",
    "A prediction interval provides a range within which **a new individual observation** is expected to fall with a certain probability, given what we know from a set of data.\n",
    "It captures both the uncertainty associated with the estimated regression line (or mean) and the variability of individual data points around that line.\n",
    "For a 95% prediction interval, we'd say that we are 95% confident that a new individual observation will fall within this interval."
   ]
  },
  {
   "cell_type": "code",
   "execution_count": null,
   "id": "c28df631-88ac-4bbe-acb7-8084764c172a",
   "metadata": {},
   "outputs": [],
   "source": [
    "# confidence interval\n",
    "x_new = 4000\n",
    "\n",
    "y_hat = (betas[0] + betas[1] * x_new)[0]\n",
    "print(y_hat)\n",
    "\n",
    "delta = np.sqrt(var) * np.sqrt(1 / X.shape[0] + (x_new - np.mean(X[:, 1]))**2 / np.sum((X[:, 1] - np.mean(X[:, 1]))**2))  \n",
    "multiplier = 1.96\n",
    "# multiplier = t.ppf(q=0.975, df=X.shape[0] - X.shape[1])\n",
    "\n",
    "print(f\"The lower bound of the 95% CI is: {y_hat - multiplier * delta:5.3f}\")\n",
    "print(f\"The upper bound of the 95% CI is: {y_hat + multiplier * delta:5.3f}\")"
   ]
  },
  {
   "cell_type": "code",
   "execution_count": null,
   "id": "7cd12b57-e1a3-4425-8f8d-ad523d567512",
   "metadata": {},
   "outputs": [],
   "source": [
    "delta = np.sqrt(var) * np.sqrt(1 + 1 / X.shape[0] + (x_new - np.mean(X[:, 1]))**2 / np.sum((X[:, 1] - np.mean(X[:, 1]))**2))  \n",
    "\n",
    "print(f\"The lower bound of the 95% PI is: {y_hat - multiplier * delta:5.3f}\")\n",
    "print(f\"The upper bound of the 95% PI is: {y_hat + multiplier * delta:5.3f}\")"
   ]
  },
  {
   "cell_type": "markdown",
   "id": "ec414e4b-cb35-4525-b898-aa4c3e13b119",
   "metadata": {},
   "source": [
    "### Multiple linear regression\n",
    "\n",
    "For the general, namely, multiple linear regression, we consider more than one independent variable. All the concepts from the simple linear regression still apply."
   ]
  },
  {
   "cell_type": "code",
   "execution_count": null,
   "id": "d765f91a-c30b-442a-ae82-ae81bae1abd8",
   "metadata": {},
   "outputs": [],
   "source": [
    "X = data[[\"weight\", \"acceleration\"]].values\n",
    "X = np.append(np.ones((X.shape[0], 1)), X, axis=1)\n",
    "print(X.shape)\n",
    "X[:5]"
   ]
  },
  {
   "cell_type": "code",
   "execution_count": null,
   "id": "5ee821de-3857-4234-b0e3-6de297c0e92f",
   "metadata": {},
   "outputs": [],
   "source": [
    "# Calculates coefficients\n",
    "betas = np.linalg.inv(X.T @ X) @ X.T @ Y\n",
    "betas"
   ]
  },
  {
   "cell_type": "code",
   "execution_count": null,
   "id": "8d26c276-ddb1-45fb-a920-300367ef12fb",
   "metadata": {},
   "outputs": [],
   "source": [
    "# Calculates the standard error\n",
    "Y_hat = X @ betas\n",
    "residual = Y - Y_hat\n",
    "var = np.var(residual, ddof=X.shape[1])\n",
    "\n",
    "se = np.sqrt(var * np.linalg.inv(X.T @ X))\n",
    "se"
   ]
  },
  {
   "cell_type": "code",
   "execution_count": null,
   "id": "f461b5a6-f715-4ffc-b839-fb8012f9327d",
   "metadata": {},
   "outputs": [],
   "source": [
    "# Calculates R2\n",
    "r2 = np.power(Y_hat - np.mean(Y), 2).sum() / np.power(Y - np.mean(Y), 2).sum()\n",
    "r2"
   ]
  },
  {
   "cell_type": "code",
   "execution_count": null,
   "id": "4fa47017-92b9-4935-804b-59c9ed4c5608",
   "metadata": {},
   "outputs": [],
   "source": [
    "# Linear regression with the `statsmodels` library\n",
    "model_1 = smf.ols(formula='mpg ~ weight + acceleration', data=data)\n",
    "result_1 = model_1.fit()\n",
    "print(result_1.summary())"
   ]
  },
  {
   "cell_type": "code",
   "execution_count": null,
   "id": "20a3c12c-7d49-4858-bf64-a1483de7d75f",
   "metadata": {},
   "outputs": [],
   "source": [
    "# One-hot encode the categorical variables\n",
    "model_2 = smf.ols(formula='mpg ~ weight + C(origin)', data=data)\n",
    "result_2 = model_2.fit()\n",
    "print(result_2.summary())"
   ]
  },
  {
   "cell_type": "markdown",
   "id": "56bef990-c014-41a1-aa17-bc15c99108a3",
   "metadata": {},
   "source": [
    "### Multicollinearity \n",
    "\n",
    "Multicollinearity refers to a situation in multiple (linear) regression where two or more independent variables (predictors) are highly correlated with each other. This means that they have similar patterns of variance and are providing redundant information in predicting the dependent variable.\n",
    "\n",
    "#### Consequences of Multicollinearity:\n",
    "\n",
    "* Coefficients Become Unstable: The estimated coefficients become sensitive to small changes in the model. A slight change in the data can lead to large changes in the coefficients.\n",
    "* Uncertainty in Coefficients: The standard errors of the coefficients increase, which means the coefficients might not be statistically significant even if they truly have an effect.\n",
    "* Interpretation Issues: Because the variables are correlated, it becomes difficult to disentangle the individual effect of one predictor from the effects of other correlated predictors.\n",
    "* Decreased Model Generalizability: A model with multicollinearity may not generalize well to new data."
   ]
  },
  {
   "cell_type": "code",
   "execution_count": 12,
   "id": "4fbee152-23e5-4114-a166-cbaf56196b57",
   "metadata": {},
   "outputs": [
    {
     "name": "stdout",
     "output_type": "stream",
     "text": [
      "                            OLS Regression Results                            \n",
      "==============================================================================\n",
      "Dep. Variable:                    mpg   R-squared:                       0.707\n",
      "Model:                            OLS   Adj. R-squared:                  0.704\n",
      "Method:                 Least Squares   F-statistic:                     233.4\n",
      "Date:                Sun, 01 Oct 2023   Prob (F-statistic):          9.63e-102\n",
      "Time:                        20:14:50   Log-Likelihood:                -1120.6\n",
      "No. Observations:                 392   AIC:                             2251.\n",
      "Df Residuals:                     387   BIC:                             2271.\n",
      "Df Model:                           4                                         \n",
      "Covariance Type:            nonrobust                                         \n",
      "================================================================================\n",
      "                   coef    std err          t      P>|t|      [0.025      0.975]\n",
      "--------------------------------------------------------------------------------\n",
      "Intercept       45.2511      2.456     18.424      0.000      40.422      50.080\n",
      "weight          -0.0053      0.001     -6.512      0.000      -0.007      -0.004\n",
      "displacement    -0.0060      0.007     -0.894      0.372      -0.019       0.007\n",
      "horsepower      -0.0436      0.017     -2.631      0.009      -0.076      -0.011\n",
      "acceleration    -0.0231      0.126     -0.184      0.854      -0.270       0.224\n",
      "==============================================================================\n",
      "Omnibus:                       38.359   Durbin-Watson:                   0.861\n",
      "Prob(Omnibus):                  0.000   Jarque-Bera (JB):               51.333\n",
      "Skew:                           0.715   Prob(JB):                     7.13e-12\n",
      "Kurtosis:                       4.049   Cond. No.                     3.56e+04\n",
      "==============================================================================\n",
      "\n",
      "Notes:\n",
      "[1] Standard Errors assume that the covariance matrix of the errors is correctly specified.\n",
      "[2] The condition number is large, 3.56e+04. This might indicate that there are\n",
      "strong multicollinearity or other numerical problems.\n"
     ]
    }
   ],
   "source": [
    "# Multicollinearity\n",
    "model_3 = smf.ols(formula='mpg ~ weight + displacement + horsepower + acceleration', data=data)\n",
    "result_3 = model_3.fit()\n",
    "print(result_3.summary())"
   ]
  }
 ],
 "metadata": {
  "kernelspec": {
   "display_name": "Python 3 (ipykernel)",
   "language": "python",
   "name": "python3"
  },
  "language_info": {
   "codemirror_mode": {
    "name": "ipython",
    "version": 3
   },
   "file_extension": ".py",
   "mimetype": "text/x-python",
   "name": "python",
   "nbconvert_exporter": "python",
   "pygments_lexer": "ipython3",
   "version": "3.10.11"
  }
 },
 "nbformat": 4,
 "nbformat_minor": 5
}
