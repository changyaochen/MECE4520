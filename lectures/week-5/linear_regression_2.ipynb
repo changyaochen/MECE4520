{
 "cells": [
  {
   "cell_type": "code",
   "execution_count": null,
   "id": "524cb1c6-5af2-48dd-bc2d-755398a686b8",
   "metadata": {},
   "outputs": [],
   "source": [
    "import matplotlib.pyplot as plt\n",
    "import numpy as np\n",
    "import pandas as pd\n",
    "import seaborn as sns\n",
    "import statsmodels.formula.api as smf\n",
    "from scipy.stats import t\n",
    "\n",
    "sns.set(font_scale=1.5)\n",
    "sns.set_style(\"whitegrid\", {'grid.linestyle':'--'})"
   ]
  },
  {
   "cell_type": "markdown",
   "id": "ea4970b3-3d5e-4cbc-a0bf-3e85744b9f33",
   "metadata": {},
   "source": [
    "## Automobile MPG data"
   ]
  },
  {
   "cell_type": "code",
   "execution_count": null,
   "id": "8ebc43af-6bbb-43dd-861f-94877fcfab1d",
   "metadata": {},
   "outputs": [],
   "source": [
    "data = pd.read_csv(\"https://raw.githubusercontent.com/changyaochen/MECE4520/master/data/auto_mpg.csv\")\n",
    "data.head()"
   ]
  },
  {
   "cell_type": "code",
   "execution_count": null,
   "id": "42c585f4-a189-47c4-b6a7-4a3c0e6f5de5",
   "metadata": {},
   "outputs": [],
   "source": [
    "# Retrieve data as a numpy array\n",
    "Y = data[[\"mpg\"]].values\n",
    "print(Y.shape)\n",
    "Y[:5]"
   ]
  },
  {
   "cell_type": "markdown",
   "id": "6dcb9a65-2d68-4026-8e26-7c6d3f80d078",
   "metadata": {},
   "source": [
    "### Simple linear regression"
   ]
  },
  {
   "cell_type": "code",
   "execution_count": null,
   "id": "64fe860c-5561-4aa9-9a7b-c8c9e440c2a0",
   "metadata": {},
   "outputs": [],
   "source": [
    "X = np.append(np.ones(shape=(data.shape[0], 1)), data[[\"weight\"]].values, axis=1)\n",
    "print(X.shape)\n",
    "X[:5]"
   ]
  },
  {
   "cell_type": "code",
   "execution_count": null,
   "id": "6375f24b-7747-4dbe-9a1a-c7f9c13f5cf5",
   "metadata": {},
   "outputs": [],
   "source": [
    "# Calculates coefficients\n",
    "betas = np.linalg.inv(X.T @ X) @ X.T @ Y\n",
    "betas"
   ]
  },
  {
   "cell_type": "code",
   "execution_count": null,
   "id": "baf3f558-e4b5-49ed-982c-4d1faf2a7d0d",
   "metadata": {},
   "outputs": [],
   "source": [
    "# Calculates the standard error\n",
    "Y_hat = X @ betas\n",
    "residual = Y - Y_hat\n",
    "var = np.var(residual, ddof=X.shape[1])\n",
    "\n",
    "se = np.sqrt(var * np.linalg.inv(X.T @ X))\n",
    "se"
   ]
  },
  {
   "cell_type": "code",
   "execution_count": null,
   "id": "3d2cf693-c80d-4b17-bfee-bf0bd8c19d13",
   "metadata": {},
   "outputs": [],
   "source": [
    "# Calculates R2\n",
    "r2 = np.power(Y_hat - np.mean(Y), 2).sum() / np.power(Y - np.mean(Y), 2).sum()\n",
    "r2"
   ]
  },
  {
   "cell_type": "code",
   "execution_count": null,
   "id": "c28df631-88ac-4bbe-acb7-8084764c172a",
   "metadata": {},
   "outputs": [],
   "source": [
    "# confidence interval\n",
    "x_new = 4000\n",
    "\n",
    "y_hat = (betas[0] + betas[1] * x_new)[0]\n",
    "print(y_hat)\n",
    "\n",
    "delta = np.sqrt(var) * np.sqrt(1 / X.shape[0] + (x_new - np.mean(X[:, 1]))**2 / np.sum((X[:, 1] - np.mean(X[:, 1]))**2))  \n",
    "multiplier = 1.96\n",
    "# multiplier = t.ppf(q=0.975, df=X.shape[0] - X.shape[1])\n",
    "\n",
    "print(f\"The lower bound of the 95% CI is: {y_hat - multiplier * delta:5.3f}\")\n",
    "print(f\"The upper bound of the 95% CI is: {y_hat + multiplier * delta:5.3f}\")"
   ]
  },
  {
   "cell_type": "code",
   "execution_count": null,
   "id": "7cd12b57-e1a3-4425-8f8d-ad523d567512",
   "metadata": {},
   "outputs": [],
   "source": [
    "delta = np.sqrt(var) * np.sqrt(1 + 1 / X.shape[0] + (x_new - np.mean(X[:, 1]))**2 / np.sum((X[:, 1] - np.mean(X[:, 1]))**2))  \n",
    "\n",
    "print(f\"The lower bound of the 95% PI is: {y_hat - multiplier * delta:5.3f}\")\n",
    "print(f\"The upper bound of the 95% PI is: {y_hat + multiplier * delta:5.3f}\")"
   ]
  },
  {
   "cell_type": "markdown",
   "id": "ec414e4b-cb35-4525-b898-aa4c3e13b119",
   "metadata": {},
   "source": [
    "### Multiple linear regression"
   ]
  },
  {
   "cell_type": "code",
   "execution_count": null,
   "id": "d765f91a-c30b-442a-ae82-ae81bae1abd8",
   "metadata": {},
   "outputs": [],
   "source": [
    "X = data[[\"weight\", \"acceleration\"]].values\n",
    "X = np.append(np.ones((X.shape[0], 1)), X, axis=1)\n",
    "print(X.shape)\n",
    "X[:5]"
   ]
  },
  {
   "cell_type": "code",
   "execution_count": null,
   "id": "5ee821de-3857-4234-b0e3-6de297c0e92f",
   "metadata": {},
   "outputs": [],
   "source": [
    "# Calculates coefficients\n",
    "betas = np.linalg.inv(X.T @ X) @ X.T @ Y\n",
    "betas"
   ]
  },
  {
   "cell_type": "code",
   "execution_count": null,
   "id": "8d26c276-ddb1-45fb-a920-300367ef12fb",
   "metadata": {},
   "outputs": [],
   "source": [
    "# Calculates the standard error\n",
    "Y_hat = X @ betas\n",
    "residual = Y - Y_hat\n",
    "var = np.var(residual, ddof=X.shape[1])\n",
    "\n",
    "se = np.sqrt(var * np.linalg.inv(X.T @ X))\n",
    "se"
   ]
  },
  {
   "cell_type": "code",
   "execution_count": null,
   "id": "f461b5a6-f715-4ffc-b839-fb8012f9327d",
   "metadata": {},
   "outputs": [],
   "source": [
    "# Calculates R2\n",
    "r2 = np.power(Y_hat - np.mean(Y), 2).sum() / np.power(Y - np.mean(Y), 2).sum()\n",
    "r2"
   ]
  },
  {
   "cell_type": "code",
   "execution_count": null,
   "id": "4fa47017-92b9-4935-804b-59c9ed4c5608",
   "metadata": {},
   "outputs": [],
   "source": [
    "# Linear regression with the `statsmodels` library\n",
    "model_1 = smf.ols(formula='mpg ~ weight + acceleration', data=data)\n",
    "result_1 = model_1.fit()\n",
    "print(result_1.summary())"
   ]
  },
  {
   "cell_type": "code",
   "execution_count": null,
   "id": "20a3c12c-7d49-4858-bf64-a1483de7d75f",
   "metadata": {},
   "outputs": [],
   "source": [
    "# One-hot encode the categorical variables\n",
    "model_2 = smf.ols(formula='mpg ~ weight + C(origin)', data=data)\n",
    "result_2 = model_2.fit()\n",
    "print(result_2.summary())"
   ]
  },
  {
   "cell_type": "code",
   "execution_count": null,
   "id": "4fbee152-23e5-4114-a166-cbaf56196b57",
   "metadata": {},
   "outputs": [],
   "source": [
    "# Multicollinearity\n",
    "model_3 = smf.ols(formula='mpg ~ weight + displacement + horsepower + acceleration', data=data)\n",
    "result_3 = model_3.fit()\n",
    "print(result_3.summary())"
   ]
  },
  {
   "cell_type": "markdown",
   "id": "788494ae-4a34-49d0-9715-1b00548ff308",
   "metadata": {},
   "source": [
    "## Ads spend data"
   ]
  },
  {
   "cell_type": "code",
   "execution_count": null,
   "id": "ab965eda-b2cb-4596-89cf-5bcc1f487354",
   "metadata": {},
   "outputs": [],
   "source": [
    "ads_data = pd.read_csv(\"https://raw.githubusercontent.com/changyaochen/MECE4520/master/data/ads_spend.csv\")\n",
    "ads_data.head()"
   ]
  },
  {
   "cell_type": "code",
   "execution_count": null,
   "id": "d1d3a78a-e1c1-4f2a-aba1-38c8c9841d4c",
   "metadata": {},
   "outputs": [],
   "source": [
    "ads_model = smf.ols(formula='revenue ~ Facebook + Google + TV', data=ads_data)\n",
    "ads_result = ads_model.fit()\n",
    "print(ads_result.summary())"
   ]
  },
  {
   "cell_type": "code",
   "execution_count": null,
   "id": "cd67796c-aa76-4afb-8782-9b2c3e8caa68",
   "metadata": {},
   "outputs": [],
   "source": [
    "ads_data[[\"TV\", \"Facebook\", \"Google\"]].plot()"
   ]
  },
  {
   "cell_type": "code",
   "execution_count": null,
   "id": "5b6fea88-803e-4f95-83fb-0d9064344215",
   "metadata": {},
   "outputs": [],
   "source": [
    "ads_data[[\"TV\", \"Facebook\", \"Google\"]].corr()"
   ]
  }
 ],
 "metadata": {
  "kernelspec": {
   "display_name": "Python 3 (ipykernel)",
   "language": "python",
   "name": "python3"
  },
  "language_info": {
   "codemirror_mode": {
    "name": "ipython",
    "version": 3
   },
   "file_extension": ".py",
   "mimetype": "text/x-python",
   "name": "python",
   "nbconvert_exporter": "python",
   "pygments_lexer": "ipython3",
   "version": "3.10.6"
  }
 },
 "nbformat": 4,
 "nbformat_minor": 5
}
