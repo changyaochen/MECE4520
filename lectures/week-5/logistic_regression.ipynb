{
 "cells": [
  {
   "cell_type": "code",
   "execution_count": null,
   "id": "5429e070",
   "metadata": {},
   "outputs": [],
   "source": [
    "import matplotlib.pyplot as plt\n",
    "import numpy as np\n",
    "import pandas as pd\n",
    "import seaborn as sns\n",
    "import statsmodels.api as sm\n",
    "import statsmodels.formula.api as smf\n",
    "\n",
    "pd.set_option(\"display.max_columns\", 500)\n",
    "sns.set(font_scale=1.5)\n",
    "sns.set_style(\"whitegrid\", {'grid.linestyle':'--'})"
   ]
  },
  {
   "cell_type": "markdown",
   "id": "6d9ec77c",
   "metadata": {},
   "source": [
    "## Binary classification example"
   ]
  },
  {
   "cell_type": "markdown",
   "id": "6d731819",
   "metadata": {},
   "source": [
    "Wisconsin breast cancer diagnostic dataset. The data dictionary can be found [here](https://archive.ics.uci.edu/ml/datasets/Breast+Cancer+Wisconsin+(Diagnostic))."
   ]
  },
  {
   "cell_type": "code",
   "execution_count": null,
   "id": "bc3eb101",
   "metadata": {},
   "outputs": [],
   "source": [
    "breast_cancer_data = pd.read_csv(\"https://raw.githubusercontent.com/changyaochen/MECE4520/master/data/breast_cancer.csv\")\n",
    "breast_cancer_data.head()"
   ]
  },
  {
   "cell_type": "markdown",
   "id": "fda03286",
   "metadata": {},
   "source": [
    "Tatanic survivor dataset. The data dictionary of the dataset can be found [here](https://www.kaggle.com/c/titanic/data)."
   ]
  },
  {
   "cell_type": "code",
   "execution_count": null,
   "id": "157c390b",
   "metadata": {},
   "outputs": [],
   "source": [
    "titanic_data = pd.read_csv(\"https://raw.githubusercontent.com/changyaochen/MECE4520/master/data/titanic.csv\")\n",
    "titanic_data.head()"
   ]
  },
  {
   "cell_type": "markdown",
   "id": "cc81dc0e",
   "metadata": {},
   "source": [
    "## EDA"
   ]
  },
  {
   "cell_type": "code",
   "execution_count": null,
   "id": "91dda871",
   "metadata": {},
   "outputs": [],
   "source": [
    "breast_cancer_data[\"label\"] = breast_cancer_data[\"diagnosis\"].apply(lambda x: 0 if x == \"B\" else 1)\n",
    "sns.scatterplot(x=\"radius_mean\", y=\"label\", data=breast_cancer_data)\n",
    "plt.tight_layout()"
   ]
  },
  {
   "cell_type": "markdown",
   "id": "093f7380",
   "metadata": {},
   "source": [
    "## Logistic regression"
   ]
  },
  {
   "cell_type": "code",
   "execution_count": null,
   "id": "c0bcb7a7",
   "metadata": {},
   "outputs": [],
   "source": [
    "model = smf.glm(\n",
    "    formula='label ~ radius_mean', \n",
    "    data=breast_cancer_data,\n",
    "    family=sm.families.Binomial(),\n",
    ")\n",
    "result = model.fit()\n",
    "print(result.summary())"
   ]
  },
  {
   "cell_type": "code",
   "execution_count": null,
   "id": "13e06282",
   "metadata": {},
   "outputs": [],
   "source": []
  }
 ],
 "metadata": {
  "kernelspec": {
   "display_name": "Python 3 (ipykernel)",
   "language": "python",
   "name": "python3"
  },
  "language_info": {
   "codemirror_mode": {
    "name": "ipython",
    "version": 3
   },
   "file_extension": ".py",
   "mimetype": "text/x-python",
   "name": "python",
   "nbconvert_exporter": "python",
   "pygments_lexer": "ipython3",
   "version": "3.10.6"
  }
 },
 "nbformat": 4,
 "nbformat_minor": 5
}
