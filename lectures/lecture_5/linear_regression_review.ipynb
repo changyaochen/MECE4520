{
 "cells": [
  {
<<<<<<< HEAD
   "cell_type": "markdown",
   "id": "d67675f4",
   "metadata": {},
   "source": [
    "# Basic Pandas/Numpy operations\n",
    "\n",
    "## How to use pandas to load data"
   ]
  },
  {
   "cell_type": "code",
   "execution_count": 1,
   "id": "2375bd0a",
   "metadata": {},
   "outputs": [
    {
     "data": {
      "text/html": [
       "<div>\n",
       "<style scoped>\n",
       "    .dataframe tbody tr th:only-of-type {\n",
       "        vertical-align: middle;\n",
       "    }\n",
       "\n",
       "    .dataframe tbody tr th {\n",
       "        vertical-align: top;\n",
       "    }\n",
       "\n",
       "    .dataframe thead th {\n",
       "        text-align: right;\n",
       "    }\n",
       "</style>\n",
       "<table border=\"1\" class=\"dataframe\">\n",
       "  <thead>\n",
       "    <tr style=\"text-align: right;\">\n",
       "      <th></th>\n",
       "      <th>0</th>\n",
       "      <th>1</th>\n",
       "    </tr>\n",
       "  </thead>\n",
       "  <tbody>\n",
       "    <tr>\n",
       "      <th>0</th>\n",
       "      <td>-15.000</td>\n",
       "      <td>-356.996</td>\n",
       "    </tr>\n",
       "    <tr>\n",
       "      <th>1</th>\n",
       "      <td>-14.824</td>\n",
       "      <td>-394.723</td>\n",
       "    </tr>\n",
       "    <tr>\n",
       "      <th>2</th>\n",
       "      <td>-14.648</td>\n",
       "      <td>-326.049</td>\n",
       "    </tr>\n",
       "    <tr>\n",
       "      <th>3</th>\n",
       "      <td>-14.472</td>\n",
       "      <td>-250.838</td>\n",
       "    </tr>\n",
       "    <tr>\n",
       "      <th>4</th>\n",
       "      <td>-14.296</td>\n",
       "      <td>-373.231</td>\n",
       "    </tr>\n",
       "  </tbody>\n",
       "</table>\n",
       "</div>"
      ],
      "text/plain": [
       "        0        1\n",
       "0 -15.000 -356.996\n",
       "1 -14.824 -394.723\n",
       "2 -14.648 -326.049\n",
       "3 -14.472 -250.838\n",
       "4 -14.296 -373.231"
      ]
     },
     "execution_count": 1,
     "metadata": {},
     "output_type": "execute_result"
    }
   ],
   "source": [
    "# use pandas to read and manipulate data\n",
    "import numpy as np\n",
    "import pandas as pd\n",
    "\n",
    "# read csv file from either a local file system, or from url\n",
    "file_path = \"../../data/simple_linear_regression.csv\"\n",
    "# file_path = \"https://raw.githubusercontent.com/changyaochen/MECE4520/master/data/simple_linear_regression.csv\"\n",
    "data = pd.read_csv(file_path, header=None)  # the file does not contain header\n",
    "data.head()"
   ]
  },
  {
   "cell_type": "code",
   "execution_count": 2,
   "id": "1bad57c9",
   "metadata": {},
   "outputs": [
    {
     "data": {
      "text/html": [
       "<div>\n",
       "<style scoped>\n",
       "    .dataframe tbody tr th:only-of-type {\n",
       "        vertical-align: middle;\n",
       "    }\n",
       "\n",
       "    .dataframe tbody tr th {\n",
       "        vertical-align: top;\n",
       "    }\n",
       "\n",
       "    .dataframe thead th {\n",
       "        text-align: right;\n",
       "    }\n",
       "</style>\n",
       "<table border=\"1\" class=\"dataframe\">\n",
       "  <thead>\n",
       "    <tr style=\"text-align: right;\">\n",
       "      <th></th>\n",
       "      <th>x</th>\n",
       "      <th>y</th>\n",
       "    </tr>\n",
       "  </thead>\n",
       "  <tbody>\n",
       "    <tr>\n",
       "      <th>0</th>\n",
       "      <td>-15.000</td>\n",
       "      <td>-356.996</td>\n",
       "    </tr>\n",
       "    <tr>\n",
       "      <th>1</th>\n",
       "      <td>-14.824</td>\n",
       "      <td>-394.723</td>\n",
       "    </tr>\n",
       "    <tr>\n",
       "      <th>2</th>\n",
       "      <td>-14.648</td>\n",
       "      <td>-326.049</td>\n",
       "    </tr>\n",
       "    <tr>\n",
       "      <th>3</th>\n",
       "      <td>-14.472</td>\n",
       "      <td>-250.838</td>\n",
       "    </tr>\n",
       "    <tr>\n",
       "      <th>4</th>\n",
       "      <td>-14.296</td>\n",
       "      <td>-373.231</td>\n",
       "    </tr>\n",
       "  </tbody>\n",
       "</table>\n",
       "</div>"
      ],
      "text/plain": [
       "        x        y\n",
       "0 -15.000 -356.996\n",
       "1 -14.824 -394.723\n",
       "2 -14.648 -326.049\n",
       "3 -14.472 -250.838\n",
       "4 -14.296 -373.231"
      ]
     },
     "execution_count": 2,
     "metadata": {},
     "output_type": "execute_result"
    }
   ],
   "source": [
    "# name the columns\n",
    "data = data.rename(columns={0: \"x\", 1: \"y\"})\n",
    "data.head()"
   ]
  },
  {
   "cell_type": "markdown",
   "id": "67a66466",
   "metadata": {},
   "source": [
    "## How to use numpy to do calculation, including matrix operations"
   ]
  },
  {
   "cell_type": "code",
   "execution_count": 3,
   "id": "b0ba217c",
   "metadata": {},
   "outputs": [
    {
     "data": {
      "text/plain": [
       "array([-15.   , -14.824, -14.648, -14.472, -14.296])"
      ]
     },
     "execution_count": 3,
     "metadata": {},
     "output_type": "execute_result"
    }
   ],
   "source": [
    "# get the data as numpy array\n",
    "X1 = data[\"x\"].values\n",
    "X1[:5]"
   ]
  },
  {
   "cell_type": "code",
   "execution_count": 4,
   "id": "bdb0524f",
   "metadata": {},
   "outputs": [
    {
     "data": {
      "text/plain": [
       "10.179740620245557"
      ]
     },
     "execution_count": 4,
     "metadata": {},
     "output_type": "execute_result"
    }
   ],
   "source": [
    "# get the sample standard deviation of X1\n",
    "np.std(X1, ddof=1)"
   ]
  },
  {
   "cell_type": "code",
   "execution_count": 5,
   "id": "ee49d1b8",
   "metadata": {},
   "outputs": [
    {
     "data": {
      "text/plain": [
       "array([[  1.   , -15.   ],\n",
       "       [  1.   , -14.824],\n",
       "       [  1.   , -14.648],\n",
       "       [  1.   , -14.472],\n",
       "       [  1.   , -14.296]])"
      ]
     },
     "execution_count": 5,
     "metadata": {},
     "output_type": "execute_result"
    }
   ],
   "source": [
    "# append columns to numpy array\n",
    "X = np.hstack((\n",
    "    np.ones(shape=(len(X1), 1)),  # a column with ones\n",
    "    X1.reshape(-1, 1),  # turn the row vector to column vector\n",
    "))\n",
    "X[:5, :]"
   ]
  },
  {
   "cell_type": "code",
   "execution_count": 6,
   "id": "0f9c0da7",
   "metadata": {},
   "outputs": [
    {
     "data": {
      "text/plain": [
       "array([ -66.996, -108.243,  -43.089,   28.602,  -97.311])"
      ]
     },
     "execution_count": 6,
     "metadata": {},
     "output_type": "execute_result"
    }
   ],
   "source": [
    "# matrix multiplication\n",
    "y = data[\"y\"].values\n",
    "beta = np.array([10, 20])\n",
    "(y - X @ beta)[:5]"
   ]
  },
  {
   "cell_type": "code",
   "execution_count": 7,
   "id": "00f9e4a6",
   "metadata": {},
   "outputs": [
    {
     "data": {
      "text/plain": [
       "array([[  103.6271191 ,  1679.34249677],\n",
       "       [ 1679.34249677, 33447.31803076]])"
      ]
     },
     "execution_count": 7,
     "metadata": {},
     "output_type": "execute_result"
    }
   ],
   "source": [
    "# how to get covariance matrix\n",
    "np.cov(X1, y)"
   ]
  },
  {
   "cell_type": "code",
   "execution_count": 8,
   "id": "1e87e05b",
   "metadata": {},
   "outputs": [
    {
     "data": {
      "text/plain": [
       "array([[10.17974062, 10.17974062],\n",
       "       [10.17974062, 10.17974062]])"
      ]
     },
     "execution_count": 8,
     "metadata": {},
     "output_type": "execute_result"
    }
   ],
   "source": [
    "# special case, covariance to oneself\n",
    "np.sqrt(np.cov(X1, X1))"
   ]
  },
  {
   "cell_type": "markdown",
   "id": "2ef387c9",
   "metadata": {},
   "source": [
    "## How to use matplotlib/seaborn to visualize data"
   ]
  },
  {
   "cell_type": "code",
   "execution_count": 9,
   "id": "a80e4934",
   "metadata": {},
   "outputs": [],
   "source": [
    "import matplotlib.pyplot as plt\n",
    "import seaborn as sns\n",
    "\n",
    "# figure style configuration\n",
    "sns.set(font_scale=1.5)\n",
    "sns.set_style(\"whitegrid\", {'grid.linestyle':'--'})"
   ]
  },
  {
   "cell_type": "code",
   "execution_count": 10,
   "id": "34bfbd98",
   "metadata": {},
   "outputs": [
    {
     "data": {
      "image/png": "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\n",
      "text/plain": [
       "<Figure size 432x288 with 1 Axes>"
      ]
     },
     "metadata": {},
     "output_type": "display_data"
    }
   ],
   "source": [
    "# scatter plot\n",
    "plt.figure()\n",
    "sns.scatterplot(x=X1, y=y)\n",
    "# sns.scatterplot(x=\"x\", y=\"y\", data=data)  # work as well\n",
    "plt.show()"
   ]
  },
  {
   "cell_type": "code",
   "execution_count": 11,
   "id": "ebad20a8",
   "metadata": {},
   "outputs": [
    {
     "data": {
      "image/png": "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\n",
      "text/plain": [
       "<Figure size 432x288 with 1 Axes>"
      ]
     },
     "metadata": {},
     "output_type": "display_data"
    }
   ],
   "source": [
    "# histogram\n",
    "plt.figure()\n",
    "sns.histplot(data=y, bins=25)\n",
    "plt.show()"
   ]
  },
  {
   "cell_type": "markdown",
   "id": "c6e7c54a",
   "metadata": {},
   "source": [
    "## How to use z-statistic\n",
    "\n",
    "![Image of z-test](https://upload.wikimedia.org/wikipedia/commons/1/1c/Null-hypothesis-reigon-eng.png)"
   ]
  },
  {
   "cell_type": "code",
   "execution_count": 12,
   "id": "2a56412c",
   "metadata": {},
   "outputs": [
    {
     "data": {
      "text/plain": [
       "0.024997895148220435"
      ]
     },
     "execution_count": 12,
     "metadata": {},
     "output_type": "execute_result"
    }
   ],
   "source": [
    "# find the p-value from z-statistic\n",
    "from scipy.stats import norm\n",
    "\n",
    "norm.sf(x=1.96)  # from z-statistic to find the area under the pdf curve to the right"
   ]
  },
  {
   "cell_type": "code",
   "execution_count": 13,
   "id": "3e117fc2",
   "metadata": {},
   "outputs": [
    {
     "data": {
      "text/plain": [
       "1.959963984540054"
      ]
     },
     "execution_count": 13,
     "metadata": {},
     "output_type": "execute_result"
    }
   ],
   "source": [
    "norm.ppf(q=0.975)  # from quantile to find corresponding value, inverse of 1 - cdf"
   ]
  },
  {
   "cell_type": "code",
   "execution_count": 14,
   "id": "fd86e1f9",
   "metadata": {},
   "outputs": [
    {
     "data": {
      "text/plain": [
       "0.026389450683114827"
      ]
     },
     "execution_count": 14,
     "metadata": {},
     "output_type": "execute_result"
    }
   ],
   "source": [
    "# find the p-value from t-statistic\n",
    "from scipy.stats import t\n",
    "\n",
    "t.sf(x=1.96, df=100) # from t-statistic to find the area under the pdf curve to the right"
   ]
  },
  {
   "cell_type": "code",
   "execution_count": 15,
   "id": "2ab72a57",
   "metadata": {},
   "outputs": [
    {
     "data": {
      "text/plain": [
       "1.9839715184496334"
      ]
     },
     "execution_count": 15,
     "metadata": {},
     "output_type": "execute_result"
    }
   ],
   "source": [
    "t.ppf(q=0.975, df=100)  # from quantile to find corresponding value, inverse of 1 - cdf"
   ]
  },
  {
   "cell_type": "code",
   "execution_count": null,
   "id": "9c436a92",
   "metadata": {},
   "outputs": [],
   "source": []
=======
   "cell_type": "code",
   "execution_count": null,
   "id": "7a32af71",
   "metadata": {},
   "outputs": [],
   "source": [
    "# collinear example"
   ]
>>>>>>> master
  }
 ],
 "metadata": {
  "kernelspec": {
   "display_name": "Python 3 (ipykernel)",
   "language": "python",
   "name": "python3"
  },
  "language_info": {
   "codemirror_mode": {
    "name": "ipython",
    "version": 3
   },
   "file_extension": ".py",
   "mimetype": "text/x-python",
   "name": "python",
   "nbconvert_exporter": "python",
   "pygments_lexer": "ipython3",
   "version": "3.7.11"
  }
 },
 "nbformat": 4,
 "nbformat_minor": 5
}
