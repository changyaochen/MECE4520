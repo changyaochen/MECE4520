{
 "cells": [
  {
   "cell_type": "markdown",
   "id": "4a2f0a6f",
   "metadata": {},
   "source": [
    "# Basic Pandas/Numpy operations\n",
    "\n",
    "## How to use pandas to load data"
   ]
  },
  {
   "cell_type": "code",
   "execution_count": 1,
   "id": "e3d26ee9",
   "metadata": {},
   "outputs": [
    {
     "data": {
      "text/html": [
       "<div>\n",
       "<style scoped>\n",
       "    .dataframe tbody tr th:only-of-type {\n",
       "        vertical-align: middle;\n",
       "    }\n",
       "\n",
       "    .dataframe tbody tr th {\n",
       "        vertical-align: top;\n",
       "    }\n",
       "\n",
       "    .dataframe thead th {\n",
       "        text-align: right;\n",
       "    }\n",
       "</style>\n",
       "<table border=\"1\" class=\"dataframe\">\n",
       "  <thead>\n",
       "    <tr style=\"text-align: right;\">\n",
       "      <th></th>\n",
       "      <th>0</th>\n",
       "      <th>1</th>\n",
       "    </tr>\n",
       "  </thead>\n",
       "  <tbody>\n",
       "    <tr>\n",
       "      <th>0</th>\n",
       "      <td>-15.000</td>\n",
       "      <td>-356.996</td>\n",
       "    </tr>\n",
       "    <tr>\n",
       "      <th>1</th>\n",
       "      <td>-14.824</td>\n",
       "      <td>-394.723</td>\n",
       "    </tr>\n",
       "    <tr>\n",
       "      <th>2</th>\n",
       "      <td>-14.648</td>\n",
       "      <td>-326.049</td>\n",
       "    </tr>\n",
       "    <tr>\n",
       "      <th>3</th>\n",
       "      <td>-14.472</td>\n",
       "      <td>-250.838</td>\n",
       "    </tr>\n",
       "    <tr>\n",
       "      <th>4</th>\n",
       "      <td>-14.296</td>\n",
       "      <td>-373.231</td>\n",
       "    </tr>\n",
       "  </tbody>\n",
       "</table>\n",
       "</div>"
      ],
      "text/plain": [
       "        0        1\n",
       "0 -15.000 -356.996\n",
       "1 -14.824 -394.723\n",
       "2 -14.648 -326.049\n",
       "3 -14.472 -250.838\n",
       "4 -14.296 -373.231"
      ]
     },
     "execution_count": 1,
     "metadata": {},
     "output_type": "execute_result"
    }
   ],
   "source": [
    "# use pandas to read and manipulate data\n",
    "import numpy as np\n",
    "import pandas as pd\n",
    "\n",
    "# read csv file from either a local file system, or from url\n",
    "file_path = \"../../data/simple_linear_regression.csv\"\n",
    "# file_path = \"https://raw.githubusercontent.com/changyaochen/MECE4520/master/data/simple_linear_regression.csv\"\n",
    "data = pd.read_csv(file_path, header=None)  # the file does not contain header\n",
    "data.head()"
   ]
  },
  {
   "cell_type": "code",
   "execution_count": 2,
   "id": "a22ba540",
   "metadata": {},
   "outputs": [
    {
     "data": {
      "text/html": [
       "<div>\n",
       "<style scoped>\n",
       "    .dataframe tbody tr th:only-of-type {\n",
       "        vertical-align: middle;\n",
       "    }\n",
       "\n",
       "    .dataframe tbody tr th {\n",
       "        vertical-align: top;\n",
       "    }\n",
       "\n",
       "    .dataframe thead th {\n",
       "        text-align: right;\n",
       "    }\n",
       "</style>\n",
       "<table border=\"1\" class=\"dataframe\">\n",
       "  <thead>\n",
       "    <tr style=\"text-align: right;\">\n",
       "      <th></th>\n",
       "      <th>x</th>\n",
       "      <th>y</th>\n",
       "    </tr>\n",
       "  </thead>\n",
       "  <tbody>\n",
       "    <tr>\n",
       "      <th>0</th>\n",
       "      <td>-15.000</td>\n",
       "      <td>-356.996</td>\n",
       "    </tr>\n",
       "    <tr>\n",
       "      <th>1</th>\n",
       "      <td>-14.824</td>\n",
       "      <td>-394.723</td>\n",
       "    </tr>\n",
       "    <tr>\n",
       "      <th>2</th>\n",
       "      <td>-14.648</td>\n",
       "      <td>-326.049</td>\n",
       "    </tr>\n",
       "    <tr>\n",
       "      <th>3</th>\n",
       "      <td>-14.472</td>\n",
       "      <td>-250.838</td>\n",
       "    </tr>\n",
       "    <tr>\n",
       "      <th>4</th>\n",
       "      <td>-14.296</td>\n",
       "      <td>-373.231</td>\n",
       "    </tr>\n",
       "  </tbody>\n",
       "</table>\n",
       "</div>"
      ],
      "text/plain": [
       "        x        y\n",
       "0 -15.000 -356.996\n",
       "1 -14.824 -394.723\n",
       "2 -14.648 -326.049\n",
       "3 -14.472 -250.838\n",
       "4 -14.296 -373.231"
      ]
     },
     "execution_count": 2,
     "metadata": {},
     "output_type": "execute_result"
    }
   ],
   "source": [
    "# name the columns\n",
    "data = data.rename(columns={0: \"x\", 1: \"y\"})\n",
    "data.head()"
   ]
  },
  {
   "cell_type": "markdown",
   "id": "c39ce224",
   "metadata": {},
   "source": [
    "## How to use numpy to do calculation, including matrix operations"
   ]
  },
  {
   "cell_type": "code",
   "execution_count": 3,
   "id": "49b18128",
   "metadata": {},
   "outputs": [
    {
     "data": {
      "text/plain": [
       "array([-15.   , -14.824, -14.648, -14.472, -14.296])"
      ]
     },
     "execution_count": 3,
     "metadata": {},
     "output_type": "execute_result"
    }
   ],
   "source": [
    "# get the data as numpy array\n",
    "X1 = data[\"x\"].values\n",
    "X1[:5]"
   ]
  },
  {
   "cell_type": "code",
   "execution_count": 4,
   "id": "97d698b2",
   "metadata": {},
   "outputs": [
    {
     "data": {
      "text/plain": [
       "10.179740620245557"
      ]
     },
     "execution_count": 4,
     "metadata": {},
     "output_type": "execute_result"
    }
   ],
   "source": [
    "# get the sample standard deviation of X1\n",
    "np.std(X1, ddof=1)"
   ]
  },
  {
   "cell_type": "code",
   "execution_count": 5,
   "id": "ade4f5e4",
   "metadata": {},
   "outputs": [
    {
     "data": {
      "text/plain": [
       "array([[  1.   , -15.   ],\n",
       "       [  1.   , -14.824],\n",
       "       [  1.   , -14.648],\n",
       "       [  1.   , -14.472],\n",
       "       [  1.   , -14.296]])"
      ]
     },
     "execution_count": 5,
     "metadata": {},
     "output_type": "execute_result"
    }
   ],
   "source": [
    "# append columns to numpy array\n",
    "X = np.hstack((\n",
    "    np.ones(shape=(len(X1), 1)),  # a column with ones\n",
    "    X1.reshape(-1, 1),  # turn the row vector to column vector\n",
    "))\n",
    "X[:5, :]"
   ]
  },
  {
   "cell_type": "code",
   "execution_count": 6,
   "id": "5094cf14",
   "metadata": {},
   "outputs": [
    {
     "data": {
      "text/plain": [
       "array([ -66.996, -108.243,  -43.089,   28.602,  -97.311])"
      ]
     },
     "execution_count": 6,
     "metadata": {},
     "output_type": "execute_result"
    }
   ],
   "source": [
    "# matrix multiplication\n",
    "y = data[\"y\"].values\n",
    "beta = np.array([10, 20])\n",
    "(y - X @ beta)[:5]"
   ]
  },
  {
   "cell_type": "code",
   "execution_count": 7,
   "id": "8f54010d",
   "metadata": {},
   "outputs": [
    {
     "data": {
      "text/plain": [
       "array([[  103.6271191 ,  1679.34249677],\n",
       "       [ 1679.34249677, 33447.31803076]])"
      ]
     },
     "execution_count": 7,
     "metadata": {},
     "output_type": "execute_result"
    }
   ],
   "source": [
    "# how to get covariance matrix\n",
    "np.cov(X1, y)"
   ]
  },
  {
   "cell_type": "code",
   "execution_count": 8,
   "id": "27100125",
   "metadata": {},
   "outputs": [
    {
     "data": {
      "text/plain": [
       "array([[10.17974062, 10.17974062],\n",
       "       [10.17974062, 10.17974062]])"
      ]
     },
     "execution_count": 8,
     "metadata": {},
     "output_type": "execute_result"
    }
   ],
   "source": [
    "# special case, covariance to oneself\n",
    "np.sqrt(np.cov(X1, X1))"
   ]
  },
  {
   "cell_type": "markdown",
   "id": "7ab1e57e",
   "metadata": {},
   "source": [
    "## How to use matplotlib/seaborn to visualize data"
   ]
  },
  {
   "cell_type": "code",
   "execution_count": 9,
   "id": "d71c5da9",
   "metadata": {},
   "outputs": [],
   "source": [
    "import matplotlib.pyplot as plt\n",
    "import seaborn as sns\n",
    "\n",
    "# figure style configuration\n",
    "sns.set(font_scale=1.5)\n",
    "sns.set_style(\"whitegrid\", {'grid.linestyle':'--'})"
   ]
  },
  {
   "cell_type": "code",
   "execution_count": 10,
   "id": "9e74201d",
   "metadata": {},
   "outputs": [
    {
     "data": {
      "image/png": "[encoded data removed]",
      "text/plain": [
       "<Figure size 432x288 with 1 Axes>"
      ]
     },
     "metadata": {},
     "output_type": "display_data"
    }
   ],
   "source": [
    "# scatter plot\n",
    "plt.figure()\n",
    "sns.scatterplot(x=X1, y=y)\n",
    "# sns.scatterplot(x=\"x\", y=\"y\", data=data)  # work as well\n",
    "plt.show()"
   ]
  },
  {
   "cell_type": "code",
   "execution_count": 11,
   "id": "281115cf",
   "metadata": {},
   "outputs": [
    {
     "data": {
      "image/png": "[encoded data removed]",
      "text/plain": [
       "<Figure size 432x288 with 1 Axes>"
      ]
     },
     "metadata": {},
     "output_type": "display_data"
    }
   ],
   "source": [
    "# histogram\n",
    "plt.figure()\n",
    "sns.histplot(data=y, bins=25)\n",
    "plt.show()"
   ]
  },
  {
   "cell_type": "markdown",
   "id": "ce29cdc7",
   "metadata": {},
   "source": [
    "## How to use z-statistic\n",
    "\n",
    "![Image of z-test](https://upload.wikimedia.org/wikipedia/commons/1/1c/Null-hypothesis-reigon-eng.png)"
   ]
  },
  {
   "cell_type": "code",
   "execution_count": 12,
   "id": "9c49d274",
   "metadata": {},
   "outputs": [
    {
     "data": {
      "text/plain": [
       "0.024997895148220435"
      ]
     },
     "execution_count": 12,
     "metadata": {},
     "output_type": "execute_result"
    }
   ],
   "source": [
    "# find the p-value from z-statistic\n",
    "from scipy.stats import norm\n",
    "\n",
    "norm.sf(x=1.96)  # from z-statistic to find the area under the pdf curve to the right"
   ]
  },
  {
   "cell_type": "code",
   "execution_count": 13,
   "id": "6e6dfd6b",
   "metadata": {},
   "outputs": [
    {
     "data": {
      "text/plain": [
       "1.959963984540054"
      ]
     },
     "execution_count": 13,
     "metadata": {},
     "output_type": "execute_result"
    }
   ],
   "source": [
    "norm.ppf(q=0.975)  # from quantile to find corresponding value, inverse of 1 - cdf"
   ]
  },
  {
   "cell_type": "code",
   "execution_count": 14,
   "id": "9f64a45a",
   "metadata": {},
   "outputs": [
    {
     "data": {
      "text/plain": [
       "0.026389450683114827"
      ]
     },
     "execution_count": 14,
     "metadata": {},
     "output_type": "execute_result"
    }
   ],
   "source": [
    "# find the p-value from t-statistic\n",
    "from scipy.stats import t\n",
    "\n",
    "t.sf(x=1.96, df=100) # from t-statistic to find the area under the pdf curve to the right"
   ]
  },
  {
   "cell_type": "code",
   "execution_count": 15,
   "id": "69fb4c9b",
   "metadata": {},
   "outputs": [
    {
     "data": {
      "text/plain": [
       "1.9839715184496334"
      ]
     },
     "execution_count": 15,
     "metadata": {},
     "output_type": "execute_result"
    }
   ],
   "source": [
    "t.ppf(q=0.975, df=100)  # from quantile to find corresponding value, inverse of 1 - cdf"
   ]
  },
  {
   "cell_type": "markdown",
   "id": "6b59ce8b",
   "metadata": {},
   "source": [
    "## Linear regression review"
   ]
  },
  {
   "cell_type": "code",
   "execution_count": 145,
   "id": "d7bc4d3d",
   "metadata": {},
   "outputs": [
    {
     "data": {
      "text/html": [
       "<div>\n",
       "<style scoped>\n",
       "    .dataframe tbody tr th:only-of-type {\n",
       "        vertical-align: middle;\n",
       "    }\n",
       "\n",
       "    .dataframe tbody tr th {\n",
       "        vertical-align: top;\n",
       "    }\n",
       "\n",
       "    .dataframe thead th {\n",
       "        text-align: right;\n",
       "    }\n",
       "</style>\n",
       "<table border=\"1\" class=\"dataframe\">\n",
       "  <thead>\n",
       "    <tr style=\"text-align: right;\">\n",
       "      <th></th>\n",
       "      <th>Facebook</th>\n",
       "      <th>Google</th>\n",
       "      <th>TV</th>\n",
       "      <th>revenue</th>\n",
       "      <th>date_index</th>\n",
       "    </tr>\n",
       "  </thead>\n",
       "  <tbody>\n",
       "    <tr>\n",
       "      <th>0</th>\n",
       "      <td>82.502345</td>\n",
       "      <td>112.867070</td>\n",
       "      <td>53.781519</td>\n",
       "      <td>345.055930</td>\n",
       "      <td>0</td>\n",
       "    </tr>\n",
       "    <tr>\n",
       "      <th>1</th>\n",
       "      <td>111.530358</td>\n",
       "      <td>107.887969</td>\n",
       "      <td>162.401419</td>\n",
       "      <td>618.671168</td>\n",
       "      <td>1</td>\n",
       "    </tr>\n",
       "    <tr>\n",
       "      <th>2</th>\n",
       "      <td>109.813208</td>\n",
       "      <td>114.302263</td>\n",
       "      <td>60.090020</td>\n",
       "      <td>479.382401</td>\n",
       "      <td>2</td>\n",
       "    </tr>\n",
       "    <tr>\n",
       "      <th>3</th>\n",
       "      <td>102.211797</td>\n",
       "      <td>101.047375</td>\n",
       "      <td>70.084840</td>\n",
       "      <td>333.500872</td>\n",
       "      <td>3</td>\n",
       "    </tr>\n",
       "    <tr>\n",
       "      <th>4</th>\n",
       "      <td>98.105042</td>\n",
       "      <td>112.133495</td>\n",
       "      <td>96.838614</td>\n",
       "      <td>621.539806</td>\n",
       "      <td>4</td>\n",
       "    </tr>\n",
       "  </tbody>\n",
       "</table>\n",
       "</div>"
      ],
      "text/plain": [
       "     Facebook      Google          TV     revenue  date_index\n",
       "0   82.502345  112.867070   53.781519  345.055930           0\n",
       "1  111.530358  107.887969  162.401419  618.671168           1\n",
       "2  109.813208  114.302263   60.090020  479.382401           2\n",
       "3  102.211797  101.047375   70.084840  333.500872           3\n",
       "4   98.105042  112.133495   96.838614  621.539806           4"
      ]
     },
     "execution_count": 145,
     "metadata": {},
     "output_type": "execute_result"
    }
   ],
   "source": [
    "import statsmodels.formula.api as smf\n",
    "data = pd.read_csv(\"../../data/ads_spend.csv\")\n",
    "data.head()"
   ]
  },
  {
   "cell_type": "code",
   "execution_count": 149,
   "id": "702fa6e6",
   "metadata": {},
   "outputs": [
    {
     "name": "stdout",
     "output_type": "stream",
     "text": [
      "                            OLS Regression Results                            \n",
      "==============================================================================\n",
      "Dep. Variable:                revenue   R-squared:                       0.498\n",
      "Model:                            OLS   Adj. R-squared:                  0.471\n",
      "Method:                 Least Squares   F-statistic:                     18.51\n",
      "Date:                Mon, 11 Oct 2021   Prob (F-statistic):           1.82e-08\n",
      "Time:                        21:03:32   Log-Likelihood:                -361.58\n",
      "No. Observations:                  60   AIC:                             731.2\n",
      "Df Residuals:                      56   BIC:                             739.5\n",
      "Df Model:                           3                                         \n",
      "Covariance Type:            nonrobust                                         \n",
      "==============================================================================\n",
      "                 coef    std err          t      P>|t|      [0.025      0.975]\n",
      "------------------------------------------------------------------------------\n",
      "Intercept    174.7055     69.307      2.521      0.015      35.867     313.544\n",
      "TV             2.0531      0.399      5.148      0.000       1.254       2.852\n",
      "Google        -0.3268      0.867     -0.377      0.708      -2.064       1.411\n",
      "Facebook       1.8532      1.334      1.389      0.170      -0.820       4.526\n",
      "==============================================================================\n",
      "Omnibus:                        7.814   Durbin-Watson:                   2.124\n",
      "Prob(Omnibus):                  0.020   Jarque-Bera (JB):                7.765\n",
      "Skew:                           0.612   Prob(JB):                       0.0206\n",
      "Kurtosis:                       4.268   Cond. No.                     1.26e+03\n",
      "==============================================================================\n",
      "\n",
      "Notes:\n",
      "[1] Standard Errors assume that the covariance matrix of the errors is correctly specified.\n",
      "[2] The condition number is large, 1.26e+03. This might indicate that there are\n",
      "strong multicollinearity or other numerical problems.\n"
     ]
    }
   ],
   "source": [
    "# simple linear regression with the `statsmodels` library\n",
    "model = smf.ols(formula='revenue ~ TV + Google + Facebook', data=data)\n",
    "result = model.fit()\n",
    "print(result.summary())"
   ]
  },
  {
   "cell_type": "code",
   "execution_count": 140,
   "id": "22f9d43f",
   "metadata": {},
   "outputs": [
    {
     "data": {
      "text/plain": [
       "<matplotlib.axes._subplots.AxesSubplot at 0x12cfa8b90>"
      ]
     },
     "execution_count": 140,
     "metadata": {},
     "output_type": "execute_result"
    },
    {
     "data": {
      "image/png": "[encoded data removed]",
      "text/plain": [
       "<Figure size 432x288 with 1 Axes>"
      ]
     },
     "metadata": {},
     "output_type": "display_data"
    }
   ],
   "source": [
    "data[[c for c in data.columns if c != \"revenue\"]].plot()"
   ]
  },
  {
   "cell_type": "code",
   "execution_count": 150,
   "id": "67875882",
   "metadata": {},
   "outputs": [
    {
     "data": {
      "text/html": [
       "<div>\n",
       "<style scoped>\n",
       "    .dataframe tbody tr th:only-of-type {\n",
       "        vertical-align: middle;\n",
       "    }\n",
       "\n",
       "    .dataframe tbody tr th {\n",
       "        vertical-align: top;\n",
       "    }\n",
       "\n",
       "    .dataframe thead th {\n",
       "        text-align: right;\n",
       "    }\n",
       "</style>\n",
       "<table border=\"1\" class=\"dataframe\">\n",
       "  <thead>\n",
       "    <tr style=\"text-align: right;\">\n",
       "      <th></th>\n",
       "      <th>Facebook</th>\n",
       "      <th>Google</th>\n",
       "      <th>TV</th>\n",
       "      <th>revenue</th>\n",
       "      <th>date_index</th>\n",
       "    </tr>\n",
       "  </thead>\n",
       "  <tbody>\n",
       "    <tr>\n",
       "      <th>Facebook</th>\n",
       "      <td>1.000000</td>\n",
       "      <td>0.941894</td>\n",
       "      <td>0.407327</td>\n",
       "      <td>0.510043</td>\n",
       "      <td>0.795056</td>\n",
       "    </tr>\n",
       "    <tr>\n",
       "      <th>Google</th>\n",
       "      <td>0.941894</td>\n",
       "      <td>1.000000</td>\n",
       "      <td>0.415247</td>\n",
       "      <td>0.485305</td>\n",
       "      <td>0.842611</td>\n",
       "    </tr>\n",
       "    <tr>\n",
       "      <th>TV</th>\n",
       "      <td>0.407327</td>\n",
       "      <td>0.415247</td>\n",
       "      <td>1.000000</td>\n",
       "      <td>0.651902</td>\n",
       "      <td>0.490549</td>\n",
       "    </tr>\n",
       "    <tr>\n",
       "      <th>revenue</th>\n",
       "      <td>0.510043</td>\n",
       "      <td>0.485305</td>\n",
       "      <td>0.651902</td>\n",
       "      <td>1.000000</td>\n",
       "      <td>0.436903</td>\n",
       "    </tr>\n",
       "    <tr>\n",
       "      <th>date_index</th>\n",
       "      <td>0.795056</td>\n",
       "      <td>0.842611</td>\n",
       "      <td>0.490549</td>\n",
       "      <td>0.436903</td>\n",
       "      <td>1.000000</td>\n",
       "    </tr>\n",
       "  </tbody>\n",
       "</table>\n",
       "</div>"
      ],
      "text/plain": [
       "            Facebook    Google        TV   revenue  date_index\n",
       "Facebook    1.000000  0.941894  0.407327  0.510043    0.795056\n",
       "Google      0.941894  1.000000  0.415247  0.485305    0.842611\n",
       "TV          0.407327  0.415247  1.000000  0.651902    0.490549\n",
       "revenue     0.510043  0.485305  0.651902  1.000000    0.436903\n",
       "date_index  0.795056  0.842611  0.490549  0.436903    1.000000"
      ]
     },
     "execution_count": 150,
     "metadata": {},
     "output_type": "execute_result"
    }
   ],
   "source": [
    "data.corr()"
   ]
  },
  {
   "cell_type": "code",
   "execution_count": null,
   "id": "00669735",
   "metadata": {},
   "outputs": [],
   "source": []
  }
 ],
 "metadata": {
  "kernelspec": {
   "display_name": "Python 3 (ipykernel)",
   "language": "python",
   "name": "python3"
  },
  "language_info": {
   "codemirror_mode": {
    "name": "ipython",
    "version": 3
   },
   "file_extension": ".py",
   "mimetype": "text/x-python",
   "name": "python",
   "nbconvert_exporter": "python",
   "pygments_lexer": "ipython3",
   "version": "3.7.11"
  }
 },
 "nbformat": 4,
 "nbformat_minor": 5
}
