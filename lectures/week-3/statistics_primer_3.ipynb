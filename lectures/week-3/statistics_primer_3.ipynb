{
 "cells": [
  {
   "cell_type": "code",
   "execution_count": null,
   "id": "6e3c4d0e",
   "metadata": {},
   "outputs": [],
   "source": [
    "import matplotlib.pyplot as plt\n",
    "import numpy as np\n",
    "\n",
    "from scipy.stats import binom\n",
    "from scipy.stats import norm\n",
    "from scipy.stats import ttest_ind\n",
    "from tqdm import tqdm\n",
    "\n",
    "# set random seed\n",
    "np.random.seed(42)"
   ]
  },
  {
   "cell_type": "markdown",
   "id": "025cf4a0",
   "metadata": {},
   "source": [
    "## Hypothesis test"
   ]
  },
  {
   "cell_type": "code",
   "execution_count": null,
   "id": "f40f114e",
   "metadata": {},
   "outputs": [],
   "source": [
    "# fair coin, binomial test\n",
    "n = 10\n",
    "p = 0.5\n",
    "for k in range(11):\n",
    "    proba = binom.pmf(k=k, n=n, p=p)\n",
    "    print(f\"The probability of getting {k} head(s) is: {proba:5.3f}\")"
   ]
  },
  {
   "cell_type": "code",
   "execution_count": null,
   "id": "fd6eb54b",
   "metadata": {},
   "outputs": [],
   "source": [
    "# IQ example\n",
    "n = 10\n",
    "mu_0 = 100\n",
    "mu_a = 105\n",
    "sigma = 15\n",
    "alpha = 0.05  # Type I error rate\n",
    "\n",
    "\n",
    "x_range = np.arange(75, 125, 0.001)\n",
    "plt.plot(\n",
    "    x_range, \n",
    "    norm.pdf(x_range, loc=mu_0, scale=np.sqrt(sigma**2 / n)),\n",
    "    color=\"blue\",\n",
    "    label=\"H_0\"\n",
    ")\n",
    "\n",
    "plt.plot(\n",
    "    x_range, \n",
    "    norm.pdf(x_range, loc=mu_a, scale=np.sqrt(sigma**2 / n)),\n",
    "    color=\"red\",\n",
    "    label=\"H_a\"\n",
    ")\n",
    "\n",
    "# # find the rejection region\n",
    "x_critical = norm.ppf(q=(1 - alpha), loc=mu_0, scale=np.sqrt(sigma**2 / n))\n",
    "power = norm.sf(x=x_critical, loc=mu_a, scale=np.sqrt(sigma**2 / n))\n",
    "\n",
    "print(f\"The critial value is {x_critical:5.3f}.\")\n",
    "print(f\"The power of the test is {power:5.3f}.\")\n",
    "plt.axvline(x=x_critical, color=\"black\")\n",
    "\n",
    "plt.axhline(y=0, color=\"black\")\n",
    "# plt.legend()\n",
    "plt.show()"
   ]
  },
  {
   "cell_type": "code",
   "execution_count": null,
   "id": "86803aab",
   "metadata": {},
   "outputs": [],
   "source": [
    "# Get the p-value\n",
    "test_statistic = 110\n",
    "norm.sf(x=test_statistic, loc=100, scale=np.sqrt(15**2 / n))"
   ]
  },
  {
   "cell_type": "code",
   "execution_count": null,
   "id": "32b3775e",
   "metadata": {},
   "outputs": [],
   "source": [
    "# 2-sample test\n",
    "x_mean = 100\n",
    "y_mean = 105\n",
    "s_x = 10\n",
    "s_y = 10\n",
    "n_x = 150\n",
    "n_y = 150\n",
    "\n",
    "delta = 3\n",
    "alpha = 0.05\n",
    "\n",
    "s_pool = np.sqrt(s_x**2 / n_x + s_y**2 / n_y)\n",
    "\n",
    "z_range = np.arange(-5, 5, 0.001)\n",
    "plt.plot(\n",
    "    z_range, \n",
    "    norm.pdf(z_range, loc=0, scale=1),\n",
    "    color=\"blue\",\n",
    "    label=\"H_0\"\n",
    ")\n",
    "\n",
    "plt.plot(\n",
    "    z_range, \n",
    "    norm.pdf(z_range, loc=(delta / s_pool), scale=1),\n",
    "    color=\"red\",\n",
    "    label=\"H_a\"\n",
    ")\n",
    "\n",
    "# use q=(1 - alpha) for one-sided test\n",
    "z_critical = norm.ppf(q=(1 - alpha / 2))\n",
    "power = norm.sf(x=z_critical, loc=(delta / s_pool), scale=1)\n",
    "\n",
    "print(f\"The critial value is {z_critical:5.3f}.\")\n",
    "print(f\"The power of the test is {power:5.3f}.\")\n",
    "plt.axvline(x=z_critical, color=\"black\")\n",
    "plt.axvline(x=0, color=\"blue\", linestyle=\"--\")\n",
    "plt.axvline(x=(delta / s_pool), color=\"red\", linestyle=\"--\")\n",
    "\n",
    "plt.axhline(y=0, color=\"black\")\n",
    "plt.legend()\n",
    "plt.show()"
   ]
  },
  {
   "cell_type": "code",
   "execution_count": null,
   "id": "b89e04a6",
   "metadata": {},
   "outputs": [],
   "source": [
    "# multiple tests\n",
    "np.random.seed(42)\n",
    "n_samples = int(1e5)\n",
    "\n",
    "group_A = np.random.normal(size=n_samples)\n",
    "group_B = np.random.normal(size=n_samples)\n",
    "\n",
    "print(ttest_ind(a=group_A, b=group_B))"
   ]
  },
  {
   "cell_type": "code",
   "execution_count": null,
   "id": "a4903cca",
   "metadata": {},
   "outputs": [],
   "source": [
    "# assign meaningless labels to each sample\n",
    "n_labels = 100\n",
    "group_A_labeled = [(i % n_labels, x) for i, x in enumerate(group_A)]\n",
    "group_B_labeled = [(i % n_labels, x) for i, x in enumerate(group_B)]\n",
    "\n",
    "# run t-tests by label\n",
    "p_values = []\n",
    "t_statistics = []\n",
    "for i in tqdm(range(n_labels)):\n",
    "    t_statistic, p_value =  ttest_ind(\n",
    "        a=[x for label, x in group_A_labeled if label == i], \n",
    "        b=[x for label, x in group_B_labeled if label == i]\n",
    "    )\n",
    "    t_statistics.append(t_statistic)\n",
    "    p_values.append(p_value)"
   ]
  },
  {
   "cell_type": "code",
   "execution_count": null,
   "id": "6331d5d1",
   "metadata": {},
   "outputs": [],
   "source": [
    "print(\"Smallest p_values are:\")\n",
    "print(sorted(p_values)[:5])\n",
    "plt.hist(x=p_values)\n",
    "plt.show()"
   ]
  }
 ],
 "metadata": {
  "kernelspec": {
   "display_name": "Python 3 (ipykernel)",
   "language": "python",
   "name": "python3"
  },
  "language_info": {
   "codemirror_mode": {
    "name": "ipython",
    "version": 3
   },
   "file_extension": ".py",
   "mimetype": "text/x-python",
   "name": "python",
   "nbconvert_exporter": "python",
   "pygments_lexer": "ipython3",
   "version": "3.10.6"
  }
 },
 "nbformat": 4,
 "nbformat_minor": 5
}
