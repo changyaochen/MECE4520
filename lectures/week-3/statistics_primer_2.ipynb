{
 "cells": [
  {
   "cell_type": "code",
   "execution_count": 2,
   "id": "6e3c4d0e",
   "metadata": {},
   "outputs": [],
   "source": [
    "import matplotlib.pyplot as plt\n",
    "import numpy as np\n",
    "\n",
    "from scipy.stats import binom\n",
    "from scipy.stats import norm\n",
    "from scipy.stats import ttest_ind\n",
    "from tqdm import tqdm\n",
    "\n",
    "# set random seed\n",
    "np.random.seed(42)"
   ]
  },
  {
   "cell_type": "markdown",
   "id": "02a1a326",
   "metadata": {},
   "source": [
    "## Central Limit Theorem\n",
    "\n",
    "The Central Limit Theorem (CLT) is a fundamental principle in probability and statistics. It states that, given certain conditions, the sum (or average) of a large number of independent, identically distributed (i.i.d.) random variables approaches a normal (or Gaussian) distribution, no matter the shape of the original distribution. This result is the reason why the normal distribution appears in many contexts and is fundamental in inferential statistics.\n",
    "\n",
    "The \"certain conditions\" are referred to:\n",
    "\n",
    "* **Independence**: The random variables must be independent. This means that the outcome of one observation does not influence the outcome of another observation. In many practical scenarios, this assumption is satisfied by random sampling.\n",
    "\n",
    "* **Identically Distributed**: The random variables should be identically distributed, often abbreviated as i.i.d. This means that each random variable has the same probability distribution as the others and the same parameters. In simpler terms, all variables come from the same \"population\".\n",
    "\n",
    "* **Finite Mean and Variance**: Each of the random variables must have a finite mean \n",
    "($\\mu$) and variance ($\\sigma^2$). This means that extremely long-tailed distributions or distributions with no defined mean or variance may not conform to the CLT."
   ]
  },
  {
   "cell_type": "markdown",
   "id": "a564b64a-9895-4e15-b57d-0ae4382083fb",
   "metadata": {},
   "source": [
    "Let's run some simulations to see CLT in action, with samples drawing from different distributions."
   ]
  },
  {
   "cell_type": "code",
   "execution_count": null,
   "id": "ed10ac18",
   "metadata": {},
   "outputs": [],
   "source": [
    "n_trials = 1000\n",
    "n_samples = 100"
   ]
  },
  {
   "cell_type": "code",
   "execution_count": null,
   "id": "fb89a7b3",
   "metadata": {},
   "outputs": [],
   "source": [
    "# sample means of a normal distribution\n",
    "sample_means = []\n",
    "for _ in range(n_trials):\n",
    "    X = np.random.normal(loc=1.0, scale=1.0, size=n_samples)\n",
    "    sample_means.append(np.mean(X))\n",
    "\n",
    "print(f\"The mean of sample means is: {np.mean(sample_means):5.3f}.\")\n",
    "print(f\"The standard deviation of sample means is: {np.std(sample_means):5.3f}.\")\n",
    "plt.hist(sample_means, bins=20)\n",
    "plt.show()"
   ]
  },
  {
   "cell_type": "code",
   "execution_count": null,
   "id": "cd1bf295",
   "metadata": {},
   "outputs": [],
   "source": [
    "# sample means of bernoulli distribution\n",
    "sample_means = []\n",
    "p = 0.6\n",
    "for _ in range(n_trials):\n",
    "    X_uniform = np.random.random(size=n_samples)\n",
    "    X = [1 if x < p else 0 for x in X_uniform]\n",
    "    sample_means.append(np.mean(X))\n",
    "\n",
    "print(f\"The mean of sample means is: {np.mean(sample_means):5.3f}.\")\n",
    "print(f\"The standard deviation of sample means is: {np.std(sample_means):5.3f}.\")\n",
    "plt.hist(sample_means, bins=20)\n",
    "plt.show()"
   ]
  },
  {
   "cell_type": "code",
   "execution_count": null,
   "id": "ef685d27",
   "metadata": {},
   "outputs": [],
   "source": [
    "# sample means binomial distribtuion\n",
    "sample_means = []\n",
    "for _ in range(n_trials):\n",
    "    X = np.random.binomial(n=10, p=0.6, size=n_samples)\n",
    "    sample_means.append(np.mean(X))\n",
    "\n",
    "print(f\"The mean of sample means is: {np.mean(sample_means):5.3f}.\")\n",
    "print(f\"The standard deviation of sample means is: {np.std(sample_means):5.3f}.\")\n",
    "plt.hist(sample_means, bins=20)\n",
    "plt.show()"
   ]
  },
  {
   "cell_type": "code",
   "execution_count": null,
   "id": "324576cd",
   "metadata": {},
   "outputs": [],
   "source": [
    "# sample means geometric distribution\n",
    "sample_means = []\n",
    "for _ in range(n_trials):\n",
    "    X = np.random.geometric(p=0.6, size=n_samples)\n",
    "    sample_means.append(np.mean(X))\n",
    "\n",
    "print(f\"The mean of sample means is: {np.mean(sample_means):5.3f}.\")\n",
    "print(f\"The standard deviation of sample means is: {np.std(sample_means):5.3f}.\")\n",
    "plt.hist(sample_means, bins=20)\n",
    "plt.show()"
   ]
  },
  {
   "cell_type": "markdown",
   "id": "0a506b1d",
   "metadata": {},
   "source": [
    "## Point estimation and confidence interval\n",
    "\n",
    "Point estimation refers to the process of using sample data to compute a single value, known as a statistic, which serves as the \"best guess\" or \"best estimate\" of an unknown population parameter (like the population mean or population proportion). For example, the sample mean is such a statistic, and the it is used as the point estimation (point estimate) of the population mean.\n",
    "\n",
    "While point estimation gives a specific value as an estimate, it doesn't convey anything about the degree of certainty or possible margin of error associated with the estimate. This is where confidence intervals come into play.\n",
    "\n",
    "A confidence interval provides a range of values, derived from the point estimate and the associated variability of the estimate, within which the true population parameter is expected to fall with a certain probability (confidence level)."
   ]
  },
  {
   "cell_type": "markdown",
   "id": "d3caa97b-2b6a-47fb-9b83-5085dfe9dbd2",
   "metadata": {},
   "source": [
    "Let's run some simulation to demonstrate the concept. \n",
    "\n",
    "Below, we already know the population parameter: the population mean. For the sake of demonstration, we will repeatly randomly sample from the population, for `n_trials` times. For each sampling, we draw 100 samples. Therefore, we will have 100 sample means. \n",
    "\n",
    "For each of the sample, we can construct the point estimation, and the confidence interval (CI). We will see that, there are chances, that the CI does not include the population mean."
   ]
  },
  {
   "cell_type": "code",
   "execution_count": 3,
   "id": "e9d4992f",
   "metadata": {},
   "outputs": [
    {
     "data": {
      "image/png": "[encoded data removed]",
      "text/plain": [
       "<Figure size 1500x900 with 1 Axes>"
      ]
     },
     "metadata": {},
     "output_type": "display_data"
    }
   ],
   "source": [
    "mu = 0  # population mean\n",
    "sigma = 1\n",
    "\n",
    "n_trials = 100\n",
    "n_samples = 100\n",
    "results = []\n",
    "for i, _ in enumerate(range(n_trials)):\n",
    "    X = np.random.normal(loc=mu, scale=sigma**0.5, size=n_samples)  # Sampling\n",
    "    lower_bound = np.mean(X) - 1.96 * np.std(X, ddof=1) / np.sqrt(n_samples)\n",
    "    upper_bound = np.mean(X) + 1.96 * np.std(X, ddof=1) / np.sqrt(n_samples)\n",
    "    \n",
    "    results.append((i, lower_bound, upper_bound))\n",
    "    \n",
    "plt.figure(figsize=(15, 9))\n",
    "for i, lower, upper in results:\n",
    "    if lower > mu or upper < mu:\n",
    "        plt.plot([lower, upper], [i] * 2, color=\"red\", alpha=1)\n",
    "    else:\n",
    "        plt.plot([lower, upper], [i] * 2, color=\"blue\", alpha=0.2)\n",
    "plt.plot([mu] * len(results), list(range(len(results))), \"k--\")\n",
    "plt.show()"
   ]
  },
  {
   "cell_type": "code",
   "execution_count": null,
   "id": "ec91dc8c-3722-4f4a-9c41-e4e1e5ef067a",
   "metadata": {},
   "outputs": [],
   "source": []
  }
 ],
 "metadata": {
  "kernelspec": {
   "display_name": "Python 3 (ipykernel)",
   "language": "python",
   "name": "python3"
  },
  "language_info": {
   "codemirror_mode": {
    "name": "ipython",
    "version": 3
   },
   "file_extension": ".py",
   "mimetype": "text/x-python",
   "name": "python",
   "nbconvert_exporter": "python",
   "pygments_lexer": "ipython3",
   "version": "3.10.6"
  },
  "vscode": {
   "interpreter": {
    "hash": "665970a3d761a4f255ecde32808731f9b2ef62c954e47b5b53ad070c6557cd9d"
   }
  }
 },
 "nbformat": 4,
 "nbformat_minor": 5
}
