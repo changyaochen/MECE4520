{
 "cells": [
  {
   "cell_type": "code",
   "execution_count": 1,
   "id": "89936266",
   "metadata": {
    "ExecuteTime": {
     "end_time": "2021-11-08T05:30:34.883988Z",
     "start_time": "2021-11-08T05:30:34.261448Z"
    }
   },
   "outputs": [],
   "source": [
    "from typing import Tuple\n",
    "\n",
    "import numpy as np\n",
    "import pandas as pd\n",
    "\n",
    "from sklearn.metrics import roc_auc_score\n",
    "from sklearn.model_selection import train_test_split\n",
    "from sklearn.preprocessing import StandardScaler"
   ]
  },
  {
   "cell_type": "code",
   "execution_count": 2,
   "id": "e4cb5e42",
   "metadata": {
    "ExecuteTime": {
     "end_time": "2021-11-08T05:30:35.604692Z",
     "start_time": "2021-11-08T05:30:35.324320Z"
    }
   },
   "outputs": [
    {
     "data": {
      "text/html": [
       "<div>\n",
       "<style scoped>\n",
       "    .dataframe tbody tr th:only-of-type {\n",
       "        vertical-align: middle;\n",
       "    }\n",
       "\n",
       "    .dataframe tbody tr th {\n",
       "        vertical-align: top;\n",
       "    }\n",
       "\n",
       "    .dataframe thead th {\n",
       "        text-align: right;\n",
       "    }\n",
       "</style>\n",
       "<table border=\"1\" class=\"dataframe\">\n",
       "  <thead>\n",
       "    <tr style=\"text-align: right;\">\n",
       "      <th></th>\n",
       "      <th>id</th>\n",
       "      <th>diagnosis</th>\n",
       "      <th>radius_mean</th>\n",
       "      <th>texture_mean</th>\n",
       "      <th>perimeter_mean</th>\n",
       "      <th>area_mean</th>\n",
       "      <th>smoothness_mean</th>\n",
       "      <th>compactness_mean</th>\n",
       "      <th>concavity_mean</th>\n",
       "      <th>concave_mean</th>\n",
       "      <th>...</th>\n",
       "      <th>texture_extreme</th>\n",
       "      <th>perimeter_extreme</th>\n",
       "      <th>area_extreme</th>\n",
       "      <th>smoothness_extreme</th>\n",
       "      <th>compactness_extreme</th>\n",
       "      <th>concavity_extreme</th>\n",
       "      <th>concave_extreme</th>\n",
       "      <th>symmetry_extreme</th>\n",
       "      <th>fractal_extreme</th>\n",
       "      <th>label</th>\n",
       "    </tr>\n",
       "  </thead>\n",
       "  <tbody>\n",
       "    <tr>\n",
       "      <th>0</th>\n",
       "      <td>842302</td>\n",
       "      <td>M</td>\n",
       "      <td>17.99</td>\n",
       "      <td>10.38</td>\n",
       "      <td>122.80</td>\n",
       "      <td>1001.0</td>\n",
       "      <td>0.11840</td>\n",
       "      <td>0.27760</td>\n",
       "      <td>0.3001</td>\n",
       "      <td>0.14710</td>\n",
       "      <td>...</td>\n",
       "      <td>17.33</td>\n",
       "      <td>184.60</td>\n",
       "      <td>2019.0</td>\n",
       "      <td>0.1622</td>\n",
       "      <td>0.6656</td>\n",
       "      <td>0.7119</td>\n",
       "      <td>0.2654</td>\n",
       "      <td>0.4601</td>\n",
       "      <td>0.11890</td>\n",
       "      <td>1</td>\n",
       "    </tr>\n",
       "    <tr>\n",
       "      <th>1</th>\n",
       "      <td>842517</td>\n",
       "      <td>M</td>\n",
       "      <td>20.57</td>\n",
       "      <td>17.77</td>\n",
       "      <td>132.90</td>\n",
       "      <td>1326.0</td>\n",
       "      <td>0.08474</td>\n",
       "      <td>0.07864</td>\n",
       "      <td>0.0869</td>\n",
       "      <td>0.07017</td>\n",
       "      <td>...</td>\n",
       "      <td>23.41</td>\n",
       "      <td>158.80</td>\n",
       "      <td>1956.0</td>\n",
       "      <td>0.1238</td>\n",
       "      <td>0.1866</td>\n",
       "      <td>0.2416</td>\n",
       "      <td>0.1860</td>\n",
       "      <td>0.2750</td>\n",
       "      <td>0.08902</td>\n",
       "      <td>1</td>\n",
       "    </tr>\n",
       "    <tr>\n",
       "      <th>2</th>\n",
       "      <td>84300903</td>\n",
       "      <td>M</td>\n",
       "      <td>19.69</td>\n",
       "      <td>21.25</td>\n",
       "      <td>130.00</td>\n",
       "      <td>1203.0</td>\n",
       "      <td>0.10960</td>\n",
       "      <td>0.15990</td>\n",
       "      <td>0.1974</td>\n",
       "      <td>0.12790</td>\n",
       "      <td>...</td>\n",
       "      <td>25.53</td>\n",
       "      <td>152.50</td>\n",
       "      <td>1709.0</td>\n",
       "      <td>0.1444</td>\n",
       "      <td>0.4245</td>\n",
       "      <td>0.4504</td>\n",
       "      <td>0.2430</td>\n",
       "      <td>0.3613</td>\n",
       "      <td>0.08758</td>\n",
       "      <td>1</td>\n",
       "    </tr>\n",
       "    <tr>\n",
       "      <th>3</th>\n",
       "      <td>84348301</td>\n",
       "      <td>M</td>\n",
       "      <td>11.42</td>\n",
       "      <td>20.38</td>\n",
       "      <td>77.58</td>\n",
       "      <td>386.1</td>\n",
       "      <td>0.14250</td>\n",
       "      <td>0.28390</td>\n",
       "      <td>0.2414</td>\n",
       "      <td>0.10520</td>\n",
       "      <td>...</td>\n",
       "      <td>26.50</td>\n",
       "      <td>98.87</td>\n",
       "      <td>567.7</td>\n",
       "      <td>0.2098</td>\n",
       "      <td>0.8663</td>\n",
       "      <td>0.6869</td>\n",
       "      <td>0.2575</td>\n",
       "      <td>0.6638</td>\n",
       "      <td>0.17300</td>\n",
       "      <td>1</td>\n",
       "    </tr>\n",
       "    <tr>\n",
       "      <th>4</th>\n",
       "      <td>84358402</td>\n",
       "      <td>M</td>\n",
       "      <td>20.29</td>\n",
       "      <td>14.34</td>\n",
       "      <td>135.10</td>\n",
       "      <td>1297.0</td>\n",
       "      <td>0.10030</td>\n",
       "      <td>0.13280</td>\n",
       "      <td>0.1980</td>\n",
       "      <td>0.10430</td>\n",
       "      <td>...</td>\n",
       "      <td>16.67</td>\n",
       "      <td>152.20</td>\n",
       "      <td>1575.0</td>\n",
       "      <td>0.1374</td>\n",
       "      <td>0.2050</td>\n",
       "      <td>0.4000</td>\n",
       "      <td>0.1625</td>\n",
       "      <td>0.2364</td>\n",
       "      <td>0.07678</td>\n",
       "      <td>1</td>\n",
       "    </tr>\n",
       "  </tbody>\n",
       "</table>\n",
       "<p>5 rows × 33 columns</p>\n",
       "</div>"
      ],
      "text/plain": [
       "         id diagnosis  radius_mean  texture_mean  perimeter_mean  area_mean  \\\n",
       "0    842302         M        17.99         10.38          122.80     1001.0   \n",
       "1    842517         M        20.57         17.77          132.90     1326.0   \n",
       "2  84300903         M        19.69         21.25          130.00     1203.0   \n",
       "3  84348301         M        11.42         20.38           77.58      386.1   \n",
       "4  84358402         M        20.29         14.34          135.10     1297.0   \n",
       "\n",
       "   smoothness_mean  compactness_mean  concavity_mean  concave_mean  ...  \\\n",
       "0          0.11840           0.27760          0.3001       0.14710  ...   \n",
       "1          0.08474           0.07864          0.0869       0.07017  ...   \n",
       "2          0.10960           0.15990          0.1974       0.12790  ...   \n",
       "3          0.14250           0.28390          0.2414       0.10520  ...   \n",
       "4          0.10030           0.13280          0.1980       0.10430  ...   \n",
       "\n",
       "   texture_extreme  perimeter_extreme  area_extreme  smoothness_extreme  \\\n",
       "0            17.33             184.60        2019.0              0.1622   \n",
       "1            23.41             158.80        1956.0              0.1238   \n",
       "2            25.53             152.50        1709.0              0.1444   \n",
       "3            26.50              98.87         567.7              0.2098   \n",
       "4            16.67             152.20        1575.0              0.1374   \n",
       "\n",
       "   compactness_extreme  concavity_extreme  concave_extreme  symmetry_extreme  \\\n",
       "0               0.6656             0.7119           0.2654            0.4601   \n",
       "1               0.1866             0.2416           0.1860            0.2750   \n",
       "2               0.4245             0.4504           0.2430            0.3613   \n",
       "3               0.8663             0.6869           0.2575            0.6638   \n",
       "4               0.2050             0.4000           0.1625            0.2364   \n",
       "\n",
       "   fractal_extreme  label  \n",
       "0          0.11890      1  \n",
       "1          0.08902      1  \n",
       "2          0.08758      1  \n",
       "3          0.17300      1  \n",
       "4          0.07678      1  \n",
       "\n",
       "[5 rows x 33 columns]"
      ]
     },
     "execution_count": 2,
     "metadata": {},
     "output_type": "execute_result"
    }
   ],
   "source": [
    "data = pd.read_csv(\"https://raw.githubusercontent.com/changyaochen/MECE4520/master/lectures/lecture_4/breast_cancer_data.csv\")\n",
    "data[\"label\"] = data[\"diagnosis\"].apply(lambda x: 0 if x == \"B\" else 1)\n",
    "data.head()"
   ]
  },
  {
   "cell_type": "markdown",
   "id": "b66a9935",
   "metadata": {},
   "source": [
    "## Forward propagation of a 2-layer NN"
   ]
  },
  {
   "cell_type": "code",
   "execution_count": 3,
   "id": "83b3bc42",
   "metadata": {
    "ExecuteTime": {
     "end_time": "2021-11-08T05:30:36.461187Z",
     "start_time": "2021-11-08T05:30:36.452582Z"
    }
   },
   "outputs": [],
   "source": [
    "features = [\n",
    "    \"radius_mean\",\n",
    "    \"texture_mean\",\n",
    "    \"perimeter_mean\",\n",
    "    \"area_mean\",\n",
    "    \"smoothness_mean\",\n",
    "    \"compactness_mean\",\n",
    "    \"concavity_mean\",\n",
    "    \"concave_mean\",\n",
    "    \"symmetry_mean\",\n",
    "    \"fractal_mean\",\n",
    "]\n",
    "label = \"label\"\n",
    "\n",
    "# train test split\n",
    "X_raw, X_raw_test, Y, Y_test = train_test_split(data[features].values, data[label].values, test_size=0.2, random_state=42)\n",
    "\n",
    "# Standardize the input\n",
    "scaler = StandardScaler()\n",
    "scaler.fit(X_raw)\n",
    "X = scaler.transform(X_raw)\n",
    "X_test = scaler.transform(X_raw_test)\n",
    "\n",
    "# formatting\n",
    "Y = Y.reshape((-1, 1))\n",
    "Y_test = Y_test.reshape((-1, 1))"
   ]
  },
  {
   "cell_type": "code",
   "execution_count": 4,
   "id": "61e91b03",
   "metadata": {
    "ExecuteTime": {
     "end_time": "2021-11-08T05:30:38.324219Z",
     "start_time": "2021-11-08T05:30:38.312448Z"
    }
   },
   "outputs": [
    {
     "name": "stdout",
     "output_type": "stream",
     "text": [
      "Shape of W_1 is (3, 10)\n",
      "Shape of b_1 is (3, 1)\n",
      "Shape of W_2 is (1, 3)\n",
      "Shape of b_1 is (1, 1)\n",
      "\n",
      "Shape of Z_1 is (455, 3)\n",
      "Samples for Z_1:\n",
      "[[ 0.16410112 -4.76306361  3.93309998]\n",
      " [-0.46604358  4.1992739   9.5658238 ]\n",
      " [-1.60754809 -0.23753874 -1.01727238]\n",
      " [ 1.37695245  2.28649564 -5.09016965]\n",
      " [ 0.12721277  3.49293739  0.32441791]]\n",
      "Shape of A_1 is (455, 3)\n",
      "Samples for A_1:\n",
      "[[0.47421887 0.00490603 0.98314001]\n",
      " [0.32445766 0.97466643 0.99993863]\n",
      " [0.13297977 0.31284592 0.29223288]\n",
      " [0.75206111 0.85032936 0.00698167]\n",
      " [0.46503108 0.94996148 0.61233221]]\n",
      "\n",
      "Shape of Z_2 is (455, 1)\n",
      "Samples for Z_2:\n",
      "[[ 0.16410112 -4.76306361  3.93309998]\n",
      " [-0.46604358  4.1992739   9.5658238 ]\n",
      " [-1.60754809 -0.23753874 -1.01727238]\n",
      " [ 1.37695245  2.28649564 -5.09016965]\n",
      " [ 0.12721277  3.49293739  0.32441791]]\n",
      "Shape of A_2 is (455, 1)\n",
      "Samples for A_2:\n",
      "[[0.59207723]\n",
      " [0.84761911]\n",
      " [0.69066552]\n",
      " [0.76062638]\n",
      " [0.82363926]]\n"
     ]
    }
   ],
   "source": [
    "# forward pass for a simple 2-layer NN, with 3 hidden units\n",
    "np.random.seed(10)\n",
    "\n",
    "def sigmoid(x):\n",
    "    \"\"\"Calculates sigmoid function.\"\"\"\n",
    "    return 1. / (1 + np.exp(-x))\n",
    "\n",
    "# parameters for the first layer\n",
    "W_1 = np.random.normal(size=(3, X.shape[1]))\n",
    "print(f\"Shape of W_1 is {W_1.shape}\")\n",
    "\n",
    "b_1 = np.random.normal(size=(3, 1))\n",
    "print(f\"Shape of b_1 is {b_1.shape}\")\n",
    "\n",
    "# parameters for the second layer\n",
    "W_2 = np.random.normal(size=(1, 3))\n",
    "print(f\"Shape of W_2 is {W_2.shape}\")\n",
    "\n",
    "b_2 = np.random.normal(size=(1, 1))\n",
    "print(f\"Shape of b_1 is {b_2.shape}\")\n",
    "\n",
    "# calculate the forward propagation\n",
    "Z_1 = X @ W_1.T\n",
    "print(f\"\\nShape of Z_1 is {Z_1.shape}\")\n",
    "print(\"Samples for Z_1:\")\n",
    "print(Z_1[:5])\n",
    "\n",
    "A_1 = sigmoid(Z_1 + b_1.T) \n",
    "print(f\"Shape of A_1 is {A_1.shape}\")\n",
    "print(\"Samples for A_1:\")\n",
    "print(A_1[:5])\n",
    "\n",
    "Z_2 = A_1 @ W_2.T\n",
    "print(f\"\\nShape of Z_2 is {Z_2.shape}\")\n",
    "print(\"Samples for Z_2:\")\n",
    "print(Z_1[:5])\n",
    "\n",
    "A_2 = Y_hat = sigmoid(Z_2 + b_2.T)\n",
    "print(f\"Shape of A_2 is {A_2.shape}\")\n",
    "print(\"Samples for A_2:\")\n",
    "print(A_2[:5])"
   ]
  },
  {
   "cell_type": "markdown",
   "id": "57b7fd37",
   "metadata": {},
   "source": [
    "## Training a NN with backward propagation"
   ]
  },
  {
   "cell_type": "code",
   "execution_count": 5,
   "id": "99f5c368",
   "metadata": {
    "ExecuteTime": {
     "end_time": "2021-11-08T05:30:39.199951Z",
     "start_time": "2021-11-08T05:30:39.194453Z"
    }
   },
   "outputs": [],
   "source": [
    "def forward_prop(\n",
    "    X: np.array,\n",
    "    W_1: np.array,\n",
    "    b_1: np.array,\n",
    "    W_2: np.array,\n",
    "    b_2: np.array,\n",
    ") -> Tuple:\n",
    "    \"\"\"Performs the forward propagation of the given NN.\"\"\"\n",
    "    # Note the NN structure is passed in from outside.\n",
    "    Z_1 = X @ W_1.T\n",
    "    A_1 = sigmoid(Z_1 + b_1.T)\n",
    "    \n",
    "    Z_2 = A_1 @ W_2.T\n",
    "    A_2 = Y = sigmoid(Z_2 + b_2.T)\n",
    "    \n",
    "    return A_2, Z_2, A_1, Z_1\n",
    "\n",
    "Y_hat, _, _, _ = forward_prop(X=X, W_1=W_1, b_1=b_1, W_2=W_2, b_2=b_2)"
   ]
  },
  {
   "cell_type": "code",
   "execution_count": 6,
   "id": "e37acb87",
   "metadata": {
    "ExecuteTime": {
     "end_time": "2021-11-08T05:30:39.531194Z",
     "start_time": "2021-11-08T05:30:39.522853Z"
    }
   },
   "outputs": [],
   "source": [
    "def derivatives_by_backprop(\n",
    "    X: np.array,\n",
    "    Y: np.array,\n",
    "    W_1: np.array,\n",
    "    b_1: np.array,\n",
    "    W_2: np.array,\n",
    "    b_2: np.array,\n",
    ") -> Tuple:\n",
    "    \"\"\"Calculates the derivatives of the parameters by backforward propagation.\n",
    "    \n",
    "    Here we assume it is a binary classification problem, with sigmoid activation functions.\n",
    "    \"\"\"\n",
    "    # forward propagation\n",
    "    dW_2, db_2, dW_1, db_1 = 0, 0, 0, 0\n",
    "    Y_hat, Z_2, A_1, Z_1 = forward_prop(X=X, W_1=W_1, b_1=b_1, W_2=W_2, b_2=b_2)\n",
    "    n = len(Y_hat)\n",
    "    \n",
    "    loss = -np.mean(np.multiply(Y, np.log(Y_hat)) + np.multiply(1 - Y, np.log(1 - Y_hat)))\n",
    "    \n",
    "    dZ_2 = Y_hat - Y\n",
    "    dW_2 = dZ_2.T @ A_1 / n\n",
    "    db_2 = np.mean(dZ_2.T, axis=1, keepdims=True) \n",
    "    \n",
    "    dZ_1 = np.multiply(dZ_2 @ W_2, np.multiply(A_1, 1 - A_1))\n",
    "    dW_1 = (dZ_1.T @ X) / n\n",
    "    db_1 = np.mean(dZ_1.T, axis=1, keepdims=True) \n",
    "    \n",
    "    return dW_2, db_2, dW_1, db_1, loss\n",
    "\n",
    "dW_2, db_2, dW_1, db_1, loss = derivatives_by_backprop(X=X, Y=Y, W_1=W_1, b_1=b_1, W_2=W_2, b_2=b_2)    "
   ]
  },
  {
   "cell_type": "code",
   "execution_count": 7,
   "id": "2de336b0",
   "metadata": {
    "ExecuteTime": {
     "end_time": "2021-11-08T05:30:39.907568Z",
     "start_time": "2021-11-08T05:30:39.898704Z"
    }
   },
   "outputs": [],
   "source": [
    "def gradient_descent(\n",
    "    X: np.array,\n",
    "    Y: np.array,\n",
    "    W_1_init: np.array,\n",
    "    b_1_init: np.array,\n",
    "    W_2_init: np.array,\n",
    "    b_2_init: np.array,\n",
    "    learning_rate: float = 0.01,\n",
    "    epsilon: float = 1e-6,\n",
    "    verbose: bool = False,\n",
    ") -> Tuple:\n",
    "    \"\"\"Runs gradient descent to fit the NN via backprop.\"\"\"\n",
    "    W_1 = W_1_init\n",
    "    b_1 = b_1_init\n",
    "    W_2 = W_2_init\n",
    "    b_2 = b_2_init\n",
    "    losses = [float(\"inf\"), ]\n",
    "    roc_auc_scores = [0.5, ]\n",
    "    \n",
    "    diff_in_loss = float(\"inf\")\n",
    "    iteration = 0\n",
    "    while abs(diff_in_loss) > epsilon:\n",
    "        iteration += 1\n",
    "        dW_2, db_2, dW_1, db_1, loss = derivatives_by_backprop(\n",
    "            X=X, Y=Y, W_1=W_1, b_1=b_1, W_2=W_2, b_2=b_2\n",
    "        ) \n",
    "        \n",
    "        W_1 -= learning_rate * dW_1\n",
    "        b_1 -= learning_rate * db_1\n",
    "        W_2 -= learning_rate * dW_2\n",
    "        b_2 -= learning_rate * db_2\n",
    "        \n",
    "        losses.append(loss)\n",
    "        diff_in_loss = losses[-1] - losses[-2]\n",
    "        \n",
    "        Y_hat, _, _, _ = forward_prop(X=X, W_1=W_1, b_1=b_1, W_2=W_2, b_2=b_2)\n",
    "        roc_auc = roc_auc_score(y_true=Y, y_score=Y_hat)\n",
    "        roc_auc_scores.append(roc_auc)\n",
    "        \n",
    "        if verbose and iteration % 10 == 0:\n",
    "            print(loss, roc_auc)\n",
    "    return W_1, b_1, W_2, b_2, losses"
   ]
  },
  {
   "cell_type": "code",
   "execution_count": 8,
   "id": "893b0001",
   "metadata": {
    "ExecuteTime": {
     "end_time": "2021-11-08T05:38:08.847636Z",
     "start_time": "2021-11-08T05:38:08.605916Z"
    }
   },
   "outputs": [
    {
     "name": "stdout",
     "output_type": "stream",
     "text": [
      "0.783355706236572 0.1278603053750983\n",
      "0.6919297915722732 0.40731162328795467\n",
      "0.6221831830749797 0.7705341995282824\n",
      "0.5667720895357118 0.8880498200024827\n",
      "0.5215585720622693 0.9298423470021102\n",
      "0.48399626055251443 0.9451111019158357\n",
      "0.4523753008520904 0.9553523399677246\n",
      "0.4254695544919871 0.9608557123350022\n",
      "0.4023620540738291 0.9643729052013075\n",
      "0.3823494894203707 0.9665039102908926\n",
      "0.3648838371694929 0.9681383705052344\n",
      "0.3495334179228035 0.9694211114329457\n",
      "0.3359553890933617 0.9708693673190715\n",
      "0.32387555184301897 0.9714279803037199\n",
      "0.3130730233613099 0.9721107295071791\n"
     ]
    }
   ],
   "source": [
    "# parameters for the first layer\n",
    "np.random.seed(42)\n",
    "W_1_init = np.random.normal(size=(3, X.shape[1]))\n",
    "b_1_init = np.random.normal(size=(3, 1))\n",
    "\n",
    "# parameters for the second layer\n",
    "W_2_init = np.random.normal(size=(1, 3))\n",
    "b_2_init = np.random.normal(size=(1, 1))\n",
    "\n",
    "W_1, b_1, W_2, b_2, losses = gradient_descent(\n",
    "    X=X,\n",
    "    Y=Y,\n",
    "    W_1_init=W_1_init,\n",
    "    b_1_init=b_1_init,\n",
    "    W_2_init=W_2_init,\n",
    "    b_2_init=b_2_init,\n",
    "    learning_rate=0.1,\n",
    "    epsilon=1e-3,\n",
    "    verbose=True,\n",
    ")"
   ]
  },
  {
   "cell_type": "code",
   "execution_count": 9,
   "id": "5760f7d2",
   "metadata": {
    "ExecuteTime": {
     "end_time": "2021-11-08T05:36:40.907264Z",
     "start_time": "2021-11-08T05:36:40.899968Z"
    }
   },
   "outputs": [
    {
     "data": {
      "text/plain": [
       "0.9905011464133638"
      ]
     },
     "execution_count": 9,
     "metadata": {},
     "output_type": "execute_result"
    }
   ],
   "source": [
    "# evaluate the model on the test set\n",
    "Y_test_hat, _, _, _ = forward_prop(X=X_test, W_1=W_1, b_1=b_1, W_2=W_2, b_2=b_2)\n",
    "roc_auc_score(y_true=Y_test, y_score=Y_test_hat)"
   ]
  },
  {
   "cell_type": "code",
   "execution_count": 10,
   "id": "4e9ad370",
   "metadata": {
    "ExecuteTime": {
     "end_time": "2021-11-08T05:37:49.042801Z",
     "start_time": "2021-11-08T05:37:48.108037Z"
    }
   },
   "outputs": [
    {
     "name": "stderr",
     "output_type": "stream",
     "text": [
      "2021-11-08 01:04:07.424834: I tensorflow/core/platform/cpu_feature_guard.cc:142] This TensorFlow binary is optimized with oneAPI Deep Neural Network Library (oneDNN) to use the following CPU instructions in performance-critical operations:  AVX2 FMA\n",
      "To enable them in other operations, rebuild TensorFlow with the appropriate compiler flags.\n",
      "2021-11-08 01:04:07.490654: I tensorflow/compiler/mlir/mlir_graph_optimization_pass.cc:185] None of the MLIR Optimization Passes are enabled (registered 2)\n"
     ]
    },
    {
     "name": "stdout",
     "output_type": "stream",
     "text": [
      "Epoch 1/20\n",
      "15/15 [==============================] - 1s 20ms/step - loss: 0.6317 - auc: 0.7738 - val_loss: 0.6275 - val_auc: 0.7927\n",
      "Epoch 2/20\n",
      "15/15 [==============================] - 0s 5ms/step - loss: 0.6168 - auc: 0.8345 - val_loss: 0.6129 - val_auc: 0.8447\n",
      "Epoch 3/20\n",
      "15/15 [==============================] - 0s 5ms/step - loss: 0.6028 - auc: 0.8680 - val_loss: 0.5992 - val_auc: 0.8768\n",
      "Epoch 4/20\n",
      "15/15 [==============================] - 0s 5ms/step - loss: 0.5896 - auc: 0.8916 - val_loss: 0.5861 - val_auc: 0.9027\n",
      "Epoch 5/20\n",
      "15/15 [==============================] - 0s 5ms/step - loss: 0.5771 - auc: 0.9107 - val_loss: 0.5735 - val_auc: 0.9160\n",
      "Epoch 6/20\n",
      "15/15 [==============================] - 0s 5ms/step - loss: 0.5651 - auc: 0.9250 - val_loss: 0.5612 - val_auc: 0.9307\n",
      "Epoch 7/20\n",
      "15/15 [==============================] - 0s 5ms/step - loss: 0.5536 - auc: 0.9350 - val_loss: 0.5498 - val_auc: 0.9412\n",
      "Epoch 8/20\n",
      "15/15 [==============================] - 0s 5ms/step - loss: 0.5431 - auc: 0.9413 - val_loss: 0.5385 - val_auc: 0.9492\n",
      "Epoch 9/20\n",
      "15/15 [==============================] - 0s 5ms/step - loss: 0.5327 - auc: 0.9482 - val_loss: 0.5279 - val_auc: 0.9540\n",
      "Epoch 10/20\n",
      "15/15 [==============================] - 0s 11ms/step - loss: 0.5224 - auc: 0.9512 - val_loss: 0.5178 - val_auc: 0.9577\n",
      "Epoch 11/20\n",
      "15/15 [==============================] - 0s 9ms/step - loss: 0.5130 - auc: 0.9551 - val_loss: 0.5079 - val_auc: 0.9602\n",
      "Epoch 12/20\n",
      "15/15 [==============================] - 0s 7ms/step - loss: 0.5038 - auc: 0.9568 - val_loss: 0.4983 - val_auc: 0.9645\n",
      "Epoch 13/20\n",
      "15/15 [==============================] - 0s 7ms/step - loss: 0.4948 - auc: 0.9594 - val_loss: 0.4893 - val_auc: 0.9664\n",
      "Epoch 14/20\n",
      "15/15 [==============================] - 0s 4ms/step - loss: 0.4864 - auc: 0.9609 - val_loss: 0.4806 - val_auc: 0.9689\n",
      "Epoch 15/20\n",
      "15/15 [==============================] - 0s 8ms/step - loss: 0.4780 - auc: 0.9622 - val_loss: 0.4719 - val_auc: 0.9707\n",
      "Epoch 16/20\n",
      "15/15 [==============================] - 0s 5ms/step - loss: 0.4698 - auc: 0.9630 - val_loss: 0.4632 - val_auc: 0.9726\n",
      "Epoch 17/20\n",
      "15/15 [==============================] - 0s 6ms/step - loss: 0.4616 - auc: 0.9648 - val_loss: 0.4549 - val_auc: 0.9754\n",
      "Epoch 18/20\n",
      "15/15 [==============================] - 0s 6ms/step - loss: 0.4537 - auc: 0.9658 - val_loss: 0.4468 - val_auc: 0.9761\n",
      "Epoch 19/20\n",
      "15/15 [==============================] - 0s 6ms/step - loss: 0.4462 - auc: 0.9664 - val_loss: 0.4388 - val_auc: 0.9777\n",
      "Epoch 20/20\n",
      "15/15 [==============================] - 0s 5ms/step - loss: 0.4386 - auc: 0.9673 - val_loss: 0.4311 - val_auc: 0.9792\n"
     ]
    }
   ],
   "source": [
    "# train a NN with Keras\n",
    "from tensorflow import keras\n",
    "from tensorflow.keras import layers\n",
    "\n",
    "def keras_model(nn_size: int, num_features: int, num_layers: int):\n",
    "    \"\"\"Creates a simple Keras model.\"\"\"\n",
    "    inputs = keras.Input(\n",
    "        shape=(num_features, ), name=\"inputs\")\n",
    "    x = inputs\n",
    "    for i in range(num_layers):\n",
    "        x = layers.Dense(\n",
    "            nn_size, activation=\"sigmoid\", name=f\"desnse_layer_{i}\")(x)\n",
    "\n",
    "    outputs = layers.Dense(\n",
    "        1, activation=\"sigmoid\", name=\"output\")(x)\n",
    "\n",
    "    model = keras.Model(\n",
    "        inputs=inputs, outputs=outputs, name=\"simple_model\")\n",
    "    model.compile(\n",
    "        optimizer=\"adam\",\n",
    "        loss=\"binary_crossentropy\",\n",
    "        metrics=[\"AUC\"])\n",
    "    return model\n",
    "\n",
    "model = keras_model(nn_size=3, num_features=X.shape[1], num_layers=1)\n",
    "history = model.fit(\n",
    "    x=X,\n",
    "    y=Y,\n",
    "    batch_size=32,\n",
    "    epochs=20,\n",
    "    validation_data=(X_test, Y_test),\n",
    "    verbose=1,\n",
    "    shuffle=True,\n",
    ")"
   ]
  },
  {
   "cell_type": "code",
   "execution_count": 11,
   "id": "c2de337c",
   "metadata": {
    "ExecuteTime": {
     "end_time": "2021-11-08T05:37:51.398657Z",
     "start_time": "2021-11-08T05:37:51.329772Z"
    }
   },
   "outputs": [
    {
     "data": {
      "text/plain": [
       "0.9790370127743204"
      ]
     },
     "execution_count": 11,
     "metadata": {},
     "output_type": "execute_result"
    }
   ],
   "source": [
    "# evaluate the model on the test set\n",
    "roc_auc_score(y_true=Y_test, y_score=model.predict(X_test))"
   ]
  }
 ],
 "metadata": {
  "kernelspec": {
   "display_name": "Python 3 (ipykernel)",
   "language": "python",
   "name": "python3"
  },
  "language_info": {
   "codemirror_mode": {
    "name": "ipython",
    "version": 3
   },
   "file_extension": ".py",
   "mimetype": "text/x-python",
   "name": "python",
   "nbconvert_exporter": "python",
   "pygments_lexer": "ipython3",
   "version": "3.7.11"
  },
  "toc": {
   "base_numbering": 1,
   "nav_menu": {},
   "number_sections": false,
   "sideBar": true,
   "skip_h1_title": false,
   "title_cell": "Table of Contents",
   "title_sidebar": "Contents",
   "toc_cell": true,
   "toc_position": {},
   "toc_section_display": true,
   "toc_window_display": true
  }
 },
 "nbformat": 4,
 "nbformat_minor": 5
}
