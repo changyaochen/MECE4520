{
    "cells": [
        {
            "cell_type": "code",
            "execution_count": null,
            "id": "45b8ea81",
            "metadata": {},
            "outputs": [],
            "source": [
                "from __future__ import annotations\n",
                "\n",
                "# test imports\n",
                "import matplotlib.pyplot as plt\n",
                "import numpy as np\n",
                "import pandas as pd\n",
                "import sklearn"
            ]
        },
        {
            "cell_type": "code",
            "execution_count": null,
            "id": "114593cf",
            "metadata": {},
            "outputs": [],
            "source": [
                "print(f\"The version of numpy is: {np.__version__}\")\n",
                "print(f\"The version of pandas is: {pd.__version__}\")\n",
                "print(f\"The version of scikit-learn is: {sklearn.__version__}\")"
            ]
        },
        {
            "cell_type": "markdown",
            "id": "63d2d7d8",
            "metadata": {},
            "source": [
                "You should see the versions of the libraries installed in your environment. \n",
                "If you are using the local virtual environment set up by docker, \n",
                "you might see different versions. That is totally fine."
            ]
        },
        {
            "cell_type": "markdown",
            "id": "3cdc04c7",
            "metadata": {},
            "source": [
                "## Variables"
            ]
        },
        {
            "cell_type": "code",
            "execution_count": null,
            "id": "8db3d9ea",
            "metadata": {},
            "outputs": [],
            "source": [
                "number_1 = 1\n",
                "number_2 = 2.0\n",
                "print(number_1)\n",
                "print(type(number_1))\n",
                "print(number_2)\n",
                "print(type(number_2))"
            ]
        },
        {
            "cell_type": "code",
            "execution_count": null,
            "id": "74d6a193",
            "metadata": {},
            "outputs": [],
            "source": [
                "string_1 = \"hello\"\n",
                "string_2 = \"hello world\"\n",
                "\n",
                "print(string_1)\n",
                "print(type(string_1))\n",
                "print(string_2)\n",
                "print(type(string_2))"
            ]
        },
        {
            "cell_type": "code",
            "execution_count": null,
            "id": "deb21b6c",
            "metadata": {},
            "outputs": [],
            "source": [
                "list_1 = [1, 2, 3]\n",
                "\n",
                "print(list_1)\n",
                "print(len(list_1))\n",
                "print(f\"The second element in the list is: {list_1[1]}\")\n",
                "print(f\"The last element in the list is: {list_1[-1]}\")"
            ]
        },
        {
            "cell_type": "code",
            "execution_count": null,
            "id": "20b98b33",
            "metadata": {},
            "outputs": [],
            "source": [
                "list_2 = [\"hello\", \"world\", \"1\", 1]\n",
                "\n",
                "print(list_2)"
            ]
        },
        {
            "cell_type": "code",
            "execution_count": null,
            "id": "ca18c6aa",
            "metadata": {},
            "outputs": [],
            "source": [
                "dict_1 = {\n",
                "    \"class_number\": \"MECE2020\",\n",
                "    \"class_capacity\": 150,\n",
                "}"
            ]
        },
        {
            "cell_type": "code",
            "execution_count": null,
            "id": "cf184092",
            "metadata": {},
            "outputs": [],
            "source": [
                "print(type(dict_1))\n",
                "print(dict_1[\"class_capacity\"])"
            ]
        },
        {
            "cell_type": "markdown",
            "id": "e3249ff2",
            "metadata": {},
            "source": [
                "## Operators"
            ]
        },
        {
            "cell_type": "code",
            "execution_count": null,
            "id": "5695529e",
            "metadata": {},
            "outputs": [],
            "source": [
                "number_1 + number_2"
            ]
        },
        {
            "cell_type": "code",
            "execution_count": null,
            "id": "50d5d928",
            "metadata": {},
            "outputs": [],
            "source": [
                "# this will fail\n",
                "list_1 / number_1"
            ]
        },
        {
            "cell_type": "code",
            "execution_count": null,
            "id": "9b16b01e",
            "metadata": {},
            "outputs": [],
            "source": [
                "number_1 >= number_2"
            ]
        },
        {
            "cell_type": "code",
            "execution_count": null,
            "id": "da365c0b",
            "metadata": {},
            "outputs": [],
            "source": [
                "len(list_2[0]) == len(list_2[1])"
            ]
        },
        {
            "cell_type": "code",
            "execution_count": null,
            "id": "01452595",
            "metadata": {},
            "outputs": [],
            "source": [
                "(len(list_2[0]) == len(list_2[1])) and False"
            ]
        },
        {
            "cell_type": "markdown",
            "id": "67f19e86",
            "metadata": {},
            "source": [
                "## Control Structures"
            ]
        },
        {
            "cell_type": "code",
            "execution_count": null,
            "id": "13482143",
            "metadata": {},
            "outputs": [],
            "source": [
                "wether_today = \"raining\"\n",
                "\n",
                "if wether_today == \"raining\":\n",
                "    print(\"Bring an umbrella!\")\n",
                "elif wether_today == \"sunny\":\n",
                "    print(\"Enjoy the sun!\")\n",
                "else:\n",
                "    print(\"What is the wether today?\")"
            ]
        },
        {
            "cell_type": "code",
            "execution_count": null,
            "id": "01d27c0b",
            "metadata": {},
            "outputs": [],
            "source": [
                "for i in range(10):\n",
                "    print(\"The number is:\", i)"
            ]
        },
        {
            "cell_type": "code",
            "execution_count": null,
            "id": "eab5171b",
            "metadata": {},
            "outputs": [],
            "source": [
                "i = 0\n",
                "while i < 10:\n",
                "    print(\"The number is:\", i)\n",
                "    i += 1"
            ]
        },
        {
            "cell_type": "markdown",
            "id": "11b713df",
            "metadata": {},
            "source": [
                "## List comprehension"
            ]
        },
        {
            "cell_type": "code",
            "execution_count": null,
            "id": "aa131c8f",
            "metadata": {},
            "outputs": [],
            "source": [
                "list_3 = []\n",
                "for i in range(10):\n",
                "    list_3.append(i**2)\n",
                "\n",
                "list_3"
            ]
        },
        {
            "cell_type": "code",
            "execution_count": null,
            "id": "9263a1f4",
            "metadata": {},
            "outputs": [],
            "source": [
                "list_4 = [i**2 for i in range(10)]\n",
                "print(list_4)"
            ]
        },
        {
            "cell_type": "code",
            "execution_count": null,
            "id": "60723f55",
            "metadata": {},
            "outputs": [],
            "source": [
                "list_5 = [1.25, -9.45, 10.22, 3.78, -5.92, 1.16]\n",
                "list_6 = [x if x > 0 else 0 for x in list_5]\n",
                "\n",
                "list_6"
            ]
        },
        {
            "cell_type": "code",
            "execution_count": null,
            "id": "78ab2f52-107d-48e1-93c6-91fc1b22ee74",
            "metadata": {},
            "outputs": [],
            "source": [
                "[x / number_1 for x in list_1]"
            ]
        },
        {
            "cell_type": "markdown",
            "id": "697b044b",
            "metadata": {},
            "source": [
                "## Function"
            ]
        },
        {
            "cell_type": "code",
            "execution_count": null,
            "id": "24035906",
            "metadata": {},
            "outputs": [],
            "source": [
                "def add(number_1: float, number_2: float) -> float:\n",
                "    \"\"\"Adds two numbers.\"\"\"\n",
                "    return number_1 + number_2\n",
                "\n",
                "add(1, 2)"
            ]
        },
        {
            "cell_type": "code",
            "execution_count": null,
            "id": "5ef5bcfb",
            "metadata": {},
            "outputs": [],
            "source": [
                "def square_root(x: float) -> float:\n",
                "    \"\"\"Calcuates the square root of the input using Newton's method.\n",
                "    \n",
                "    Args:\n",
                "        x (float): The input number, must be greater or equal to zero.\n",
                "    \n",
                "    Returns:\n",
                "        (float): Sqaure root of the input.\n",
                "    \n",
                "    Raises:\n",
                "        ValueError: If the input number is negative.\n",
                "    \"\"\"\n",
                "    if x < 0:\n",
                "        raise ValueError(\"The input number can not be negative.\")\n",
                "    \n",
                "    def get_next_guess(current_guess: float) -> float:\n",
                "        \"\"\"Gets next guess using Newton's method.\"\"\"\n",
                "        return 0.5 * (current_guess + x / current_guess)\n",
                "    \n",
                "    epislon = 1e-5\n",
                "    current_guess = x\n",
                "    next_guess = get_next_guess(current_guess)\n",
                "    \n",
                "    while abs(current_guess - next_guess) > epislon:\n",
                "        current_guess = next_guess\n",
                "        next_guess = get_next_guess(current_guess)\n",
                "        \n",
                "    return next_guess"
            ]
        },
        {
            "cell_type": "code",
            "execution_count": null,
            "id": "09460e81",
            "metadata": {},
            "outputs": [],
            "source": [
                "square_root(3)"
            ]
        },
        {
            "cell_type": "markdown",
            "id": "19614254",
            "metadata": {},
            "source": [
                "## Class"
            ]
        },
        {
            "cell_type": "code",
            "execution_count": null,
            "id": "2f41b720",
            "metadata": {},
            "outputs": [],
            "source": [
                "class Person:\n",
                "    \"\"\"A simple class.\"\"\"\n",
                "    def __init__(self, name: str):\n",
                "        self.name = name\n",
                "    \n",
                "    def say(self, words: str):\n",
                "        \"\"\"Says something.\"\"\"\n",
                "        print(f\"{self.name} says: {words}\")\n",
                "        \n",
                "    def pat(self, person: Person):\n",
                "        \"\"\"Pats another person.\"\"\"\n",
                "        print(f\"{self.name} pats {person.name}'s shoulder.\")"
            ]
        },
        {
            "cell_type": "code",
            "execution_count": null,
            "id": "55525b12",
            "metadata": {},
            "outputs": [],
            "source": [
                "person_1 = Person(\"John Doe\")\n",
                "person_1.say(\"Hello!\")"
            ]
        },
        {
            "cell_type": "code",
            "execution_count": null,
            "id": "90a1c3ce",
            "metadata": {},
            "outputs": [],
            "source": [
                "person_2 = Person(\"Jane Doe\")\n",
                "person_2.say(\"Hello too!\")"
            ]
        },
        {
            "cell_type": "code",
            "execution_count": null,
            "id": "76b2dba0",
            "metadata": {},
            "outputs": [],
            "source": [
                "person_1.pat(person_2)"
            ]
        },
        {
            "cell_type": "markdown",
            "id": "d3552280",
            "metadata": {},
            "source": [
                "## Using `pandas`"
            ]
        },
        {
            "cell_type": "code",
            "execution_count": null,
            "id": "e8ef213a",
            "metadata": {},
            "outputs": [],
            "source": [
                "data = pd.read_csv(\"https://raw.githubusercontent.com/changyaochen/MECE4520/master/data/iris.csv\")\n",
                "data.head()"
            ]
        },
        {
            "cell_type": "code",
            "execution_count": null,
            "id": "01d8afce",
            "metadata": {},
            "outputs": [],
            "source": [
                "data.shape"
            ]
        },
        {
            "cell_type": "code",
            "execution_count": null,
            "id": "33192026",
            "metadata": {},
            "outputs": [],
            "source": [
                "# some simple data aggregation\n",
                "data[\"Species\"].value_counts()"
            ]
        },
        {
            "cell_type": "code",
            "execution_count": null,
            "id": "17084145",
            "metadata": {},
            "outputs": [],
            "source": [
                "data.groupby(\"Species\")[\"SepalLengthCm\"].mean()"
            ]
        },
        {
            "cell_type": "code",
            "execution_count": null,
            "id": "cbc56d37",
            "metadata": {},
            "outputs": [],
            "source": [
                "# Some simple visualization\n",
                "# If you run this on Google Colab, change `widget` to `inline`\n",
                "%matplotlib widget\n",
                "\n",
                "plt.scatter(x=data[\"SepalLengthCm\"], y=data[\"SepalWidthCm\"])\n",
                "plt.xlabel(\"SepalLengthCm\")\n",
                "plt.ylabel(\"SepalWidthCm\")\n",
                "plt.tight_layout()\n",
                "plt.show()"
            ]
        },
        {
            "cell_type": "code",
            "execution_count": null,
            "id": "74c8ab26-f959-4973-8f2b-91e3164bbd1d",
            "metadata": {},
            "outputs": [],
            "source": []
        }
    ],
    "metadata": {
        "kernelspec": {
            "display_name": "Python 3 (ipykernel)",
            "language": "python",
            "name": "python3"
        },
        "language_info": {
            "codemirror_mode": {
                "name": "ipython",
                "version": 3
            },
            "file_extension": ".py",
            "mimetype": "text/x-python",
            "name": "python",
            "nbconvert_exporter": "python",
            "pygments_lexer": "ipython3",
            "version": "3.10.9"
        },
        "vscode": {
            "interpreter": {
                "hash": "665970a3d761a4f255ecde32808731f9b2ef62c954e47b5b53ad070c6557cd9d"
            }
        }
    },
    "nbformat": 4,
    "nbformat_minor": 5
}
