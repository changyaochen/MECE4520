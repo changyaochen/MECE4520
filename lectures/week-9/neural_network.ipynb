{
 "cells": [
  {
   "cell_type": "code",
   "execution_count": null,
   "id": "89936266",
   "metadata": {
    "ExecuteTime": {
     "end_time": "2021-11-08T05:30:34.883988Z",
     "start_time": "2021-11-08T05:30:34.261448Z"
    }
   },
   "outputs": [],
   "source": [
    "from typing import Tuple\n",
    "\n",
    "import numpy as np\n",
    "import pandas as pd\n",
    "\n",
    "from sklearn.metrics import roc_auc_score\n",
    "from sklearn.model_selection import train_test_split\n",
    "from sklearn.preprocessing import StandardScaler"
   ]
  },
  {
   "cell_type": "code",
   "execution_count": null,
   "id": "e4cb5e42",
   "metadata": {
    "ExecuteTime": {
     "end_time": "2021-11-08T05:30:35.604692Z",
     "start_time": "2021-11-08T05:30:35.324320Z"
    }
   },
   "outputs": [],
   "source": [
    "data = pd.read_csv(\"https://raw.githubusercontent.com/changyaochen/MECE4520/master/data/breast_cancer.csv\")\n",
    "data[\"label\"] = data[\"diagnosis\"].apply(lambda x: 0 if x == \"B\" else 1)\n",
    "data.head()"
   ]
  },
  {
   "cell_type": "markdown",
   "id": "b66a9935",
   "metadata": {},
   "source": [
    "## Forward propagation of a 2-layer NN"
   ]
  },
  {
   "cell_type": "code",
   "execution_count": null,
   "id": "83b3bc42",
   "metadata": {
    "ExecuteTime": {
     "end_time": "2021-11-08T05:30:36.461187Z",
     "start_time": "2021-11-08T05:30:36.452582Z"
    }
   },
   "outputs": [],
   "source": [
    "features = [\n",
    "    \"radius_mean\",\n",
    "    \"texture_mean\",\n",
    "    \"perimeter_mean\",\n",
    "    \"area_mean\",\n",
    "    \"smoothness_mean\",\n",
    "    \"compactness_mean\",\n",
    "    \"concavity_mean\",\n",
    "    \"concave_mean\",\n",
    "    \"symmetry_mean\",\n",
    "    \"fractal_mean\",\n",
    "]\n",
    "label = \"label\"\n",
    "\n",
    "# train test split\n",
    "X_raw, X_raw_test, Y, Y_test = train_test_split(data[features].values, data[label].values, test_size=0.2, random_state=42)\n",
    "\n",
    "# Standardize the input\n",
    "scaler = StandardScaler()\n",
    "scaler.fit(X_raw)\n",
    "X = scaler.transform(X_raw)\n",
    "X_test = scaler.transform(X_raw_test)\n",
    "\n",
    "# formatting\n",
    "Y = Y.reshape((-1, 1))\n",
    "Y_test = Y_test.reshape((-1, 1))"
   ]
  },
  {
   "cell_type": "code",
   "execution_count": null,
   "id": "61e91b03",
   "metadata": {
    "ExecuteTime": {
     "end_time": "2021-11-08T05:30:38.324219Z",
     "start_time": "2021-11-08T05:30:38.312448Z"
    }
   },
   "outputs": [],
   "source": [
    "# forward pass for a simple 2-layer NN, with 3 hidden units\n",
    "np.random.seed(10)\n",
    "\n",
    "def sigmoid(x):\n",
    "    \"\"\"Calculates sigmoid function.\"\"\"\n",
    "    return 1. / (1 + np.exp(-x))\n",
    "\n",
    "# parameters for the first layer\n",
    "W_1 = np.random.normal(size=(3, X.shape[1]))\n",
    "print(f\"Shape of W_1 is {W_1.shape}\")\n",
    "\n",
    "b_1 = np.random.normal(size=(3, 1))\n",
    "print(f\"Shape of b_1 is {b_1.shape}\")\n",
    "\n",
    "# parameters for the second layer\n",
    "W_2 = np.random.normal(size=(1, 3))\n",
    "print(f\"Shape of W_2 is {W_2.shape}\")\n",
    "\n",
    "b_2 = np.random.normal(size=(1, 1))\n",
    "print(f\"Shape of b_1 is {b_2.shape}\")\n",
    "\n",
    "# calculate the forward propagation\n",
    "Z_1 = X @ W_1.T\n",
    "print(f\"\\nShape of Z_1 is {Z_1.shape}\")\n",
    "print(\"Samples for Z_1:\")\n",
    "print(Z_1[:5])\n",
    "\n",
    "A_1 = sigmoid(Z_1 + b_1.T) \n",
    "print(f\"Shape of A_1 is {A_1.shape}\")\n",
    "print(\"Samples for A_1:\")\n",
    "print(A_1[:5])\n",
    "\n",
    "Z_2 = A_1 @ W_2.T\n",
    "print(f\"\\nShape of Z_2 is {Z_2.shape}\")\n",
    "print(\"Samples for Z_2:\")\n",
    "print(Z_1[:5])\n",
    "\n",
    "A_2 = Y_hat = sigmoid(Z_2 + b_2.T)\n",
    "print(f\"Shape of A_2 is {A_2.shape}\")\n",
    "print(\"Samples for A_2:\")\n",
    "print(A_2[:5])"
   ]
  },
  {
   "cell_type": "markdown",
   "id": "57b7fd37",
   "metadata": {},
   "source": [
    "## Training a NN with backward propagation"
   ]
  },
  {
   "cell_type": "code",
   "execution_count": null,
   "id": "99f5c368",
   "metadata": {
    "ExecuteTime": {
     "end_time": "2021-11-08T05:30:39.199951Z",
     "start_time": "2021-11-08T05:30:39.194453Z"
    }
   },
   "outputs": [],
   "source": [
    "def forward_prop(\n",
    "    X: np.array,\n",
    "    W_1: np.array,\n",
    "    b_1: np.array,\n",
    "    W_2: np.array,\n",
    "    b_2: np.array,\n",
    ") -> Tuple:\n",
    "    \"\"\"Performs the forward propagation of the given NN.\"\"\"\n",
    "    # Note the NN structure is passed in from outside.\n",
    "    Z_1 = X @ W_1.T\n",
    "    A_1 = sigmoid(Z_1 + b_1.T)\n",
    "    \n",
    "    Z_2 = A_1 @ W_2.T\n",
    "    A_2 = Y = sigmoid(Z_2 + b_2.T)\n",
    "    \n",
    "    return A_2, Z_2, A_1, Z_1\n",
    "\n",
    "Y_hat, _, _, _ = forward_prop(X=X, W_1=W_1, b_1=b_1, W_2=W_2, b_2=b_2)"
   ]
  },
  {
   "cell_type": "code",
   "execution_count": null,
   "id": "e37acb87",
   "metadata": {
    "ExecuteTime": {
     "end_time": "2021-11-08T05:30:39.531194Z",
     "start_time": "2021-11-08T05:30:39.522853Z"
    }
   },
   "outputs": [],
   "source": [
    "def derivatives_by_backprop(\n",
    "    X: np.array,\n",
    "    Y: np.array,\n",
    "    W_1: np.array,\n",
    "    b_1: np.array,\n",
    "    W_2: np.array,\n",
    "    b_2: np.array,\n",
    ") -> Tuple:\n",
    "    \"\"\"Calculates the derivatives of the parameters by backforward propagation.\n",
    "    \n",
    "    Here we assume it is a binary classification problem, with sigmoid activation functions.\n",
    "    \"\"\"\n",
    "    # forward propagation\n",
    "    dW_2, db_2, dW_1, db_1 = 0, 0, 0, 0\n",
    "    Y_hat, Z_2, A_1, Z_1 = forward_prop(X=X, W_1=W_1, b_1=b_1, W_2=W_2, b_2=b_2)\n",
    "    n = len(Y_hat)\n",
    "    \n",
    "    loss = -np.mean(np.multiply(Y, np.log(Y_hat)) + np.multiply(1 - Y, np.log(1 - Y_hat)))\n",
    "    \n",
    "    dZ_2 = Y_hat - Y\n",
    "    dW_2 = dZ_2.T @ A_1 / n\n",
    "    db_2 = np.mean(dZ_2.T, axis=1, keepdims=True) \n",
    "    \n",
    "    dZ_1 = np.multiply(dZ_2 @ W_2, np.multiply(A_1, 1 - A_1))\n",
    "    dW_1 = (dZ_1.T @ X) / n\n",
    "    db_1 = np.mean(dZ_1.T, axis=1, keepdims=True) \n",
    "    \n",
    "    return dW_2, db_2, dW_1, db_1, loss\n",
    "\n",
    "dW_2, db_2, dW_1, db_1, loss = derivatives_by_backprop(X=X, Y=Y, W_1=W_1, b_1=b_1, W_2=W_2, b_2=b_2)    "
   ]
  },
  {
   "cell_type": "code",
   "execution_count": null,
   "id": "2de336b0",
   "metadata": {
    "ExecuteTime": {
     "end_time": "2021-11-08T05:30:39.907568Z",
     "start_time": "2021-11-08T05:30:39.898704Z"
    }
   },
   "outputs": [],
   "source": [
    "def gradient_descent(\n",
    "    X: np.array,\n",
    "    Y: np.array,\n",
    "    W_1_init: np.array,\n",
    "    b_1_init: np.array,\n",
    "    W_2_init: np.array,\n",
    "    b_2_init: np.array,\n",
    "    learning_rate: float = 0.01,\n",
    "    epsilon: float = 1e-6,\n",
    "    verbose: bool = False,\n",
    ") -> Tuple:\n",
    "    \"\"\"Runs gradient descent to fit the NN via backprop.\"\"\"\n",
    "    W_1 = W_1_init\n",
    "    b_1 = b_1_init\n",
    "    W_2 = W_2_init\n",
    "    b_2 = b_2_init\n",
    "    losses = [float(\"inf\"), ]\n",
    "    roc_auc_scores = [0.5, ]\n",
    "    \n",
    "    diff_in_loss = float(\"inf\")\n",
    "    iteration = 0\n",
    "    while abs(diff_in_loss) > epsilon:\n",
    "        iteration += 1\n",
    "        dW_2, db_2, dW_1, db_1, loss = derivatives_by_backprop(\n",
    "            X=X, Y=Y, W_1=W_1, b_1=b_1, W_2=W_2, b_2=b_2\n",
    "        ) \n",
    "        \n",
    "        W_1 -= learning_rate * dW_1\n",
    "        b_1 -= learning_rate * db_1\n",
    "        W_2 -= learning_rate * dW_2\n",
    "        b_2 -= learning_rate * db_2\n",
    "        \n",
    "        losses.append(loss)\n",
    "        diff_in_loss = losses[-1] - losses[-2]\n",
    "        \n",
    "        Y_hat, _, _, _ = forward_prop(X=X, W_1=W_1, b_1=b_1, W_2=W_2, b_2=b_2)\n",
    "        roc_auc = roc_auc_score(y_true=Y, y_score=Y_hat)\n",
    "        roc_auc_scores.append(roc_auc)\n",
    "        \n",
    "        if verbose and iteration % 10 == 0:\n",
    "            print(loss, roc_auc)\n",
    "    return W_1, b_1, W_2, b_2, losses"
   ]
  },
  {
   "cell_type": "code",
   "execution_count": null,
   "id": "893b0001",
   "metadata": {
    "ExecuteTime": {
     "end_time": "2021-11-08T05:38:08.847636Z",
     "start_time": "2021-11-08T05:38:08.605916Z"
    }
   },
   "outputs": [],
   "source": [
    "# parameters for the first layer\n",
    "np.random.seed(42)\n",
    "W_1_init = np.random.normal(size=(3, X.shape[1]))\n",
    "b_1_init = np.random.normal(size=(3, 1))\n",
    "\n",
    "# parameters for the second layer\n",
    "W_2_init = np.random.normal(size=(1, 3))\n",
    "b_2_init = np.random.normal(size=(1, 1))\n",
    "\n",
    "W_1, b_1, W_2, b_2, losses = gradient_descent(\n",
    "    X=X,\n",
    "    Y=Y,\n",
    "    W_1_init=W_1_init,\n",
    "    b_1_init=b_1_init,\n",
    "    W_2_init=W_2_init,\n",
    "    b_2_init=b_2_init,\n",
    "    learning_rate=0.1,\n",
    "    epsilon=1e-3,\n",
    "    verbose=True,\n",
    ")"
   ]
  },
  {
   "cell_type": "code",
   "execution_count": null,
   "id": "5760f7d2",
   "metadata": {
    "ExecuteTime": {
     "end_time": "2021-11-08T05:36:40.907264Z",
     "start_time": "2021-11-08T05:36:40.899968Z"
    }
   },
   "outputs": [],
   "source": [
    "# evaluate the model on the test set\n",
    "Y_test_hat, _, _, _ = forward_prop(X=X_test, W_1=W_1, b_1=b_1, W_2=W_2, b_2=b_2)\n",
    "roc_auc_score(y_true=Y_test, y_score=Y_test_hat)"
   ]
  },
  {
   "cell_type": "code",
   "execution_count": null,
   "id": "4e9ad370",
   "metadata": {
    "ExecuteTime": {
     "end_time": "2021-11-08T05:37:49.042801Z",
     "start_time": "2021-11-08T05:37:48.108037Z"
    }
   },
   "outputs": [],
   "source": [
    "# train a NN with Keras\n",
    "from tensorflow import keras\n",
    "from tensorflow.keras import layers\n",
    "\n",
    "def keras_model(nn_size: int, num_features: int, num_layers: int):\n",
    "    \"\"\"Creates a simple Keras model.\"\"\"\n",
    "    inputs = keras.Input(\n",
    "        shape=(num_features, ), name=\"inputs\")\n",
    "    x = inputs\n",
    "    for i in range(num_layers):\n",
    "        x = layers.Dense(\n",
    "            nn_size, activation=\"sigmoid\", name=f\"desnse_layer_{i}\")(x)\n",
    "\n",
    "    outputs = layers.Dense(\n",
    "        1, activation=\"sigmoid\", name=\"output\")(x)\n",
    "\n",
    "    model = keras.Model(\n",
    "        inputs=inputs, outputs=outputs, name=\"simple_model\")\n",
    "    model.compile(\n",
    "        optimizer=\"adam\",\n",
    "        loss=\"binary_crossentropy\",\n",
    "        metrics=[\"AUC\"])\n",
    "    return model\n",
    "\n",
    "model = keras_model(nn_size=3, num_features=X.shape[1], num_layers=1)\n",
    "history = model.fit(\n",
    "    x=X,\n",
    "    y=Y,\n",
    "    batch_size=32,\n",
    "    epochs=20,\n",
    "    validation_data=(X_test, Y_test),\n",
    "    verbose=1,\n",
    "    shuffle=True,\n",
    ")"
   ]
  },
  {
   "cell_type": "code",
   "execution_count": null,
   "id": "c2de337c",
   "metadata": {
    "ExecuteTime": {
     "end_time": "2021-11-08T05:37:51.398657Z",
     "start_time": "2021-11-08T05:37:51.329772Z"
    }
   },
   "outputs": [],
   "source": [
    "# evaluate the model on the test set\n",
    "roc_auc_score(y_true=Y_test, y_score=model.predict(X_test))"
   ]
  }
 ],
 "metadata": {
  "kernelspec": {
   "display_name": "Python 3 (ipykernel)",
   "language": "python",
   "name": "python3"
  },
  "language_info": {
   "codemirror_mode": {
    "name": "ipython",
    "version": 3
   },
   "file_extension": ".py",
   "mimetype": "text/x-python",
   "name": "python",
   "nbconvert_exporter": "python",
   "pygments_lexer": "ipython3",
   "version": "3.10.6"
  },
  "toc": {
   "base_numbering": 1,
   "nav_menu": {},
   "number_sections": false,
   "sideBar": true,
   "skip_h1_title": false,
   "title_cell": "Table of Contents",
   "title_sidebar": "Contents",
   "toc_cell": true,
   "toc_position": {},
   "toc_section_display": true,
   "toc_window_display": true
  }
 },
 "nbformat": 4,
 "nbformat_minor": 5
}
