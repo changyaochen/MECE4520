{
 "cells": [
  {
   "cell_type": "markdown",
   "id": "0544c2a3",
   "metadata": {},
   "source": [
    "# Multiple Linear Regression\n",
    "\n",
    "## Introduction\n",
    "\n",
    "We have learned how to fit a simple linear regression model with a single independent variable. Now, we will extend this to multiple independent variables, which allows us to model more complex relationships and control for (i.e., consider) multiple factors simultaneously.\n",
    "\n",
    "## Mathematical Formulation\n",
    "\n",
    "### The Model\n",
    "\n",
    "The multiple linear regression model takes the form:\n",
    "$$y = \\beta_0 + \\beta_1 x_{1} + \\beta_2 x_{2} + \\cdots + \\beta_p x_{p} + \\epsilon$$\n",
    "\n",
    "where:\n",
    "- $y$ is the response (dependent) variable\n",
    "- $x_1, x_2, \\cdots, x_p$ are the $p$ predictor (independent) variables\n",
    "- $\\beta_0$ is the intercept\n",
    "- $\\beta_1, \\beta_2, \\cdots, \\beta_p$ are the regression coefficients\n",
    "- $\\epsilon$ is the error term\n",
    "\n",
    "### Dataset Notation\n",
    "\n",
    "For a dataset with $n$ observations, where each observation is indexed by $i$, we can write:\n",
    "$$y_i = \\beta_0 + \\beta_1 x_{i1} + \\beta_2 x_{i2} + \\cdots + \\beta_p x_{ip} + \\epsilon_i, \\quad i = 1, 2, \\cdots, n$$\n",
    "\n",
    "where:\n",
    "- $y_i$ is the response for the $i$-th observation\n",
    "- $x_{ij}$ is the value of the $j$-th predictor for the $i$-th observation\n",
    "- $\\epsilon_i$ is the error term for the $i$-th observation\n",
    "\n",
    "### Matrix Formulation\n",
    "\n",
    "We can express the entire system of equations in compact matrix form:\n",
    "$$\\mathbf{y} = \\mathbf{X}\\boldsymbol{\\beta} + \\boldsymbol{\\epsilon}$$\n",
    "\n",
    "where:\n",
    "- $\\mathbf{y}$ is an $n \\times 1$ vector of responses:\n",
    "  $$\\mathbf{y} = \\begin{bmatrix} y_1 \\\\ y_2 \\\\ \\vdots \\\\ y_n \\end{bmatrix}$$\n",
    "\n",
    "- $\\mathbf{X}$ is an $n \\times (p+1)$ matrix (including a column of 1s for the intercept):\n",
    "  $$\\mathbf{X} = \\begin{bmatrix} \n",
    "  1 & x_{11} & x_{12} & \\cdots & x_{1p} \\\\\n",
    "  1 & x_{21} & x_{22} & \\cdots & x_{2p} \\\\\n",
    "  \\vdots & \\vdots & \\vdots & \\ddots & \\vdots \\\\\n",
    "  1 & x_{n1} & x_{n2} & \\cdots & x_{np}\n",
    "  \\end{bmatrix}$$\n",
    "\n",
    "- $\\boldsymbol{\\beta}$ is a $(p+1) \\times 1$ vector of coefficients:\n",
    "  $$\\boldsymbol{\\beta} = \\begin{bmatrix} \\beta_0 \\\\ \\beta_1 \\\\ \\vdots \\\\ \\beta_p \\end{bmatrix}$$\n",
    "\n",
    "- $\\boldsymbol{\\epsilon}$ is an $n \\times 1$ vector of errors:\n",
    "  $$\\boldsymbol{\\epsilon} = \\begin{bmatrix} \\epsilon_1 \\\\ \\epsilon_2 \\\\ \\vdots \\\\ \\epsilon_n \\end{bmatrix}$$\n",
    "\n",
    "## Estimation: The Normal Equation\n",
    "\n",
    "### Objective Function\n",
    "\n",
    "To find the best-fitting coefficients, we minimize the sum of squared errors (SSE):\n",
    "$$\\text{SSE} = \\sum_{i=1}^{n} (y_i - \\hat{y}_i)^2 = (\\mathbf{y} - \\mathbf{X}\\boldsymbol{\\beta})^T(\\mathbf{y} - \\mathbf{X}\\boldsymbol{\\beta})$$\n",
    "\n",
    "### The Solution\n",
    "\n",
    "Taking the derivative with respect to $\\boldsymbol{\\beta}$ and setting it to zero, we obtain the **normal equation**:\n",
    "$$\\mathbf{X}^T\\mathbf{X}\\boldsymbol{\\beta} = \\mathbf{X}^T\\mathbf{y}$$\n",
    "\n",
    "Solving for $\\boldsymbol{\\beta}$, we get the **least squares estimator**:\n",
    "$$\\hat{\\boldsymbol{\\beta}} = (\\mathbf{X}^T\\mathbf{X})^{-1}\\mathbf{X}^T\\mathbf{y}$$\n",
    "\n",
    "**Note**: This solution requires that $\\mathbf{X}^T\\mathbf{X}$ is invertible, which happens when the columns of $\\mathbf{X}$ are linearly independent (no perfect multicollinearity).\n",
    "\n",
    "## Statistical Properties\n",
    "\n",
    "### Variance-Covariance Matrix\n",
    "\n",
    "Under the standard assumptions of linear regression, the variance-covariance matrix of the coefficient estimates is:\n",
    "$$\\text{Var}(\\hat{\\boldsymbol{\\beta}}) = \\sigma^2(\\mathbf{X}^T\\mathbf{X})^{-1}$$\n",
    "\n",
    "where $\\sigma^2$ is the variance of the error terms.\n",
    "\n",
    "Key insights:\n",
    "- The **diagonal elements** give the variances of individual coefficients: $\\text{Var}(\\hat{\\beta}_j)$\n",
    "- The **off-diagonal elements** give the covariances between coefficient pairs: $\\text{Cov}(\\hat{\\beta}_i, \\hat{\\beta}_j)$\n",
    "- The **standard errors** are obtained by taking the square root of the diagonal elements: $\\text{SE}(\\hat{\\beta}_j) = \\sqrt{\\text{Var}(\\hat{\\beta}_j)}$\n",
    "\n",
    "### Estimating Variance of the error terms\n",
    "\n",
    "Since $\\sigma^2$ is typically unknown, we estimate it using the residual sum of squares (i.e., SSE after the model is fitted):\n",
    "$$\\hat{\\sigma}^2 = \\frac{\\text{RSS}}{n - (p + 1)} = \\frac{(\\mathbf{y} - \\mathbf{X}\\hat{\\boldsymbol{\\beta}})^T(\\mathbf{y} - \\mathbf{X}\\hat{\\boldsymbol{\\beta}})}{n - (p + 1)}$$\n",
    "\n",
    "where $n - (p + 1)$ represents the degrees of freedom."
   ]
  },
  {
   "cell_type": "code",
   "execution_count": 15,
   "id": "f99e05a5",
   "metadata": {},
   "outputs": [],
   "source": [
    "# Import necessary libraries for linear regression analysis\n",
    "from typing import List\n",
    "\n",
    "# Data manipulation and numerical computation\n",
    "import numpy as np\n",
    "import pandas as pd\n",
    "\n",
    "# Visualization libraries\n",
    "import matplotlib.pyplot as plt\n",
    "import seaborn as sns\n",
    "\n",
    "# Progress bar for iterations\n",
    "from tqdm import tqdm\n",
    "\n",
    "# Configure visualization settings for better readability\n",
    "sns.set_theme(font_scale=1.5)  # Increase font size for better visibility\n",
    "sns.set_style(\"whitegrid\", {\"grid.linestyle\": \"--\"})  # Set grid style with dashed lines\n",
    "np.set_printoptions(\n",
    "    precision=4,      # 4 decimal places\n",
    "    suppress=True,    # No scientific notation for small numbers\n",
    "    linewidth=100,    # Wider lines before wrapping\n",
    "    threshold=20      # Show all elements if array has < 20 items\n",
    ")"
   ]
  },
  {
   "cell_type": "code",
   "execution_count": 16,
   "id": "59a66c3d",
   "metadata": {},
   "outputs": [
    {
     "data": {
      "text/html": [
       "<div>\n",
       "<style scoped>\n",
       "    .dataframe tbody tr th:only-of-type {\n",
       "        vertical-align: middle;\n",
       "    }\n",
       "\n",
       "    .dataframe tbody tr th {\n",
       "        vertical-align: top;\n",
       "    }\n",
       "\n",
       "    .dataframe thead th {\n",
       "        text-align: right;\n",
       "    }\n",
       "</style>\n",
       "<table border=\"1\" class=\"dataframe\">\n",
       "  <thead>\n",
       "    <tr style=\"text-align: right;\">\n",
       "      <th></th>\n",
       "      <th>mpg</th>\n",
       "      <th>cylinders</th>\n",
       "      <th>displacement</th>\n",
       "      <th>horsepower</th>\n",
       "      <th>weight</th>\n",
       "      <th>acceleration</th>\n",
       "      <th>model</th>\n",
       "      <th>origin</th>\n",
       "      <th>car</th>\n",
       "    </tr>\n",
       "  </thead>\n",
       "  <tbody>\n",
       "    <tr>\n",
       "      <th>0</th>\n",
       "      <td>18.0</td>\n",
       "      <td>8.0</td>\n",
       "      <td>307.0</td>\n",
       "      <td>130.0</td>\n",
       "      <td>3504.0</td>\n",
       "      <td>12.0</td>\n",
       "      <td>70.0</td>\n",
       "      <td>1.0</td>\n",
       "      <td>chevrolet chevelle malibu</td>\n",
       "    </tr>\n",
       "    <tr>\n",
       "      <th>1</th>\n",
       "      <td>15.0</td>\n",
       "      <td>8.0</td>\n",
       "      <td>350.0</td>\n",
       "      <td>165.0</td>\n",
       "      <td>3693.0</td>\n",
       "      <td>11.5</td>\n",
       "      <td>70.0</td>\n",
       "      <td>1.0</td>\n",
       "      <td>buick skylark 320</td>\n",
       "    </tr>\n",
       "    <tr>\n",
       "      <th>2</th>\n",
       "      <td>18.0</td>\n",
       "      <td>8.0</td>\n",
       "      <td>318.0</td>\n",
       "      <td>150.0</td>\n",
       "      <td>3436.0</td>\n",
       "      <td>11.0</td>\n",
       "      <td>70.0</td>\n",
       "      <td>1.0</td>\n",
       "      <td>plymouth satellite</td>\n",
       "    </tr>\n",
       "    <tr>\n",
       "      <th>3</th>\n",
       "      <td>16.0</td>\n",
       "      <td>8.0</td>\n",
       "      <td>304.0</td>\n",
       "      <td>150.0</td>\n",
       "      <td>3433.0</td>\n",
       "      <td>12.0</td>\n",
       "      <td>70.0</td>\n",
       "      <td>1.0</td>\n",
       "      <td>amc rebel sst</td>\n",
       "    </tr>\n",
       "    <tr>\n",
       "      <th>4</th>\n",
       "      <td>17.0</td>\n",
       "      <td>8.0</td>\n",
       "      <td>302.0</td>\n",
       "      <td>140.0</td>\n",
       "      <td>3449.0</td>\n",
       "      <td>10.5</td>\n",
       "      <td>70.0</td>\n",
       "      <td>1.0</td>\n",
       "      <td>ford torino</td>\n",
       "    </tr>\n",
       "  </tbody>\n",
       "</table>\n",
       "</div>"
      ],
      "text/plain": [
       "    mpg  cylinders  displacement  horsepower  weight  acceleration  model  \\\n",
       "0  18.0        8.0         307.0       130.0  3504.0          12.0   70.0   \n",
       "1  15.0        8.0         350.0       165.0  3693.0          11.5   70.0   \n",
       "2  18.0        8.0         318.0       150.0  3436.0          11.0   70.0   \n",
       "3  16.0        8.0         304.0       150.0  3433.0          12.0   70.0   \n",
       "4  17.0        8.0         302.0       140.0  3449.0          10.5   70.0   \n",
       "\n",
       "   origin                        car  \n",
       "0     1.0  chevrolet chevelle malibu  \n",
       "1     1.0          buick skylark 320  \n",
       "2     1.0         plymouth satellite  \n",
       "3     1.0              amc rebel sst  \n",
       "4     1.0                ford torino  "
      ]
     },
     "execution_count": 16,
     "metadata": {},
     "output_type": "execute_result"
    }
   ],
   "source": [
    "# Load the Auto MPG dataset from GitHub repository\n",
    "# The dataset contains information about cars from the 1970s and 1980s\n",
    "data = pd.read_csv(\"https://raw.githubusercontent.com/changyaochen/MECE4520/master/data/auto_mpg.csv\")\n",
    "\n",
    "# Let's drop any na values for now\n",
    "data = data.dropna()\n",
    "\n",
    "# Display the first 5 rows to understand the data structure\n",
    "data.head()"
   ]
  },
  {
   "cell_type": "markdown",
   "id": "ec0cd355",
   "metadata": {},
   "source": [
    "## Using matrix formulation to fit a simple linear regression model\n",
    "\n",
    "In the following, we will use the matrix formulation to fit a simple linear regression model.\n",
    "\n",
    "The result should be the same as the one we got in the previous section."
   ]
  },
  {
   "cell_type": "code",
   "execution_count": 17,
   "id": "edaa93c5",
   "metadata": {},
   "outputs": [
    {
     "name": "stdout",
     "output_type": "stream",
     "text": [
      "Data matrix X shape: (392, 2)\n",
      "First 5 rows of X:\n",
      "[[   1. 3504.]\n",
      " [   1. 3693.]\n",
      " [   1. 3436.]\n",
      " [   1. 3433.]\n",
      " [   1. 3449.]]\n",
      "\n",
      "==================================================\n",
      "Coefficient Estimates (Matrix Method)\n",
      "==================================================\n",
      "Intercept: 46.2165, with standard error 0.7987\n",
      "Slope for weight         : -0.0076, with standard error 0.0003\n",
      "R-squared: 0.6926\n",
      "Sum of Squared Errors (SSE): 7321.2337\n",
      "Mean Squared Error (MSE): 18.6766\n"
     ]
    }
   ],
   "source": [
    "# Linear regression using matrix formulation\n",
    "# This demonstrates the underlying linear algebra of regression\n",
    "\n",
    "def linear_regression_matrix(\n",
    "    data: pd.DataFrame,\n",
    "    dependent_variable: str,\n",
    "    independent_variables: List[str]\n",
    ") -> np.array:\n",
    "    \"\"\"\n",
    "    Fit a linear regression model using matrix formulation.\n",
    "\n",
    "    Args:\n",
    "        data: pd.DataFrame, the input data\n",
    "        dependent_variable: str, the dependent variable, it must be a column name of the data\n",
    "        independent_variables: List[str], the independent variables, it must be a list of column names of the data\n",
    "    \"\"\"\n",
    "    # First column: all 1s for the intercept term\n",
    "    # Remaining columns: the independent variables\n",
    "    X = np.hstack(\n",
    "        (np.ones(shape=(len(data[dependent_variable]), 1)),  # Column of 1s for intercept\n",
    "        np.array(data[independent_variables]))\n",
    "    )\n",
    "\n",
    "    print(\"Data matrix X shape:\", X.shape)\n",
    "    print(\"First 5 rows of X:\")\n",
    "    print(X[:5])\n",
    "\n",
    "    y = data[\"mpg\"]\n",
    "\n",
    "    # Calculate coefficients using the Normal Equation\n",
    "    # β = (X'X)^(-1) X'y\n",
    "    # This gives us the least squares solution\n",
    "    XtX = X.T @ X  # X transpose times X\n",
    "    XtX_inv = np.linalg.inv(XtX)  # Inverse of X'X\n",
    "    Xty = X.T @ y  # X transpose times y\n",
    "    beta_matrix = XtX_inv @ Xty\n",
    "\n",
    "    # Calculate variance-covariance matrix\n",
    "    # Var(β) = σ² (X'X)^(-1)\n",
    "    # Where σ² is the residual variance\n",
    "    residual = y - X @ beta_matrix\n",
    "    sigma_squared = np.var(residual, ddof=2)\n",
    "    var_cov_matrix = sigma_squared * XtX_inv\n",
    "\n",
    "    # Extract standard errors (square root of diagonal elements)\n",
    "    se_matrix = np.sqrt(np.diag(var_cov_matrix))\n",
    "\n",
    "    print(\"\\n\" + \"=\"*50)\n",
    "    print(\"Coefficient Estimates (Matrix Method)\")\n",
    "    print(\"=\"*50)\n",
    "    print(f\"Intercept: {beta_matrix[0]:.4f}, with standard error {se_matrix[0]:.4f}\")\n",
    "    for i, var in enumerate(independent_variables):\n",
    "        print(f\"Slope for {var:<15}: {beta_matrix[i+1]:.4f}, with standard error {se_matrix[i+1]:.4f}\")\n",
    "    print(f\"R-squared: {1 - np.var(residual, ddof=2) / np.var(y, ddof=2):.4f}\")\n",
    "    print(f\"Sum of Squared Errors (SSE): {np.sum(residual**2):.4f}\")\n",
    "    print(f\"Mean Squared Error (MSE): {np.mean(residual**2):.4f}\")\n",
    "\n",
    "    return beta_matrix\n",
    "\n",
    "\n",
    "_ = linear_regression_matrix(data=data, dependent_variable=\"mpg\", independent_variables=[\"weight\"])"
   ]
  },
  {
   "cell_type": "markdown",
   "id": "246fadf7",
   "metadata": {},
   "source": [
    "## Using matrix formulation to fit a multiple linear regression model\n",
    "\n",
    "In the following, we will consider more independent variables, from `weight`, `displacement`, `horsepower`, and `acceleration`,\n",
    "to fit a multiple linear regression model to predict the dependent variable `mpg`."
   ]
  },
  {
   "cell_type": "code",
   "execution_count": 18,
   "id": "aa177387",
   "metadata": {},
   "outputs": [
    {
     "name": "stdout",
     "output_type": "stream",
     "text": [
      "Data matrix X shape: (392, 3)\n",
      "First 5 rows of X:\n",
      "[[   1.  3504.    12. ]\n",
      " [   1.  3693.    11.5]\n",
      " [   1.  3436.    11. ]\n",
      " [   1.  3433.    12. ]\n",
      " [   1.  3449.    10.5]]\n",
      "\n",
      "==================================================\n",
      "Coefficient Estimates (Matrix Method)\n",
      "==================================================\n",
      "Intercept: 41.0953, with standard error 1.8656\n",
      "Slope for weight         : -0.0073, with standard error 0.0003\n",
      "Slope for acceleration   : 0.2617, with standard error 0.0864\n",
      "R-squared: 0.6997\n",
      "Sum of Squared Errors (SSE): 7152.8930\n",
      "Mean Squared Error (MSE): 18.2472\n"
     ]
    },
    {
     "data": {
      "application/vnd.plotly.v1+json": {
       "config": {
        "plotlyServerURL": "https://plot.ly"
       },
       "data": [
        {
         "colorscale": [
          [
           0,
           "rgb(103,0,31)"
          ],
          [
           0.1,
           "rgb(178,24,43)"
          ],
          [
           0.2,
           "rgb(214,96,77)"
          ],
          [
           0.3,
           "rgb(244,165,130)"
          ],
          [
           0.4,
           "rgb(253,219,199)"
          ],
          [
           0.5,
           "rgb(247,247,247)"
          ],
          [
           0.6,
           "rgb(209,229,240)"
          ],
          [
           0.7,
           "rgb(146,197,222)"
          ],
          [
           0.8,
           "rgb(67,147,195)"
          ],
          [
           0.9,
           "rgb(33,102,172)"
          ],
          [
           1,
           "rgb(5,48,97)"
          ]
         ],
         "name": "Regression Plane",
         "opacity": 0.5,
         "showscale": false,
         "type": "surface",
         "x": {
          "bdata": "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",
          "dtype": "f8",
          "shape": "50, 50"
         },
         "y": {
          "bdata": "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",
          "dtype": "f8",
          "shape": "50, 50"
         },
         "z": {
          "bdata": "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",
          "dtype": "f8",
          "shape": "50, 50"
         }
        },
        {
         "customdata": {
          "bdata": "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",
          "dtype": "f8"
         },
         "hovertemplate": "<b>Details</b><br>weight: %{x:.2f}<br>acceleration: %{y:.2f}<br>Actual mpg: %{z:.2f}<br>Predicted mpg: %{customdata:.2f}<extra></extra>",
         "marker": {
          "color": {
           "bdata": "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",
           "dtype": "f8"
          },
          "colorbar": {
           "title": {
            "text": "mpg"
           },
           "x": 1.1
          },
          "colorscale": [
           [
            0,
            "#440154"
           ],
           [
            0.1111111111111111,
            "#482878"
           ],
           [
            0.2222222222222222,
            "#3e4989"
           ],
           [
            0.3333333333333333,
            "#31688e"
           ],
           [
            0.4444444444444444,
            "#26828e"
           ],
           [
            0.5555555555555556,
            "#1f9e89"
           ],
           [
            0.6666666666666666,
            "#35b779"
           ],
           [
            0.7777777777777778,
            "#6ece58"
           ],
           [
            0.8888888888888888,
            "#b5de2b"
           ],
           [
            1,
            "#fde725"
           ]
          ],
          "line": {
           "color": "black",
           "width": 0.5
          },
          "showscale": true,
          "size": 5
         },
         "mode": "markers",
         "name": "Actual Data",
         "opacity": 0.9,
         "type": "scatter3d",
         "x": {
          "bdata": "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",
          "dtype": "f8"
         },
         "y": {
          "bdata": "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",
          "dtype": "f8"
         },
         "z": {
          "bdata": "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",
          "dtype": "f8"
         }
        }
       ],
       "layout": {
        "autosize": true,
        "height": 900,
        "hovermode": "closest",
        "legend": {
         "x": 0.02,
         "y": 0.98
        },
        "scene": {
         "camera": {
          "eye": {
           "x": 1.5,
           "y": 1.5,
           "z": 1.5
          }
         },
         "xaxis": {
          "autorange": "reversed",
          "title": {
           "text": "weight"
          }
         },
         "yaxis": {
          "title": {
           "text": "acceleration"
          }
         },
         "zaxis": {
          "title": {
           "text": "mpg"
          }
         }
        },
        "showlegend": true,
        "template": {
         "data": {
          "bar": [
           {
            "error_x": {
             "color": "#2a3f5f"
            },
            "error_y": {
             "color": "#2a3f5f"
            },
            "marker": {
             "line": {
              "color": "#E5ECF6",
              "width": 0.5
             },
             "pattern": {
              "fillmode": "overlay",
              "size": 10,
              "solidity": 0.2
             }
            },
            "type": "bar"
           }
          ],
          "barpolar": [
           {
            "marker": {
             "line": {
              "color": "#E5ECF6",
              "width": 0.5
             },
             "pattern": {
              "fillmode": "overlay",
              "size": 10,
              "solidity": 0.2
             }
            },
            "type": "barpolar"
           }
          ],
          "carpet": [
           {
            "aaxis": {
             "endlinecolor": "#2a3f5f",
             "gridcolor": "white",
             "linecolor": "white",
             "minorgridcolor": "white",
             "startlinecolor": "#2a3f5f"
            },
            "baxis": {
             "endlinecolor": "#2a3f5f",
             "gridcolor": "white",
             "linecolor": "white",
             "minorgridcolor": "white",
             "startlinecolor": "#2a3f5f"
            },
            "type": "carpet"
           }
          ],
          "choropleth": [
           {
            "colorbar": {
             "outlinewidth": 0,
             "ticks": ""
            },
            "type": "choropleth"
           }
          ],
          "contour": [
           {
            "colorbar": {
             "outlinewidth": 0,
             "ticks": ""
            },
            "colorscale": [
             [
              0,
              "#0d0887"
             ],
             [
              0.1111111111111111,
              "#46039f"
             ],
             [
              0.2222222222222222,
              "#7201a8"
             ],
             [
              0.3333333333333333,
              "#9c179e"
             ],
             [
              0.4444444444444444,
              "#bd3786"
             ],
             [
              0.5555555555555556,
              "#d8576b"
             ],
             [
              0.6666666666666666,
              "#ed7953"
             ],
             [
              0.7777777777777778,
              "#fb9f3a"
             ],
             [
              0.8888888888888888,
              "#fdca26"
             ],
             [
              1,
              "#f0f921"
             ]
            ],
            "type": "contour"
           }
          ],
          "contourcarpet": [
           {
            "colorbar": {
             "outlinewidth": 0,
             "ticks": ""
            },
            "type": "contourcarpet"
           }
          ],
          "heatmap": [
           {
            "colorbar": {
             "outlinewidth": 0,
             "ticks": ""
            },
            "colorscale": [
             [
              0,
              "#0d0887"
             ],
             [
              0.1111111111111111,
              "#46039f"
             ],
             [
              0.2222222222222222,
              "#7201a8"
             ],
             [
              0.3333333333333333,
              "#9c179e"
             ],
             [
              0.4444444444444444,
              "#bd3786"
             ],
             [
              0.5555555555555556,
              "#d8576b"
             ],
             [
              0.6666666666666666,
              "#ed7953"
             ],
             [
              0.7777777777777778,
              "#fb9f3a"
             ],
             [
              0.8888888888888888,
              "#fdca26"
             ],
             [
              1,
              "#f0f921"
             ]
            ],
            "type": "heatmap"
           }
          ],
          "histogram": [
           {
            "marker": {
             "pattern": {
              "fillmode": "overlay",
              "size": 10,
              "solidity": 0.2
             }
            },
            "type": "histogram"
           }
          ],
          "histogram2d": [
           {
            "colorbar": {
             "outlinewidth": 0,
             "ticks": ""
            },
            "colorscale": [
             [
              0,
              "#0d0887"
             ],
             [
              0.1111111111111111,
              "#46039f"
             ],
             [
              0.2222222222222222,
              "#7201a8"
             ],
             [
              0.3333333333333333,
              "#9c179e"
             ],
             [
              0.4444444444444444,
              "#bd3786"
             ],
             [
              0.5555555555555556,
              "#d8576b"
             ],
             [
              0.6666666666666666,
              "#ed7953"
             ],
             [
              0.7777777777777778,
              "#fb9f3a"
             ],
             [
              0.8888888888888888,
              "#fdca26"
             ],
             [
              1,
              "#f0f921"
             ]
            ],
            "type": "histogram2d"
           }
          ],
          "histogram2dcontour": [
           {
            "colorbar": {
             "outlinewidth": 0,
             "ticks": ""
            },
            "colorscale": [
             [
              0,
              "#0d0887"
             ],
             [
              0.1111111111111111,
              "#46039f"
             ],
             [
              0.2222222222222222,
              "#7201a8"
             ],
             [
              0.3333333333333333,
              "#9c179e"
             ],
             [
              0.4444444444444444,
              "#bd3786"
             ],
             [
              0.5555555555555556,
              "#d8576b"
             ],
             [
              0.6666666666666666,
              "#ed7953"
             ],
             [
              0.7777777777777778,
              "#fb9f3a"
             ],
             [
              0.8888888888888888,
              "#fdca26"
             ],
             [
              1,
              "#f0f921"
             ]
            ],
            "type": "histogram2dcontour"
           }
          ],
          "mesh3d": [
           {
            "colorbar": {
             "outlinewidth": 0,
             "ticks": ""
            },
            "type": "mesh3d"
           }
          ],
          "parcoords": [
           {
            "line": {
             "colorbar": {
              "outlinewidth": 0,
              "ticks": ""
             }
            },
            "type": "parcoords"
           }
          ],
          "pie": [
           {
            "automargin": true,
            "type": "pie"
           }
          ],
          "scatter": [
           {
            "fillpattern": {
             "fillmode": "overlay",
             "size": 10,
             "solidity": 0.2
            },
            "type": "scatter"
           }
          ],
          "scatter3d": [
           {
            "line": {
             "colorbar": {
              "outlinewidth": 0,
              "ticks": ""
             }
            },
            "marker": {
             "colorbar": {
              "outlinewidth": 0,
              "ticks": ""
             }
            },
            "type": "scatter3d"
           }
          ],
          "scattercarpet": [
           {
            "marker": {
             "colorbar": {
              "outlinewidth": 0,
              "ticks": ""
             }
            },
            "type": "scattercarpet"
           }
          ],
          "scattergeo": [
           {
            "marker": {
             "colorbar": {
              "outlinewidth": 0,
              "ticks": ""
             }
            },
            "type": "scattergeo"
           }
          ],
          "scattergl": [
           {
            "marker": {
             "colorbar": {
              "outlinewidth": 0,
              "ticks": ""
             }
            },
            "type": "scattergl"
           }
          ],
          "scattermap": [
           {
            "marker": {
             "colorbar": {
              "outlinewidth": 0,
              "ticks": ""
             }
            },
            "type": "scattermap"
           }
          ],
          "scattermapbox": [
           {
            "marker": {
             "colorbar": {
              "outlinewidth": 0,
              "ticks": ""
             }
            },
            "type": "scattermapbox"
           }
          ],
          "scatterpolar": [
           {
            "marker": {
             "colorbar": {
              "outlinewidth": 0,
              "ticks": ""
             }
            },
            "type": "scatterpolar"
           }
          ],
          "scatterpolargl": [
           {
            "marker": {
             "colorbar": {
              "outlinewidth": 0,
              "ticks": ""
             }
            },
            "type": "scatterpolargl"
           }
          ],
          "scatterternary": [
           {
            "marker": {
             "colorbar": {
              "outlinewidth": 0,
              "ticks": ""
             }
            },
            "type": "scatterternary"
           }
          ],
          "surface": [
           {
            "colorbar": {
             "outlinewidth": 0,
             "ticks": ""
            },
            "colorscale": [
             [
              0,
              "#0d0887"
             ],
             [
              0.1111111111111111,
              "#46039f"
             ],
             [
              0.2222222222222222,
              "#7201a8"
             ],
             [
              0.3333333333333333,
              "#9c179e"
             ],
             [
              0.4444444444444444,
              "#bd3786"
             ],
             [
              0.5555555555555556,
              "#d8576b"
             ],
             [
              0.6666666666666666,
              "#ed7953"
             ],
             [
              0.7777777777777778,
              "#fb9f3a"
             ],
             [
              0.8888888888888888,
              "#fdca26"
             ],
             [
              1,
              "#f0f921"
             ]
            ],
            "type": "surface"
           }
          ],
          "table": [
           {
            "cells": {
             "fill": {
              "color": "#EBF0F8"
             },
             "line": {
              "color": "white"
             }
            },
            "header": {
             "fill": {
              "color": "#C8D4E3"
             },
             "line": {
              "color": "white"
             }
            },
            "type": "table"
           }
          ]
         },
         "layout": {
          "annotationdefaults": {
           "arrowcolor": "#2a3f5f",
           "arrowhead": 0,
           "arrowwidth": 1
          },
          "autotypenumbers": "strict",
          "coloraxis": {
           "colorbar": {
            "outlinewidth": 0,
            "ticks": ""
           }
          },
          "colorscale": {
           "diverging": [
            [
             0,
             "#8e0152"
            ],
            [
             0.1,
             "#c51b7d"
            ],
            [
             0.2,
             "#de77ae"
            ],
            [
             0.3,
             "#f1b6da"
            ],
            [
             0.4,
             "#fde0ef"
            ],
            [
             0.5,
             "#f7f7f7"
            ],
            [
             0.6,
             "#e6f5d0"
            ],
            [
             0.7,
             "#b8e186"
            ],
            [
             0.8,
             "#7fbc41"
            ],
            [
             0.9,
             "#4d9221"
            ],
            [
             1,
             "#276419"
            ]
           ],
           "sequential": [
            [
             0,
             "#0d0887"
            ],
            [
             0.1111111111111111,
             "#46039f"
            ],
            [
             0.2222222222222222,
             "#7201a8"
            ],
            [
             0.3333333333333333,
             "#9c179e"
            ],
            [
             0.4444444444444444,
             "#bd3786"
            ],
            [
             0.5555555555555556,
             "#d8576b"
            ],
            [
             0.6666666666666666,
             "#ed7953"
            ],
            [
             0.7777777777777778,
             "#fb9f3a"
            ],
            [
             0.8888888888888888,
             "#fdca26"
            ],
            [
             1,
             "#f0f921"
            ]
           ],
           "sequentialminus": [
            [
             0,
             "#0d0887"
            ],
            [
             0.1111111111111111,
             "#46039f"
            ],
            [
             0.2222222222222222,
             "#7201a8"
            ],
            [
             0.3333333333333333,
             "#9c179e"
            ],
            [
             0.4444444444444444,
             "#bd3786"
            ],
            [
             0.5555555555555556,
             "#d8576b"
            ],
            [
             0.6666666666666666,
             "#ed7953"
            ],
            [
             0.7777777777777778,
             "#fb9f3a"
            ],
            [
             0.8888888888888888,
             "#fdca26"
            ],
            [
             1,
             "#f0f921"
            ]
           ]
          },
          "colorway": [
           "#636efa",
           "#EF553B",
           "#00cc96",
           "#ab63fa",
           "#FFA15A",
           "#19d3f3",
           "#FF6692",
           "#B6E880",
           "#FF97FF",
           "#FECB52"
          ],
          "font": {
           "color": "#2a3f5f"
          },
          "geo": {
           "bgcolor": "white",
           "lakecolor": "white",
           "landcolor": "#E5ECF6",
           "showlakes": true,
           "showland": true,
           "subunitcolor": "white"
          },
          "hoverlabel": {
           "align": "left"
          },
          "hovermode": "closest",
          "mapbox": {
           "style": "light"
          },
          "paper_bgcolor": "white",
          "plot_bgcolor": "#E5ECF6",
          "polar": {
           "angularaxis": {
            "gridcolor": "white",
            "linecolor": "white",
            "ticks": ""
           },
           "bgcolor": "#E5ECF6",
           "radialaxis": {
            "gridcolor": "white",
            "linecolor": "white",
            "ticks": ""
           }
          },
          "scene": {
           "xaxis": {
            "backgroundcolor": "#E5ECF6",
            "gridcolor": "white",
            "gridwidth": 2,
            "linecolor": "white",
            "showbackground": true,
            "ticks": "",
            "zerolinecolor": "white"
           },
           "yaxis": {
            "backgroundcolor": "#E5ECF6",
            "gridcolor": "white",
            "gridwidth": 2,
            "linecolor": "white",
            "showbackground": true,
            "ticks": "",
            "zerolinecolor": "white"
           },
           "zaxis": {
            "backgroundcolor": "#E5ECF6",
            "gridcolor": "white",
            "gridwidth": 2,
            "linecolor": "white",
            "showbackground": true,
            "ticks": "",
            "zerolinecolor": "white"
           }
          },
          "shapedefaults": {
           "line": {
            "color": "#2a3f5f"
           }
          },
          "ternary": {
           "aaxis": {
            "gridcolor": "white",
            "linecolor": "white",
            "ticks": ""
           },
           "baxis": {
            "gridcolor": "white",
            "linecolor": "white",
            "ticks": ""
           },
           "bgcolor": "#E5ECF6",
           "caxis": {
            "gridcolor": "white",
            "linecolor": "white",
            "ticks": ""
           }
          },
          "title": {
           "x": 0.05
          },
          "xaxis": {
           "automargin": true,
           "gridcolor": "white",
           "linecolor": "white",
           "ticks": "",
           "title": {
            "standoff": 15
           },
           "zerolinecolor": "white",
           "zerolinewidth": 2
          },
          "yaxis": {
           "automargin": true,
           "gridcolor": "white",
           "linecolor": "white",
           "ticks": "",
           "title": {
            "standoff": 15
           },
           "zerolinecolor": "white",
           "zerolinewidth": 2
          }
         }
        },
        "title": {
         "font": {
          "size": 16
         },
         "text": "Interactive 3D Regression: mpg ~ weight + acceleration"
        }
       }
      }
     },
     "metadata": {},
     "output_type": "display_data"
    }
   ],
   "source": [
    "# Let's first consider 2 independent variables: `weight` and `acceleration`, and\n",
    "# visualize the fitted plane in the 3D space.\n",
    "\n",
    "# Interactive 3D Visualization using Plotly\n",
    "import plotly.graph_objects as go\n",
    "import plotly.express as px\n",
    "from plotly.subplots import make_subplots\n",
    "\n",
    "def interactive_3d_regression(\n",
    "    data: pd.DataFrame,\n",
    "    dependent_variable: str,\n",
    "    independent_variables: List[str],\n",
    "    betas: np.ndarray\n",
    ") -> None:\n",
    "    \"\"\"Creates an interactive 3D visualization of the regression model.\"\"\"\n",
    "    assert len(independent_variables) == 2, \"Only 2 independent variables are supported for 3D visualization\"\n",
    "    # Extract data\n",
    "    X1 = data[independent_variables[0]].values\n",
    "    X2 = data[independent_variables[1]].values\n",
    "    y = data[dependent_variable].values\n",
    "\n",
    "    # Create mesh grid for the surface\n",
    "    X1_range = np.linspace(X1.min(), X1.max(), 50)\n",
    "    X2_range = np.linspace(X2.min(), X2.max(), 50)\n",
    "    X1_mesh, X2_mesh = np.meshgrid(X1_range, X2_range)\n",
    "    y_mesh = betas[0] + betas[1] * X1_mesh + betas[2] * X2_mesh\n",
    "    y_pred = betas[0] + betas[1] * X1 + betas[2] * X2\n",
    "\n",
    "    # Create the figure\n",
    "    fig = go.Figure()\n",
    "\n",
    "    # Add the regression plane\n",
    "    fig.add_trace(go.Surface(\n",
    "        x=X1_mesh,\n",
    "        y=X2_mesh,\n",
    "        z=y_mesh,\n",
    "        colorscale=\"RdBu\",\n",
    "        opacity=0.5,\n",
    "        name=\"Regression Plane\",\n",
    "        showscale=False,\n",
    "    ))\n",
    "\n",
    "    # Add the actual data points\n",
    "    fig.add_trace(go.Scatter3d(\n",
    "        x=X1,\n",
    "        y=X2,\n",
    "        z=y,\n",
    "        mode=\"markers\",\n",
    "        marker=dict(\n",
    "            size=5,\n",
    "            color=y,\n",
    "            colorscale=\"Viridis\",\n",
    "            showscale=True,\n",
    "            colorbar=dict(title=dependent_variable, x=1.1),\n",
    "            line=dict(color=\"black\", width=0.5)\n",
    "        ),\n",
    "        name=\"Actual Data\",\n",
    "        opacity=0.9,\n",
    "        customdata=y_pred,\n",
    "        hovertemplate=\"<b>Details</b><br>\" +\n",
    "                     f\"{independent_variables[0]}: %{{x:.2f}}<br>\" +\n",
    "                     f\"{independent_variables[1]}: %{{y:.2f}}<br>\" +\n",
    "                     f\"Actual {dependent_variable}: %{{z:.2f}}<br>\" +\n",
    "                     f\"Predicted {dependent_variable}: %{{customdata:.2f}}<extra></extra>\"\n",
    "    ))\n",
    "\n",
    "\n",
    "    # Update layout\n",
    "    fig.update_layout(\n",
    "        title=dict(\n",
    "            text=f\"Interactive 3D Regression: {dependent_variable} ~ {independent_variables[0]} + {independent_variables[1]}\",\n",
    "            font=dict(size=16)\n",
    "        ),\n",
    "        scene=dict(\n",
    "            xaxis_title=independent_variables[0],\n",
    "            yaxis_title=independent_variables[1],\n",
    "            zaxis_title=dependent_variable,\n",
    "            xaxis=dict(autorange=\"reversed\" if X1[0] > X1[-1] else True),\n",
    "            camera=dict(eye=dict(x=1.5, y=1.5, z=1.5))\n",
    "        ),\n",
    "        autosize=True,\n",
    "        width=None,  # Let Jupyter determine width\n",
    "        height=900,\n",
    "        showlegend=True,\n",
    "        legend=dict(x=0.02, y=0.98),\n",
    "        hovermode=\"closest\"\n",
    "    )\n",
    "\n",
    "    fig.show()\n",
    "\n",
    "\n",
    "betas =linear_regression_matrix(\n",
    "    data=data,\n",
    "    dependent_variable=\"mpg\",\n",
    "    independent_variables=[\"weight\", \"acceleration\"],\n",
    ")\n",
    "\n",
    "# Create the interactive visualization\n",
    "interactive_3d_regression(\n",
    "    data=data,\n",
    "    dependent_variable=\"mpg\",\n",
    "    independent_variables=[\"weight\", \"acceleration\"],\n",
    "    betas=betas\n",
    ")"
   ]
  },
  {
   "cell_type": "code",
   "execution_count": 19,
   "id": "747fdbc4",
   "metadata": {},
   "outputs": [
    {
     "name": "stdout",
     "output_type": "stream",
     "text": [
      "Data matrix X shape: (392, 5)\n",
      "First 5 rows of X:\n",
      "[[   1.  3504.   307.   130.    12. ]\n",
      " [   1.  3693.   350.   165.    11.5]\n",
      " [   1.  3436.   318.   150.    11. ]\n",
      " [   1.  3433.   304.   150.    12. ]\n",
      " [   1.  3449.   302.   140.    10.5]]\n",
      "\n",
      "==================================================\n",
      "Coefficient Estimates (Matrix Method)\n",
      "==================================================\n",
      "Intercept: 45.2511, with standard error 2.4466\n",
      "Slope for weight         : -0.0053, with standard error 0.0008\n",
      "Slope for displacement   : -0.0060, with standard error 0.0067\n",
      "Slope for horsepower     : -0.0436, with standard error 0.0165\n",
      "Slope for acceleration   : -0.0231, with standard error 0.1251\n",
      "R-squared: 0.7070\n",
      "Sum of Squared Errors (SSE): 6979.4132\n",
      "Mean Squared Error (MSE): 17.8046\n"
     ]
    },
    {
     "data": {
      "text/plain": [
       "array([45.2511, -0.0053, -0.006 , -0.0436, -0.0231])"
      ]
     },
     "execution_count": 19,
     "metadata": {},
     "output_type": "execute_result"
    }
   ],
   "source": [
    "linear_regression_matrix(\n",
    "    data=data,\n",
    "    dependent_variable=\"mpg\",\n",
    "    independent_variables=[\"weight\", \"displacement\", \"horsepower\", \"acceleration\"],\n",
    ")"
   ]
  },
  {
   "cell_type": "code",
   "execution_count": 20,
   "id": "0b2f6b77",
   "metadata": {},
   "outputs": [
    {
     "name": "stdout",
     "output_type": "stream",
     "text": [
      "                            OLS Regression Results                            \n",
      "==============================================================================\n",
      "Dep. Variable:                    mpg   R-squared:                       0.707\n",
      "Model:                            OLS   Adj. R-squared:                  0.704\n",
      "Method:                 Least Squares   F-statistic:                     233.4\n",
      "Date:                Sun, 28 Sep 2025   Prob (F-statistic):          9.63e-102\n",
      "Time:                        22:38:38   Log-Likelihood:                -1120.6\n",
      "No. Observations:                 392   AIC:                             2251.\n",
      "Df Residuals:                     387   BIC:                             2271.\n",
      "Df Model:                           4                                         \n",
      "Covariance Type:            nonrobust                                         \n",
      "================================================================================\n",
      "                   coef    std err          t      P>|t|      [0.025      0.975]\n",
      "--------------------------------------------------------------------------------\n",
      "Intercept       45.2511      2.456     18.424      0.000      40.422      50.080\n",
      "weight          -0.0053      0.001     -6.512      0.000      -0.007      -0.004\n",
      "displacement    -0.0060      0.007     -0.894      0.372      -0.019       0.007\n",
      "horsepower      -0.0436      0.017     -2.631      0.009      -0.076      -0.011\n",
      "acceleration    -0.0231      0.126     -0.184      0.854      -0.270       0.224\n",
      "==============================================================================\n",
      "Omnibus:                       38.359   Durbin-Watson:                   0.861\n",
      "Prob(Omnibus):                  0.000   Jarque-Bera (JB):               51.333\n",
      "Skew:                           0.715   Prob(JB):                     7.13e-12\n",
      "Kurtosis:                       4.049   Cond. No.                     3.56e+04\n",
      "==============================================================================\n",
      "\n",
      "Notes:\n",
      "[1] Standard Errors assume that the covariance matrix of the errors is correctly specified.\n",
      "[2] The condition number is large, 3.56e+04. This might indicate that there are\n",
      "strong multicollinearity or other numerical problems.\n",
      "R² improvement from simple to multiple regression:\n",
      "  Simple (weight only): 0.693\n",
      "  Multiple (4 predictors): 0.707\n",
      "  Adjusted R²: 0.704\n",
      "  Improvement: 1.4%\n",
      "\n",
      "Significant Predictors (p < 0.05):\n",
      "  - weight: β = -0.0053, p = 0.0000\n",
      "  - horsepower: β = -0.0436, p = 0.0088\n",
      "\n",
      "Non-Significant Predictors (p >= 0.05):\n",
      "  - displacement: β = -0.0060, p = 0.3717\n",
      "  - acceleration: β = -0.0231, p = 0.8539\n"
     ]
    }
   ],
   "source": [
    "import statsmodels.formula.api as smf\n",
    "\n",
    "# Define the model using formula notation\n",
    "# The + signs indicate additive effects (no interactions)\n",
    "model = smf.ols(formula=\"mpg ~ weight + displacement + horsepower + acceleration\", data=data)\n",
    "\n",
    "# Fit the model\n",
    "result = model.fit()\n",
    "\n",
    "# Display the results\n",
    "print(result.summary())\n",
    "\n",
    "# R-squared comparison\n",
    "r2_simple = 0.693  # From our simple regression with weight only\n",
    "r2_multiple = result.rsquared\n",
    "r2_adj = result.rsquared_adj\n",
    "\n",
    "print(f\"R² improvement from simple to multiple regression:\")\n",
    "print(f\"  Simple (weight only): {r2_simple:.3f}\")\n",
    "print(f\"  Multiple (4 predictors): {r2_multiple:.3f}\")\n",
    "print(f\"  Adjusted R²: {r2_adj:.3f}\")\n",
    "print(f\"  Improvement: {(r2_multiple - r2_simple)*100:.1f}%\")\n",
    "\n",
    "# Significant predictors (p < 0.05)\n",
    "print(f\"\\nSignificant Predictors (p < 0.05):\")\n",
    "for param, pvalue in result.pvalues.items():\n",
    "    if pvalue < 0.05 and param != \"Intercept\":\n",
    "        coef = result.params[param]\n",
    "        print(f\"  - {param}: β = {coef:.4f}, p = {pvalue:.4f}\")\n",
    "\n",
    "# Non-significant predictors\n",
    "print(f\"\\nNon-Significant Predictors (p >= 0.05):\")\n",
    "for param, pvalue in result.pvalues.items():\n",
    "    if pvalue >= 0.05 and param != \"Intercept\":\n",
    "        coef = result.params[param]\n",
    "        print(f\"  - {param}: β = {coef:.4f}, p = {pvalue:.4f}\")"
   ]
  },
  {
   "cell_type": "markdown",
   "id": "c1d1214a",
   "metadata": {},
   "source": [
    "### Checking for Multicollinearity\n",
    "\n",
    "Let's examine the correlation matrix of our continuous variables:"
   ]
  },
  {
   "cell_type": "code",
   "execution_count": 21,
   "id": "2ff36c72",
   "metadata": {},
   "outputs": [
    {
     "name": "stdout",
     "output_type": "stream",
     "text": [
      "Correlation Matrix of Continuous Variables:\n",
      "============================================================\n",
      "              weight  displacement  horsepower  acceleration\n",
      "weight         1.000         0.933       0.865        -0.417\n",
      "displacement   0.933         1.000       0.897        -0.544\n",
      "horsepower     0.865         0.897       1.000        -0.689\n",
      "acceleration  -0.417        -0.544      -0.689         1.000\n"
     ]
    },
    {
     "data": {
      "image/png": "[encoded data removed]",
      "text/plain": [
       "<Figure size 1000x800 with 2 Axes>"
      ]
     },
     "metadata": {},
     "output_type": "display_data"
    },
    {
     "name": "stdout",
     "output_type": "stream",
     "text": [
      "\n",
      "============================================================\n",
      "High Correlations (|r| > 0.7):\n",
      "============================================================\n",
      "weight <-> displacement: 0.933\n",
      "weight <-> horsepower: 0.865\n",
      "displacement <-> horsepower: 0.897\n"
     ]
    }
   ],
   "source": [
    "# Check for multicollinearity by examining correlations between predictors\n",
    "# High correlations (> 0.7 or < -0.7) indicate potential multicollinearity issues\n",
    "\n",
    "# Calculate correlation matrix for continuous variables\n",
    "continuous_variables = [\"weight\", \"displacement\", \"horsepower\", \"acceleration\"]\n",
    "correlation_matrix = data[continuous_variables].corr()\n",
    "\n",
    "# Display the correlation matrix\n",
    "print(\"Correlation Matrix of Continuous Variables:\")\n",
    "print(\"=\"*60)\n",
    "print(correlation_matrix.round(3))\n",
    "\n",
    "# Visualize the correlation matrix with a heatmap\n",
    "plt.figure(figsize=(10, 8))\n",
    "sns.heatmap(correlation_matrix, annot=True, fmt=\".3f\", cmap=\"coolwarm\",\n",
    "            center=0, square=True, linewidths=1,\n",
    "            cbar_kws={\"shrink\": 0.8})\n",
    "plt.title(\"Correlation Matrix: Checking for Multicollinearity\")\n",
    "plt.tight_layout()\n",
    "plt.show()\n",
    "\n",
    "# Identify high correlations (excluding diagonal)\n",
    "print(\"\\n\" + \"=\"*60)\n",
    "print(\"High Correlations (|r| > 0.7):\")\n",
    "print(\"=\"*60)\n",
    "for i in range(len(correlation_matrix.columns)):\n",
    "    for j in range(i+1, len(correlation_matrix.columns)):\n",
    "        corr_value = correlation_matrix.iloc[i, j]\n",
    "        if abs(corr_value) > 0.7:\n",
    "            var1 = correlation_matrix.columns[i]\n",
    "            var2 = correlation_matrix.columns[j]\n",
    "            print(f\"{var1} <-> {var2}: {corr_value:.3f}\")"
   ]
  },
  {
   "cell_type": "markdown",
   "id": "c08ce1c5",
   "metadata": {},
   "source": [
    "## Dealing with categorical variables\n",
    "\n",
    "Let's consider the `origin` variable in the Auto MPG dataset, it is a categorical variable with 3 levels: `USA`, `Europe`, and `Asia`.\n",
    "In the dataset, it is encoded as 1, 2, and 3. However, we can not treat it as a continuous variable, and use it in the linear regression model. \n",
    "Instead, we need to convert it to a meaningful representation that can be used in the model.\n",
    "\n",
    "The most common way to do this is to to create dummy variables for this categorical variable.\n",
    "With a categorical variable with $k$ levels, we can create $k-1$ dummy variables, and the last level is the baseline.\n",
    "\n",
    "For example, if we have a categorical variable with 3 levels: `USA`, `Europe`, and `Asia`, we can create 2 dummy variables,\n",
    "and using `USA` as the baseline (the choice is arbitrary, but we need to be consistent). As such, we can create the following dummy variables:\n",
    "\n",
    "- `origin_is_europe`\n",
    "- `origin_is_asia`\n",
    "\n",
    "whose value will be [1, 0] and [0, 1] for `Europe` and `Asia` respectively. If the value is `USA`, the value will be [0, 0]."
   ]
  }
 ],
 "metadata": {
  "kernelspec": {
   "display_name": ".venv",
   "language": "python",
   "name": "python3"
  },
  "language_info": {
   "codemirror_mode": {
    "name": "ipython",
    "version": 3
   },
   "file_extension": ".py",
   "mimetype": "text/x-python",
   "name": "python",
   "nbconvert_exporter": "python",
   "pygments_lexer": "ipython3",
   "version": "3.11.10"
  }
 },
 "nbformat": 4,
 "nbformat_minor": 5
}
