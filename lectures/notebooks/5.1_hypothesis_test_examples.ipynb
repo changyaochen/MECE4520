{
 "cells": [
  {
   "cell_type": "markdown",
   "id": "92f52fac",
   "metadata": {},
   "source": [
    "# Hypothesis Test Examples\n",
    "\n",
    "## Example 1: Class survey\n",
    "\n",
    "We have conducted a survey to the >100 students in this class, with the question of \n",
    "\"What do you think about the pace of the course?\".\n",
    "\n",
    "There are 3 options: about right, too fast, too slow.\n",
    "\n",
    "My hypothesis is that the majority of class, that is, > 80% of the students, think that the pace is about right.\n",
    "We want to test this hypothesis using the survey results.\n",
    "\n",
    "Since there are 3 possible outcomes, to turn this to something we are more familiar with, \n",
    "we can turn this to a binomial test, by grouping the \"too fast\" and \"too slow\" together as \"not about right\".\n",
    "\n",
    "Therefore, we have:\n",
    "$$H_0: p = 0.8$$\n",
    "$$H_a: p > 0.8$$\n",
    "\n",
    "The Null distribution is a Normal distribution with mean 0.8 and standard deviation $\\sqrt{p(1-p)/n}$."
   ]
  },
  {
   "cell_type": "code",
   "execution_count": 21,
   "id": "3ab68f0a",
   "metadata": {},
   "outputs": [
    {
     "name": "stdout",
     "output_type": "stream",
     "text": [
      "==========\n",
      "Approach 1: find the critical value and the corresponding rejection region\n",
      "\n",
      "The critical value is 0.876.\n",
      "The rejection region is 0.876 or more.\n",
      "The observed proportion is 0.893.\n",
      "\n",
      "==========\n",
      "Approach 2: find the p-value\n",
      "\n",
      "The p-value is 0.022.\n",
      "The preset alpha is 0.050.\n"
     ]
    }
   ],
   "source": [
    "import numpy as np\n",
    "from scipy.stats import norm\n",
    "\n",
    "n_samples = 75\n",
    "n_yes = 67\n",
    "p_hat = n_yes / n_samples\n",
    "\n",
    "p_0 = 0.8\n",
    "alpha = 0.05\n",
    "\n",
    "# Calculate the standard error of the proportion\n",
    "se = np.sqrt(p_0 * (1 - p_0) / n_samples)\n",
    "\n",
    "# Approach 1: find the critical value and the corresponding rejection region\n",
    "print(\"=\"* 10 + \"\\nApproach 1: find the critical value and the corresponding rejection region\\n\")\n",
    "p_critical = norm.ppf(1 - alpha, loc=p_0, scale=se)\n",
    "\n",
    "print(f\"The critical value is {p_critical:.3f}.\")\n",
    "print(f\"The rejection region is {p_critical:.3f} or more.\")\n",
    "print(f\"The observed proportion is {p_hat:.3f}.\")\n",
    "\n",
    "# Approach 2: find the p-value\n",
    "print(\"\\n\" + \"=\"* 10 + \"\\nApproach 2: find the p-value\\n\")\n",
    "p_value = 1 - norm.cdf(p_hat, loc=p_0, scale=se)  # or norm.sf(p_hat, loc=p_0, scale=se)\n",
    "print(f\"The p-value is {p_value:.3f}.\")\n",
    "print(f\"The preset alpha is {alpha:.3f}.\")\n"
   ]
  },
  {
   "cell_type": "markdown",
   "id": "23a26979",
   "metadata": {},
   "source": [
    "## Example 2: Alzheimer's Disease drug trial (Biogen)\n",
    "\n",
    "Biogen is a company that develops drugs for Alzheimer's Disease.\n",
    "They want to develop a drug hopoing to slow down the progression of Alzheimer's Disease.\n",
    "\n",
    "One of such studies is EMERGE (protocol 221AD302): a Phase 3, randomized, double-blind, \n",
    "placebo-controlled study of aducanumab (BIIB037) in patients with early Alzheimer’s disease.\n",
    "\n",
    "The trial had two dose arms (high dose and low dose) compared to placebo (control), with monthly infusions.\n",
    "The primary outcome measure is the change from baseline in the Clinical Dementia Rating Scale - Sum of Boxes (CDR-SB) score at Week 78.\n",
    "\n",
    "Below is the summary of the trial:\n",
    "| Group     | Sample Size | Sample Mean | Sample Standard Deviation |\n",
    "|-----------|-------------|-------------|---------------------------|\n",
    "| Control   | 288         | 1.74        | 1.95                      |\n",
    "| Low dose  | 290         | 1.47        | 1.97                      |\n",
    "| High dose | 299         | 1.35        | 1.99                      |\n"
   ]
  },
  {
   "cell_type": "code",
   "execution_count": 22,
   "id": "8b85c8ef",
   "metadata": {},
   "outputs": [
    {
     "name": "stdout",
     "output_type": "stream",
     "text": [
      "The p-value for the low dose vs control is 0.049.\n",
      "The p-value for the high dose vs control is 0.008.\n"
     ]
    }
   ],
   "source": [
    "# Control group stats\n",
    "n_c, mean_c, sd_c = 288, 1.74, 1.95\n",
    "# Low dose\n",
    "n_l, mean_l, sd_l = 290, 1.47, 1.97\n",
    "# High dose\n",
    "n_h, mean_h, sd_h = 299, 1.35, 1.99\n",
    "\n",
    "def calculate_z_score(mean_1, mean_2, sd_1, sd_2, n_1, n_2):\n",
    "    # Calculate the z-score under the null hypothesis that the two groups have the same mean\n",
    "    return (mean_1 - mean_2) / np.sqrt(sd_1**2 / n_1 + sd_2**2 / n_2)\n",
    "\n",
    "# Between the low dose and control\n",
    "z_c_l = calculate_z_score(mean_c, mean_l, sd_c, sd_l, n_c, n_l)\n",
    "p_c_l = norm.sf(z_c_l)\n",
    "print(f\"The p-value for the low dose vs control is {p_c_l:.3f}.\")\n",
    "\n",
    "# Between the high dose and control\n",
    "z_c_h = calculate_z_score(mean_c, mean_h, sd_c, sd_h, n_c, n_h)\n",
    "p_c_h = norm.sf(z_c_h)\n",
    "print(f\"The p-value for the high dose vs control is {p_c_h:.3f}.\")"
   ]
  }
 ],
 "metadata": {
  "kernelspec": {
   "display_name": ".venv",
   "language": "python",
   "name": "python3"
  },
  "language_info": {
   "codemirror_mode": {
    "name": "ipython",
    "version": 3
   },
   "file_extension": ".py",
   "mimetype": "text/x-python",
   "name": "python",
   "nbconvert_exporter": "python",
   "pygments_lexer": "ipython3",
   "version": "3.11.10"
  }
 },
 "nbformat": 4,
 "nbformat_minor": 5
}
