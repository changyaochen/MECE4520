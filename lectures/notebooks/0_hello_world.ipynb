{
    "cells": [
        {
            "cell_type": "markdown",
            "id": "c51eb91e",
            "metadata": {},
            "source": [
                "# Welcome to MECE4520: Data Science for Mechanical Systems\n",
                "\n",
                "## Python Basics Primer\n",
                "\n",
                "**Learning Objectives:**\n",
                "- Understand Python data types and variables\n",
                "- Learn control structures and functions\n",
                "- Practice with pandas for data manipulation\n",
                "- Create basic visualizations with matplotlib\n",
                "- Apply concepts to real datasets\n",
                "\n",
                "**Prerequisites:** Basic programming concepts (variables, loops, functions)"
            ]
        },
        {
            "cell_type": "code",
            "execution_count": 1,
            "id": "45b8ea81",
            "metadata": {},
            "outputs": [],
            "source": [
                "# Essential libraries for data science\n",
                "# These are the most commonly used Python libraries for data analysis and visualization\n",
                "\n",
                "import matplotlib.pyplot as plt  # For creating plots and visualizations (charts, graphs)\n",
                "import numpy as np  # For numerical computing and working with arrays (mathematical operations)\n",
                "import pandas as pd  # For data manipulation and analysis (working with tables/spreadsheets)\n",
                "import sklearn  # For machine learning algorithms (predictive modeling)\n",
                "\n",
                "# Set up matplotlib for better-looking plots\n",
                "plt.style.use('default')        # Use the default plotting style\n",
                "plt.rcParams['figure.figsize'] = (10, 6)  # Set default figure size: width=10, height=6 inches"
            ]
        },
        {
            "cell_type": "code",
            "execution_count": 2,
            "id": "114593cf",
            "metadata": {},
            "outputs": [
                {
                    "name": "stdout",
                    "output_type": "stream",
                    "text": [
                        "The version of numpy is: 2.3.2\n",
                        "The version of pandas is: 2.3.1\n",
                        "The version of scikit-learn is: 1.7.1\n"
                    ]
                }
            ],
            "source": [
                "# Check the versions of our installed libraries\n",
                "# This helps ensure compatibility and troubleshooting\n",
                "# The f-string (f\"...\") allows us to embed variables inside strings using {}\n",
                "\n",
                "print(f\"The version of numpy is: {np.__version__}\")\n",
                "print(f\"The version of pandas is: {pd.__version__}\")\n",
                "print(f\"The version of scikit-learn is: {sklearn.__version__}\")"
            ]
        },
        {
            "cell_type": "markdown",
            "id": "3cdc04c7",
            "metadata": {},
            "source": [
                "## Variables"
            ]
        },
        {
            "cell_type": "code",
            "execution_count": 3,
            "id": "8db3d9ea",
            "metadata": {},
            "outputs": [
                {
                    "name": "stdout",
                    "output_type": "stream",
                    "text": [
                        "1\n",
                        "<class 'int'>\n",
                        "2.0\n",
                        "<class 'float'>\n"
                    ]
                }
            ],
            "source": [
                "# Creating variables to store different types of numbers\n",
                "# Variables are like containers that hold data\n",
                "number_1 = 1        # This is an integer (whole number)\n",
                "number_2 = 2.0      # This is a float (decimal number)\n",
                "\n",
                "# Let's see what we stored and what type Python thinks they are\n",
                "print(number_1)  # Print the value stored in number_1\n",
                "print(type(number_1))  # Print the data type of number_1\n",
                "print(number_2)\n",
                "print(type(number_2))"
            ]
        },
        {
            "cell_type": "code",
            "execution_count": 4,
            "id": "74d6a193",
            "metadata": {},
            "outputs": [
                {
                    "name": "stdout",
                    "output_type": "stream",
                    "text": [
                        "hello\n",
                        "<class 'str'>\n",
                        "hello world\n",
                        "<class 'str'>\n"
                    ]
                }
            ],
            "source": [
                "# Creating variables to store text (strings)\n",
                "# Strings are sequences of characters enclosed in quotes\n",
                "# You can use either single quotes ' or double quotes \"\n",
                "\n",
                "string_1 = \"hello\"  # Store the word \"hello\"\n",
                "string_2 = \"hello world\"  # Store the phrase \"hello world\"\n",
                "\n",
                "print(string_1)\n",
                "print(type(string_1))\n",
                "print(string_2)\n",
                "print(type(string_2))"
            ]
        },
        {
            "cell_type": "code",
            "execution_count": 5,
            "id": "deb21b6c",
            "metadata": {},
            "outputs": [
                {
                    "name": "stdout",
                    "output_type": "stream",
                    "text": [
                        "[1, 2, 3]\n",
                        "3\n",
                        "The second element in the list is: 2\n",
                        "The last element in the list is: 3\n"
                    ]
                }
            ],
            "source": [
                "# Creating a list to store multiple values\n",
                "# Lists are _ordered_ collections that can hold different types of data\n",
                "# Lists use square brackets [] and elements are separated by commas\n",
                "\n",
                "list_1 = [1, 2, 3]  # Create a list with three numbers\n",
                "\n",
                "print(list_1)\n",
                "print(len(list_1))  # len() tells us how many items are in the list\n",
                "print(f\"The second element in the list is: {list_1[1]}\")  # Access element at index 1 (second element)\n",
                "print(f\"The last element in the list is: {list_1[-1]}\")  # -1 means the last element"
            ]
        },
        {
            "cell_type": "code",
            "execution_count": 6,
            "id": "20b98b33",
            "metadata": {},
            "outputs": [
                {
                    "name": "stdout",
                    "output_type": "stream",
                    "text": [
                        "['hello', 'world', '1', 1]\n"
                    ]
                }
            ],
            "source": [
                "# Lists can contain different types of data mixed together\n",
                "# This list has strings and numbers\n",
                "list_2 = [\"hello\", \"world\", \"1\", 1]  # Mix of strings and numbers\n",
                "\n",
                "print(list_2)  # Print the mixed list\n",
                "# Note: \"1\" is a string, while 1 is a number"
            ]
        },
        {
            "cell_type": "code",
            "execution_count": 7,
            "id": "ca18c6aa",
            "metadata": {},
            "outputs": [],
            "source": [
                "# Creating a dictionary to store key-value pairs\n",
                "# Dictionaries are like lookup tables where you can find values using keys\n",
                "# They use curly braces {} and each item has a key: value format\n",
                "dict_1 = {\n",
                "    \"class_number\": \"MECE4520\",    # Key \"class_number\" maps to value \"MECE4520\"\n",
                "    \"class_capacity\": 150,          # Key \"class_capacity\" maps to value 150\n",
                "}"
            ]
        },
        {
            "cell_type": "code",
            "execution_count": 8,
            "id": "cf184092",
            "metadata": {},
            "outputs": [
                {
                    "name": "stdout",
                    "output_type": "stream",
                    "text": [
                        "<class 'dict'>\n",
                        "150\n"
                    ]
                }
            ],
            "source": [
                "# Let's explore our dictionary\n",
                "print(type(dict_1))\n",
                "print(dict_1[\"class_capacity\"])  # Access the value using the key \"class_capacity\"\n",
                "# This is like looking up \"class_capacity\" in a table and finding 150"
            ]
        },
        {
            "cell_type": "markdown",
            "id": "e3249ff2",
            "metadata": {},
            "source": [
                "## Operators"
            ]
        },
        {
            "cell_type": "code",
            "execution_count": 9,
            "id": "5695529e",
            "metadata": {},
            "outputs": [
                {
                    "data": {
                        "text/plain": [
                            "3.0"
                        ]
                    },
                    "execution_count": 9,
                    "metadata": {},
                    "output_type": "execute_result"
                }
            ],
            "source": [
                "# Basic arithmetic operations with our variables\n",
                "number_1 + number_2  # Add the two numbers: 1 + 2.0 = 3.0\n",
                "# Python automatically converts the result to a float since one of the numbers is a float"
            ]
        },
        {
            "cell_type": "code",
            "execution_count": 10,
            "id": "50d5d928",
            "metadata": {},
            "outputs": [
                {
                    "ename": "TypeError",
                    "evalue": "unsupported operand type(s) for /: 'list' and 'int'",
                    "output_type": "error",
                    "traceback": [
                        "\u001b[31m---------------------------------------------------------------------------\u001b[39m",
                        "\u001b[31mTypeError\u001b[39m                                 Traceback (most recent call last)",
                        "\u001b[36mCell\u001b[39m\u001b[36m \u001b[39m\u001b[32mIn[10]\u001b[39m\u001b[32m, line 2\u001b[39m\n\u001b[32m      1\u001b[39m \u001b[38;5;66;03m# this will fail\u001b[39;00m\n\u001b[32m----> \u001b[39m\u001b[32m2\u001b[39m \u001b[43mlist_1\u001b[49m\u001b[43m \u001b[49m\u001b[43m/\u001b[49m\u001b[43m \u001b[49m\u001b[43mnumber_1\u001b[49m\n",
                        "\u001b[31mTypeError\u001b[39m: unsupported operand type(s) for /: 'list' and 'int'"
                    ]
                }
            ],
            "source": [
                "# this will fail\n",
                "list_1 / number_1"
            ]
        },
        {
            "cell_type": "code",
            "execution_count": 11,
            "id": "e9965fc2",
            "metadata": {},
            "outputs": [
                {
                    "name": "stdout",
                    "output_type": "stream",
                    "text": [
                        "Error occurred: unsupported operand type(s) for /: 'list' and 'int'\n",
                        "Lists cannot be divided by numbers directly.\n",
                        "Use list comprehension instead:\n",
                        "Correct result: [1.0, 2.0, 3.0]\n"
                    ]
                }
            ],
            "source": [
                "# Better error handling - this is how professionals handle errors\n",
                "# try-except blocks let us catch errors and handle them gracefully\n",
                "try:\n",
                "    result = list_1 / number_1  # Try to divide a list by a number\n",
                "    print(f\"Result: {result}\")\n",
                "except TypeError as e:  # If a TypeError occurs, catch it and call it 'e'\n",
                "    print(f\"Error occurred: {e}\")  # Show what the error was\n",
                "    print(\"Lists cannot be divided by numbers directly.\")  # Explain the problem\n",
                "    print(\"Use list comprehension instead:\")  # Suggest a solution\n",
                "    result = [x / number_1 for x in list_1]  # Apply the solution\n",
                "    print(f\"Correct result: {result}\")  # Show the correct result"
            ]
        },
        {
            "cell_type": "code",
            "execution_count": 12,
            "id": "9b16b01e",
            "metadata": {},
            "outputs": [
                {
                    "data": {
                        "text/plain": [
                            "False"
                        ]
                    },
                    "execution_count": 12,
                    "metadata": {},
                    "output_type": "execute_result"
                }
            ],
            "source": [
                "# Comparison operators return True or False (boolean values)\n",
                "number_1 >= number_2  # Is 1 greater than or equal to 2.0? (False)\n",
                "# Other comparison operators: >, <, <=, == (equal), != (not equal)"
            ]
        },
        {
            "cell_type": "code",
            "execution_count": 13,
            "id": "da365c0b",
            "metadata": {},
            "outputs": [
                {
                    "data": {
                        "text/plain": [
                            "True"
                        ]
                    },
                    "execution_count": 13,
                    "metadata": {},
                    "output_type": "execute_result"
                }
            ],
            "source": [
                "# Comparing the lengths of two strings\n",
                "len(list_2[0]) == len(list_2[1])  # Is the length of \"hello\" equal to the length of \"world\"?\n",
                "# list_2[0] is \"hello\" (length 5), list_2[1] is \"world\" (length 5)\n",
                "# So this comparison returns True"
            ]
        },
        {
            "cell_type": "code",
            "execution_count": 14,
            "id": "01452595",
            "metadata": {},
            "outputs": [
                {
                    "data": {
                        "text/plain": [
                            "False"
                        ]
                    },
                    "execution_count": 14,
                    "metadata": {},
                    "output_type": "execute_result"
                }
            ],
            "source": [
                "# Logical operators combine boolean values\n",
                "(len(list_2[0]) == len(list_2[1])) and False  # True AND False = False\n",
                "# The first part (len comparison) is True, but AND with False always gives False\n",
                "# Logical operators: and, or, not\n",
                "# True and True = True, True and False = False, False and False = False"
            ]
        },
        {
            "cell_type": "markdown",
            "id": "67f19e86",
            "metadata": {},
            "source": [
                "## Control Structures"
            ]
        },
        {
            "cell_type": "code",
            "execution_count": 15,
            "id": "13482143",
            "metadata": {},
            "outputs": [
                {
                    "name": "stdout",
                    "output_type": "stream",
                    "text": [
                        "Bring an umbrella!\n"
                    ]
                }
            ],
            "source": [
                "# Control structures: if-elif-else statements\n",
                "# These let us make decisions in our code based on conditions\n",
                "wether_today = \"raining\"  # Set the weather condition\n",
                "\n",
                "if wether_today == \"raining\":  # Check if it's raining\n",
                "    print(\"Bring an umbrella!\")  # If True, do this\n",
                "elif wether_today == \"sunny\":  # If first condition was False, check if sunny\n",
                "    print(\"Enjoy the sun!\")\n",
                "else:\n",
                "    print(\"What is the wether today?\")   # Do this instead\n",
                "# Note: elif means \"else if\" - it's a shorter way to write else if"
            ]
        },
        {
            "cell_type": "code",
            "execution_count": 16,
            "id": "01d27c0b",
            "metadata": {},
            "outputs": [
                {
                    "name": "stdout",
                    "output_type": "stream",
                    "text": [
                        "The number is: 0\n",
                        "The number is: 1\n",
                        "The number is: 2\n",
                        "The number is: 3\n",
                        "The number is: 4\n",
                        "The number is: 5\n",
                        "The number is: 6\n",
                        "The number is: 7\n",
                        "The number is: 8\n",
                        "The number is: 9\n"
                    ]
                }
            ],
            "source": [
                "# For loops: repeating actions a specific number of times\n",
                "# range(10) creates a sequence: 0, 1, 2, 3, 4, 5, 6, 7, 8, 9\n",
                "# The variable 'i' takes each value in the sequence one by one\n",
                "for i in range(10):  # Loop 10 times, starting from 0\n",
                "    print(\"The number is:\", i)  # Print each number\n",
                "# This is much more efficient than writing 10 separate print statements!"
            ]
        },
        {
            "cell_type": "code",
            "execution_count": 17,
            "id": "eab5171b",
            "metadata": {},
            "outputs": [
                {
                    "name": "stdout",
                    "output_type": "stream",
                    "text": [
                        "The number is: 0\n",
                        "The number is: 1\n",
                        "The number is: 2\n",
                        "The number is: 3\n",
                        "The number is: 4\n",
                        "The number is: 5\n",
                        "The number is: 6\n",
                        "The number is: 7\n",
                        "The number is: 8\n",
                        "The number is: 9\n"
                    ]
                }
            ],
            "source": [
                "# While loops: repeating actions while a condition is True\n",
                "# This is another way to loop, but we control the condition manually\n",
                "i = 0  # Start with i = 0\n",
                "while i < 10:  # Keep looping while i is less than 10\n",
                "    print(\"The number is:\", i)  # Print the current value of i\n",
                "    i += 1  # Increase i by 1 (same as i = i + 1)\n",
                "# Be careful with while loops - make sure the condition eventually becomes False!"
            ]
        },
        {
            "cell_type": "markdown",
            "id": "11b713df",
            "metadata": {},
            "source": [
                "## List comprehension"
            ]
        },
        {
            "cell_type": "code",
            "execution_count": 18,
            "id": "aa131c8f",
            "metadata": {},
            "outputs": [
                {
                    "data": {
                        "text/plain": [
                            "[0, 1, 4, 9, 16, 25, 36, 49, 64, 81]"
                        ]
                    },
                    "execution_count": 18,
                    "metadata": {},
                    "output_type": "execute_result"
                }
            ],
            "source": [
                "# Creating a list using a traditional for loop\n",
                "# This is the \"old way\" of building lists\n",
                "list_3 = []  # Start with an empty list\n",
                "for i in range(10):  # Loop through numbers 0 to 9\n",
                "    list_3.append(i**2)  # Add the square of each number to the list\n",
                "\n",
                "list_3\n",
                "# This creates: [0, 1, 4, 9, 16, 25, 36, 49, 64, 81]"
            ]
        },
        {
            "cell_type": "code",
            "execution_count": 19,
            "id": "9263a1f4",
            "metadata": {},
            "outputs": [
                {
                    "name": "stdout",
                    "output_type": "stream",
                    "text": [
                        "[0, 1, 4, 9, 16, 25, 36, 49, 64, 81]\n"
                    ]
                }
            ],
            "source": [
                "# List comprehension: a more Pythonic way to create lists\n",
                "# This does the same thing as the previous example but in one line!\n",
                "list_4 = [i**2 for i in range(10)]  # Create list of squares for numbers 0-9\n",
                "print(list_4)"
            ]
        },
        {
            "cell_type": "code",
            "execution_count": 20,
            "id": "60723f55",
            "metadata": {},
            "outputs": [
                {
                    "data": {
                        "text/plain": [
                            "[1.25, 0, 10.22, 3.78, 0, 1.16]"
                        ]
                    },
                    "execution_count": 20,
                    "metadata": {},
                    "output_type": "execute_result"
                }
            ],
            "source": [
                "# Conditional list comprehension: applying logic while building lists\n",
                "list_5 = [1.25, -9.45, 10.22, 3.78, -5.92, 1.16]  # Some numbers (positive and negative)\n",
                "list_6 = [x if x > 0 else 0 for x in list_5]  # Keep positive numbers, replace negatives with 0\n",
                "\n",
                "list_6\n",
                "# This is like saying: \"For each number x in list_5, if x > 0 keep x, otherwise use 0\"\n",
                "# Result: [1.25, 0, 10.22, 3.78, 0, 1.16]\n",
                "# The same thing can be by with `np.maximum(list_5, 0)`"
            ]
        },
        {
            "cell_type": "markdown",
            "id": "697b044b",
            "metadata": {},
            "source": [
                "## Function"
            ]
        },
        {
            "cell_type": "code",
            "execution_count": 21,
            "id": "24035906",
            "metadata": {},
            "outputs": [
                {
                    "data": {
                        "text/plain": [
                            "3"
                        ]
                    },
                    "execution_count": 21,
                    "metadata": {},
                    "output_type": "execute_result"
                }
            ],
            "source": [
                "# Functions: reusable blocks of code that perform specific tasks\n",
                "# def means \"define a function\"\n",
                "# Parameters are the inputs the function expects (number_1, number_2)\n",
                "# Type hints (float) tell us what type of data the function expects\n",
                "# -> float tells us what type the function returns\n",
                "def add(number_1: float, number_2: float) -> float:\n",
                "    \"\"\"Adds two numbers.\"\"\"  # Docstring: explains what the function does\n",
                "    return number_1 + number_2  # return sends the result back to whoever called the function\n",
                "\n",
                "add(1, 2)  # Call the function with arguments 1 and 2\n",
                "# The function returns 3, which gets displayed"
            ]
        },
        {
            "cell_type": "code",
            "execution_count": 22,
            "id": "5ef5bcfb",
            "metadata": {},
            "outputs": [],
            "source": [
                "# A more complex function: calculating square root using Newton's method\n",
                "# This shows how functions can contain other functions and complex logic\n",
                "def square_root(x: float) -> float:\n",
                "    \"\"\"Calculates the square root of the input using Newton's method.\n",
                "\n",
                "    Args:\n",
                "        x (float): The input number, must be greater or equal to zero.\n",
                "\n",
                "    Returns:\n",
                "        (float): Square root of the input.\n",
                "\n",
                "    Raises:\n",
                "        ValueError: If the input number is negative.\n",
                "    \"\"\"\n",
                "    # Input validation: check if the number is negative\n",
                "    if x < 0:\n",
                "        raise ValueError(\"The input number can not be negative.\")\n",
                "\n",
                "    # Nested function: a function defined inside another function\n",
                "    # It is only available inside this function (square_root)\n",
                "    def get_next_guess(current_guess: float) -> float:\n",
                "        \"\"\"Gets next guess using Newton's method.\"\"\"\n",
                "        return 0.5 * (current_guess + x / current_guess)\n",
                "\n",
                "    # Newton's method: keep improving the guess until it's good enough\n",
                "    epsilon = 1e-5  # How close we want to get (0.00001)\n",
                "    current_guess = x  # Start with x as our first guess\n",
                "    next_guess = get_next_guess(current_guess)  # Calculate the next guess\n",
                "\n",
                "    # Keep improving the guess until it's accurate enough\n",
                "    while abs(current_guess - next_guess) > epsilon:  # While our guesses are still improving significantly\n",
                "        current_guess = next_guess  # Update current guess\n",
                "        next_guess = get_next_guess(current_guess)  # Calculate new guess\n",
                "\n",
                "    return next_guess  # Return our best guess"
            ]
        },
        {
            "cell_type": "code",
            "execution_count": 23,
            "id": "09460e81",
            "metadata": {},
            "outputs": [
                {
                    "data": {
                        "text/plain": [
                            "1.7320508075688772"
                        ]
                    },
                    "execution_count": 23,
                    "metadata": {},
                    "output_type": "execute_result"
                }
            ],
            "source": [
                "# Test our square root function\n",
                "square_root(3)  # Calculate the square root of 3\n",
                "# This will use Newton's method to find √3 ≈ 1.732..."
            ]
        },
        {
            "cell_type": "markdown",
            "id": "19614254",
            "metadata": {},
            "source": [
                "## Class"
            ]
        },
        {
            "cell_type": "code",
            "execution_count": 24,
            "id": "2f41b720",
            "metadata": {},
            "outputs": [],
            "source": [
                "# Classes: blueprints for creating objects with data and behavior\n",
                "# Think of a class as a template for creating similar things\n",
                "class Person:\n",
                "    \"\"\"A simple class representing a person.\"\"\"\n",
                "\n",
                "    def __init__(self, name: str):  # Constructor: runs when creating a new Person\n",
                "        self.name = name  # self.name stores the name for this specific person\n",
                "        # self refers to the current instance of the class\n",
                "\n",
                "    def say(self, words: str):  # Method: something a person can do\n",
                "        \"\"\"Says something.\"\"\"\n",
                "        print(f\"{self.name} says: {words}\")  # Use the person's name\n",
                "\n",
                "    def pat(self, person: \"Person\"):  # Method that takes another person as input\n",
                "        \"\"\"Pats another person.\"\"\"\n",
                "        print(f\"{self.name} pats {person.name}'s shoulder.\")  # Access the other person's name"
            ]
        },
        {
            "cell_type": "code",
            "execution_count": 25,
            "id": "55525b12",
            "metadata": {},
            "outputs": [
                {
                    "name": "stdout",
                    "output_type": "stream",
                    "text": [
                        "John Doe says: Hello!\n"
                    ]
                }
            ],
            "source": [
                "# Create an instance (object) of our Person class\n",
                "person_1 = Person(\"John Doe\")  # Create a person named \"John Doe\"\n",
                "person_1.say(\"Hello!\")  # Call the say method on this person\n",
                "# This will print: \"John Doe says: Hello!\""
            ]
        },
        {
            "cell_type": "code",
            "execution_count": 26,
            "id": "90a1c3ce",
            "metadata": {},
            "outputs": [
                {
                    "name": "stdout",
                    "output_type": "stream",
                    "text": [
                        "Jane Doe says: Hello too!\n"
                    ]
                }
            ],
            "source": [
                "# Create another person object\n",
                "person_2 = Person(\"Jane Doe\")  # Create a person named \"Jane Doe\"\n",
                "person_2.say(\"Hello too!\")  # Call the say method on this person\n",
                "# This will print: \"Jane Doe says: Hello too!\""
            ]
        },
        {
            "cell_type": "code",
            "execution_count": 27,
            "id": "76b2dba0",
            "metadata": {},
            "outputs": [
                {
                    "name": "stdout",
                    "output_type": "stream",
                    "text": [
                        "John Doe pats Jane Doe's shoulder.\n"
                    ]
                }
            ],
            "source": [
                "person_1.pat(person_2)"
            ]
        },
        {
            "cell_type": "markdown",
            "id": "cf3d5fcc",
            "metadata": {},
            "source": [
                "## Basic data manipulation"
            ]
        },
        {
            "cell_type": "code",
            "execution_count": 28,
            "id": "507ab151",
            "metadata": {},
            "outputs": [
                {
                    "name": "stdout",
                    "output_type": "stream",
                    "text": [
                        "Number of readings: 100\n",
                        "Average reading: 98.77\n",
                        "Standard deviation: 15.66\n",
                        "Min reading: 55.96\n",
                        "Max reading: 139.02\n"
                    ]
                }
            ],
            "source": [
                "# Simulate sensor readings - this is common in data science and engineering\n",
                "# We'll create fake data that mimics real sensor measurements\n",
                "\n",
                "# Generate 100 random sensor readings using normal distribution\n",
                "# loc is the mean, scale is the standard deviation, size is the number of samples\n",
                "sensor_data = np.random.normal(loc=100, scale=15, size=100)\n",
                "\n",
                "# Now let's analyze our simulated data using numpy functions\n",
                "print(f\"Number of readings: {len(sensor_data)}\")           # How many data points we have\n",
                "print(f\"Average reading: {np.mean(sensor_data):.2f}\")     # Mean (average) of all readings\n",
                "print(f\"Standard deviation: {np.std(sensor_data):.2f}\")   # How spread out the data is\n",
                "print(f\"Min reading: {min(sensor_data):.2f}\")             # Smallest value\n",
                "print(f\"Max reading: {max(sensor_data):.2f}\")             # Largest value"
            ]
        },
        {
            "cell_type": "markdown",
            "id": "d3552280",
            "metadata": {},
            "source": [
                "## Using `pandas` for better data manipulation"
            ]
        },
        {
            "cell_type": "code",
            "execution_count": 29,
            "id": "e8ef213a",
            "metadata": {},
            "outputs": [
                {
                    "data": {
                        "text/html": [
                            "<div>\n",
                            "<style scoped>\n",
                            "    .dataframe tbody tr th:only-of-type {\n",
                            "        vertical-align: middle;\n",
                            "    }\n",
                            "\n",
                            "    .dataframe tbody tr th {\n",
                            "        vertical-align: top;\n",
                            "    }\n",
                            "\n",
                            "    .dataframe thead th {\n",
                            "        text-align: right;\n",
                            "    }\n",
                            "</style>\n",
                            "<table border=\"1\" class=\"dataframe\">\n",
                            "  <thead>\n",
                            "    <tr style=\"text-align: right;\">\n",
                            "      <th></th>\n",
                            "      <th>Id</th>\n",
                            "      <th>SepalLengthCm</th>\n",
                            "      <th>SepalWidthCm</th>\n",
                            "      <th>PetalLengthCm</th>\n",
                            "      <th>PetalWidthCm</th>\n",
                            "      <th>Species</th>\n",
                            "    </tr>\n",
                            "  </thead>\n",
                            "  <tbody>\n",
                            "    <tr>\n",
                            "      <th>0</th>\n",
                            "      <td>1</td>\n",
                            "      <td>5.1</td>\n",
                            "      <td>3.5</td>\n",
                            "      <td>1.4</td>\n",
                            "      <td>0.2</td>\n",
                            "      <td>Iris-setosa</td>\n",
                            "    </tr>\n",
                            "    <tr>\n",
                            "      <th>1</th>\n",
                            "      <td>2</td>\n",
                            "      <td>4.9</td>\n",
                            "      <td>3.0</td>\n",
                            "      <td>1.4</td>\n",
                            "      <td>0.2</td>\n",
                            "      <td>Iris-setosa</td>\n",
                            "    </tr>\n",
                            "    <tr>\n",
                            "      <th>2</th>\n",
                            "      <td>3</td>\n",
                            "      <td>4.7</td>\n",
                            "      <td>3.2</td>\n",
                            "      <td>1.3</td>\n",
                            "      <td>0.2</td>\n",
                            "      <td>Iris-setosa</td>\n",
                            "    </tr>\n",
                            "    <tr>\n",
                            "      <th>3</th>\n",
                            "      <td>4</td>\n",
                            "      <td>4.6</td>\n",
                            "      <td>3.1</td>\n",
                            "      <td>1.5</td>\n",
                            "      <td>0.2</td>\n",
                            "      <td>Iris-setosa</td>\n",
                            "    </tr>\n",
                            "    <tr>\n",
                            "      <th>4</th>\n",
                            "      <td>5</td>\n",
                            "      <td>5.0</td>\n",
                            "      <td>3.6</td>\n",
                            "      <td>1.4</td>\n",
                            "      <td>0.2</td>\n",
                            "      <td>Iris-setosa</td>\n",
                            "    </tr>\n",
                            "  </tbody>\n",
                            "</table>\n",
                            "</div>"
                        ],
                        "text/plain": [
                            "   Id  SepalLengthCm  SepalWidthCm  PetalLengthCm  PetalWidthCm      Species\n",
                            "0   1            5.1           3.5            1.4           0.2  Iris-setosa\n",
                            "1   2            4.9           3.0            1.4           0.2  Iris-setosa\n",
                            "2   3            4.7           3.2            1.3           0.2  Iris-setosa\n",
                            "3   4            4.6           3.1            1.5           0.2  Iris-setosa\n",
                            "4   5            5.0           3.6            1.4           0.2  Iris-setosa"
                        ]
                    },
                    "execution_count": 29,
                    "metadata": {},
                    "output_type": "execute_result"
                }
            ],
            "source": [
                "# Loading data from the internet using pandas\n",
                "# pd.read_csv() reads CSV files (comma-separated values) - a common data format\n",
                "# This loads the famous Iris dataset, which contains measurements of different iris flowers\n",
                "data = pd.read_csv(\"https://raw.githubusercontent.com/changyaochen/MECE4520/master/data/iris.csv\")\n",
                "data.head()  # Show the first 5 rows of the dataset\n",
                "# head() is useful for quickly previewing what your data looks like"
            ]
        },
        {
            "cell_type": "code",
            "execution_count": 30,
            "id": "01d8afce",
            "metadata": {},
            "outputs": [
                {
                    "data": {
                        "text/plain": [
                            "(150, 6)"
                        ]
                    },
                    "execution_count": 30,
                    "metadata": {},
                    "output_type": "execute_result"
                }
            ],
            "source": [
                "# Explore the structure of our dataset\n",
                "data.shape  # Returns (rows, columns) - tells us how big our dataset is\n",
                "# This is like asking \"How many data points and how many features do we have?\""
            ]
        },
        {
            "cell_type": "code",
            "execution_count": 31,
            "id": "33192026",
            "metadata": {},
            "outputs": [
                {
                    "data": {
                        "text/plain": [
                            "Species\n",
                            "Iris-setosa        50\n",
                            "Iris-versicolor    50\n",
                            "Iris-virginica     50\n",
                            "Name: count, dtype: int64"
                        ]
                    },
                    "execution_count": 31,
                    "metadata": {},
                    "output_type": "execute_result"
                }
            ],
            "source": [
                "# Data aggregation: counting how many of each species we have\n",
                "# data[\"Species\"] selects the Species column from our dataset\n",
                "# value_counts() counts how many times each unique value appears\n",
                "# This gives us a summary of how many flowers of each species are in our dataset\n",
                "\n",
                "data[\"Species\"].value_counts()"
            ]
        },
        {
            "cell_type": "code",
            "execution_count": 32,
            "id": "17084145",
            "metadata": {},
            "outputs": [
                {
                    "data": {
                        "text/plain": [
                            "Species\n",
                            "Iris-setosa        5.006\n",
                            "Iris-versicolor    5.936\n",
                            "Iris-virginica     6.588\n",
                            "Name: SepalLengthCm, dtype: float64"
                        ]
                    },
                    "execution_count": 32,
                    "metadata": {},
                    "output_type": "execute_result"
                }
            ],
            "source": [
                "# Grouping data by category and calculating statistics\n",
                "# groupby(\"Species\") groups all rows by their species (like sorting into piles)\n",
                "# [\"SepalLengthCm\"] selects just the sepal length measurements\n",
                "# .mean() calculates the average sepal length for each species\n",
                "# This tells us: \"What's the average sepal length for each type of iris flower?\"\n",
                "\n",
                "data.groupby(\"Species\")[\"SepalLengthCm\"].mean()\n"
            ]
        },
        {
            "cell_type": "markdown",
            "id": "da6af1db",
            "metadata": {},
            "source": [
                "## Visualization"
            ]
        },
        {
            "cell_type": "code",
            "execution_count": 33,
            "id": "cbc56d37",
            "metadata": {},
            "outputs": [
                {
                    "data": {
                        "image/png": "[encoded data removed]",
                        "text/plain": [
                            "<Figure size 1500x600 with 2 Axes>"
                        ]
                    },
                    "metadata": {},
                    "output_type": "display_data"
                }
            ],
            "source": [
                "# Creating professional-looking visualizations with matplotlib\n",
                "# This shows how to create multiple plots side by side\n",
                "\n",
                "# Create a figure with 1 row and 2 columns of plots\n",
                "# figsize=(15, 6) sets the overall size: width=15 inches, height=6 inches\n",
                "fig, (ax1, ax2) = plt.subplots(1, 2, figsize=(15, 6))\n",
                "\n",
                "# First plot: Scatter plot showing relationship between two variables\n",
                "ax1.scatter(data[\"SepalLengthCm\"], data[\"SepalWidthCm\"], alpha=0.6)  # alpha=0.6 makes points semi-transparent\n",
                "ax1.set_xlabel(\"Sepal Length (cm)\")  # Label for x-axis\n",
                "ax1.set_ylabel(\"Sepal Width (cm)\")  # Label for y-axis\n",
                "ax1.set_title(\"Iris Dataset: Sepal Length vs Width\")  # Title for the plot\n",
                "ax1.grid(True, alpha=0.3)  # Add grid lines with low transparency\n",
                "\n",
                "# Second plot: Histogram showing distribution of one variable\n",
                "ax2.hist(data[\"SepalLengthCm\"], bins=20, alpha=0.7, edgecolor='black')  # 20 bins, black edges\n",
                "ax2.set_xlabel(\"Sepal Length (cm)\")  # Label for x-axis\n",
                "ax2.set_ylabel(\"Frequency\")  # Label for y-axis\n",
                "ax2.set_title(\"Distribution of Sepal Length\")  # Title for the plot\n",
                "ax2.grid(True, alpha=0.3)  # Add grid lines\n",
                "\n",
                "plt.tight_layout()  # Automatically adjust spacing between plots\n",
                "plt.show()  # Display the plots"
            ]
        },
        {
            "cell_type": "markdown",
            "id": "74c8ab26-f959-4973-8f2b-91e3164bbd1d",
            "metadata": {},
            "source": [
                "## Python Best Practices for Data Science\n",
                "\n",
                "1. **Use descriptive variable names** (e.g., `customer_age` not `ca`)\n",
                "2. **Add comments and docstrings** to explain complex logic\n",
                "3. **Handle errors gracefully** with try-except blocks\n",
                "4. **Use vectorized operations** when possible (pandas/numpy)\n",
                "5. **Keep functions small and focused** on single tasks\n",
                "6. **Use type hints** for better code documentation\n",
                "\n",
                "## Summary\n",
                "\n",
                "In this primer, we covered:\n",
                "- ✅ Python data types and variables\n",
                "- ✅ Control structures (if/else, loops)\n",
                "- ✅ Functions and classes\n",
                "- ✅ Data manipulation with pandas\n",
                "- ✅ Basic visualization with matplotlib\n",
                "- ✅ Error handling and best practices\n",
                "\n",
                "**Next Steps:** Practice these concepts with real datasets and explore more advanced pandas operations."
            ]
        }
    ],
    "metadata": {
        "kernelspec": {
            "display_name": ".venv",
            "language": "python",
            "name": "python3"
        },
        "language_info": {
            "codemirror_mode": {
                "name": "ipython",
                "version": 3
            },
            "file_extension": ".py",
            "mimetype": "text/x-python",
            "name": "python",
            "nbconvert_exporter": "python",
            "pygments_lexer": "ipython3",
            "version": "3.11.10"
        }
    },
    "nbformat": 4,
    "nbformat_minor": 5
}
