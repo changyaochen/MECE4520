{
 "cells": [
  {
   "cell_type": "markdown",
   "id": "02a1a326",
   "metadata": {},
   "source": [
    "## Central Limit Theorem\n",
    "\n",
    "The Central Limit Theorem (CLT) is a fundamental principle in probability and statistics. It states that, given certain conditions, the average (or sum) of a large number of independent, identically distributed (i.i.d.) random variables approaches a normal (i.e., Gaussian) distribution, **no matter** the shape of the original distribution.\n",
    "\n",
    "### Mathematical Statement\n",
    "For i.i.d. random variables $X_1, X_2, ..., X_n$ with (population) mean $\\mu$ and (population) variance $\\sigma^2$:\n",
    "$$\\frac{\\bar{X} - \\mu}{\\sigma/\\sqrt{n}} \\xrightarrow{d} N(0, 1) \\text{ as } n \\to \\infty$$\n",
    "\n",
    "where $\\bar{X} = \\frac{1}{n}\\sum_{i=1}^{n}X_i$ is the sample mean.\n",
    "\n",
    "In practice, we can also express the distribution of the sample mean as:\n",
    "$$\\bar{X} \\sim N(\\mu, \\frac{\\sigma^2}{n})$$\n",
    "\n",
    "### Key Implications:\n",
    "1. The distribution of the sample mean becomes approximately normal\n",
    "2. The standard error decreases with $\\sqrt{n}$ (larger samples → more precise estimates)\n",
    "3. Rule of thumb: CLT typically applies well when n ≥ 30\n",
    "\n",
    "### The \"certain conditions\" are:\n",
    "\n",
    "* **Independence**: The random variables must be independent. This means that the outcome of one observation does not influence the outcome of another observation. In many practical scenarios, this assumption is satisfied by random sampling.\n",
    "\n",
    "* **Identically Distributed**: The random variables should be identically distributed, often abbreviated as i.i.d. This means that each random variable has the same probability distribution as the others and the same parameters. In simpler terms, all variables come from the same \"population\".\n",
    "\n",
    "* **Finite Mean and Variance**: Each of the random variables must have a finite mean \n",
    "($\\mu$) and variance ($\\sigma^2$). This means that extremely long-tailed distributions or distributions with no defined mean or variance may not conform to the CLT."
   ]
  },
  {
   "cell_type": "code",
   "execution_count": 1,
   "id": "6e3c4d0e",
   "metadata": {},
   "outputs": [],
   "source": [
    "import matplotlib.pyplot as plt\n",
    "import numpy as np\n",
    "\n",
    "from scipy.stats import binom\n",
    "from scipy.stats import norm\n",
    "from scipy.stats import ttest_ind\n",
    "from tqdm import tqdm\n",
    "\n",
    "# set random seed\n",
    "np.random.seed(42)"
   ]
  },
  {
   "cell_type": "markdown",
   "id": "a564b64a-9895-4e15-b57d-0ae4382083fb",
   "metadata": {},
   "source": [
    "Let's run some simulations to see CLT in action, with samples drawing from different distributions."
   ]
  },
  {
   "cell_type": "code",
   "execution_count": 2,
   "id": "ed10ac18",
   "metadata": {},
   "outputs": [
    {
     "data": {
      "application/vnd.jupyter.widget-view+json": {
       "model_id": "84f1205e8c234df2a3e23bc89f3670fa",
       "version_major": 2,
       "version_minor": 0
      },
      "text/plain": [
       "interactive(children=(Dropdown(description='Distribution:', options=('uniform', 'exponential', 'binomial'), va…"
      ]
     },
     "metadata": {},
     "output_type": "display_data"
    },
    {
     "data": {
      "text/plain": [
       "<function __main__.demonstrate_clt(distribution='uniform', sample_size=30, n_simulations=1000)>"
      ]
     },
     "execution_count": 2,
     "metadata": {},
     "output_type": "execute_result"
    }
   ],
   "source": [
    "from ipywidgets import interact, IntSlider\n",
    "import ipywidgets as widgets\n",
    "\n",
    "def demonstrate_clt(distribution=\"uniform\", sample_size=30, n_simulations=1_000):\n",
    "    \"\"\"Interactive demonstration of CLT with different distributions and sample sizes.\"\"\"\n",
    "\n",
    "    sample_means = []\n",
    "\n",
    "    for _ in range(n_simulations):\n",
    "        if distribution == \"uniform\":\n",
    "            X = np.random.uniform(0, 1, size=sample_size)\n",
    "            theoretical_mean = 0.5\n",
    "            theoretical_var = 1 / 12\n",
    "        elif distribution == \"exponential\":\n",
    "            X = np.random.exponential(scale=1, size=sample_size)\n",
    "            theoretical_mean = 1\n",
    "            theoretical_var = 1\n",
    "        elif distribution == \"binomial\":\n",
    "            X = np.random.binomial(n=10, p=0.3, size=sample_size)\n",
    "            theoretical_mean = 3\n",
    "            theoretical_var = 2.1\n",
    "        else:\n",
    "            raise ValueError(f\"Unsupported distribution: {distribution}\")\n",
    "\n",
    "        sample_means.append(np.mean(X))\n",
    "\n",
    "    theoretical_std = np.sqrt(theoretical_var / sample_size)\n",
    "\n",
    "    plt.figure(figsize=(10, 5))\n",
    "\n",
    "    # Plot histogram\n",
    "    plt.hist(\n",
    "        sample_means,\n",
    "        bins=30,\n",
    "        density=True,\n",
    "        alpha=0.7,\n",
    "        edgecolor=\"black\",\n",
    "        label=f\"Sample means (n={sample_size})\"\n",
    "    )\n",
    "\n",
    "    # Overlay theoretical normal\n",
    "    x = np.linspace(min(sample_means), max(sample_means), 100)\n",
    "    plt.plot(\n",
    "        x,\n",
    "        norm.pdf(x, theoretical_mean, theoretical_std),\n",
    "        \"r-\",\n",
    "        linewidth=2,\n",
    "        label=f\"Theoretical N({theoretical_mean:.2f}, {theoretical_std:.3f}²)\"\n",
    "    )\n",
    "\n",
    "    plt.title(f\"CLT Demo: {distribution.capitalize()} Distribution\")\n",
    "    plt.xlabel(\"Sample Mean\")\n",
    "    plt.ylabel(\"Density\")\n",
    "    plt.legend()\n",
    "    plt.grid(True, alpha=0.3)\n",
    "    plt.show()\n",
    "\n",
    "# Create interactive widget\n",
    "interact(\n",
    "    demonstrate_clt,\n",
    "    distribution=widgets.Dropdown(options=[\"uniform\", \"exponential\", \"binomial\"],\n",
    "                                value=\"uniform\",\n",
    "                                description=\"Distribution:\"),\n",
    "    sample_size=IntSlider(min=5, max=200, step=5, value=30,\n",
    "                        description=\"Sample Size:\"),\n",
    "    n_simulations=IntSlider(min=100, max=5000, step=100, value=1000,\n",
    "                                description=\"Simulations:\")\n",
    ")"
   ]
  },
  {
   "cell_type": "markdown",
   "id": "0a506b1d",
   "metadata": {},
   "source": [
    "## Point estimation and confidence interval\n",
    "\n",
    "Point estimation refers to the process of using sample data to compute a single value, known as a statistic, which serves as the \"best guess\" or \"best estimate\" of an unknown population parameter (like the population mean or population proportion). For example, the sample mean is such a statistic, and the it is used as the point estimation (point estimate) of the population mean.\n",
    "\n",
    "While point estimation gives a specific value as an estimate, it doesn't convey anything about the degree of certainty or possible margin of error associated with the estimate. This is where confidence intervals come into play.\n",
    "\n",
    "A confidence interval provides a range of values, derived from the point estimate and the associated variability of the estimate, within which the true population parameter is expected to fall with a certain probability (confidence level)."
   ]
  },
  {
   "cell_type": "markdown",
   "id": "d3caa97b-2b6a-47fb-9b83-5085dfe9dbd2",
   "metadata": {},
   "source": [
    "## Example: Estimating the population mean\n",
    "\n",
    "Let's run some simulation to demonstrate the concept. \n",
    "\n",
    "Below, we assume that we already know the population parameter: the population mean. For the sake of demonstration, we will repeatedly sample from the population, for `n_trials` (e.g., 100) trials. For each sampling, we draw `n_samples` (e.g., 100) samples. Therefore, we will have 100 sample means. \n",
    "\n",
    "For each of the trials, we can construct the point estimation of the population mean (i.e., using the sample mean), and the 95%confidence interval (CI). We will see that, there are chances, that the 95% CI does not include the population mean."
   ]
  },
  {
   "cell_type": "code",
   "execution_count": 3,
   "id": "e9d4992f",
   "metadata": {},
   "outputs": [
    {
     "data": {
      "image/png": "[encoded data removed]",
      "text/plain": [
       "<Figure size 1500x900 with 1 Axes>"
      ]
     },
     "metadata": {},
     "output_type": "display_data"
    }
   ],
   "source": [
    "mu = 0  # population mean\n",
    "sigma = 1\n",
    "\n",
    "n_trials = 100\n",
    "n_samples = 100\n",
    "results = []\n",
    "for i, _ in enumerate(range(n_trials)):\n",
    "    X = np.random.normal(loc=mu, scale=sigma**0.5, size=n_samples)  # Sampling\n",
    "    lower_bound = np.mean(X) - 1.96 * np.std(X, ddof=1) / np.sqrt(n_samples)\n",
    "    upper_bound = np.mean(X) + 1.96 * np.std(X, ddof=1) / np.sqrt(n_samples)\n",
    "\n",
    "    results.append((i, lower_bound, upper_bound))\n",
    "\n",
    "plt.figure(figsize=(15, 9))\n",
    "for i, lower, upper in results:\n",
    "    if lower > mu or upper < mu:\n",
    "        plt.plot([lower, upper], [i] * 2, color=\"red\", alpha=1)\n",
    "    else:\n",
    "        plt.plot([lower, upper], [i] * 2, color=\"blue\", alpha=0.2)\n",
    "plt.plot([mu] * len(results), list(range(len(results))), \"k--\")\n",
    "plt.show()"
   ]
  }
 ],
 "metadata": {
  "kernelspec": {
   "display_name": ".venv",
   "language": "python",
   "name": "python3"
  },
  "language_info": {
   "codemirror_mode": {
    "name": "ipython",
    "version": 3
   },
   "file_extension": ".py",
   "mimetype": "text/x-python",
   "name": "python",
   "nbconvert_exporter": "python",
   "pygments_lexer": "ipython3",
   "version": "3.11.10"
  }
 },
 "nbformat": 4,
 "nbformat_minor": 5
}
