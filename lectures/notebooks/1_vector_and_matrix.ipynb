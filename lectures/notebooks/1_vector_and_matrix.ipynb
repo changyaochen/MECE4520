{
 "cells": [
  {
   "cell_type": "code",
   "execution_count": null,
   "id": "6aeca9ed-e0e4-48c8-a9f0-2f80ef7c5570",
   "metadata": {},
   "outputs": [],
   "source": [
    "# Import necessary libraries for vector and matrix operations\n",
    "from typing import List\n",
    "from typing import Union\n",
    "\n",
    "import numpy as np  # Primary library for numerical computations\n",
    "from matplotlib import pyplot as plt  # For plotting and visualization\n",
    "from PIL import Image  # For image processing\n",
    "from urllib.request import urlopen  # For downloading images from URLs\n",
    "from scipy.spatial import distance  # For distance calculations"
   ]
  },
  {
   "cell_type": "markdown",
   "id": "a268cd03-92af-49ca-a29d-adf64a4b4526",
   "metadata": {},
   "source": [
    "## Vector\n",
    "\n",
    "A **vector** is a fundamental mathematical concept that represents a quantity with both magnitude (size) and direction. In data science, vectors are essential building blocks used for:\n",
    "\n",
    "- **Data representation**: Each data point can be represented as a vector of features\n",
    "- **Machine learning**: Feature vectors, weight vectors, and model parameters\n",
    "- **Statistical analysis**: Representing observations and variables\n",
    "\n",
    "In Python, we commonly represent vectors using the `numpy.array` object, which provides efficient storage and operations for numerical data."
   ]
  },
  {
   "cell_type": "code",
   "execution_count": null,
   "id": "fdde9365-0373-48a6-9839-84e27493768c",
   "metadata": {},
   "outputs": [],
   "source": [
    "# Create a simple 3-dimensional vector\n",
    "u = np.array([1, 2, 3])\n",
    "print(f\"Vector u: {u}\")  # Display the vector\n",
    "print(f\"Shape of u: {u.shape}\")  # Shape tells us it's a 1D array with 3 elements"
   ]
  },
  {
   "cell_type": "markdown",
   "id": "69b53c1b-fc0e-4d3c-95de-de5db9b7dedc",
   "metadata": {},
   "source": [
    "### Vector Norm\n",
    "\n",
    "The **norm** of a vector is a mathematical operation that measures the \"size\" or \"length\" of the vector. It returns a single scalar value representing the magnitude or distance of the vector from the origin.\n",
    "\n",
    "Different types of norms serve different purposes:\n",
    "\n",
    "- **L1 norm (Manhattan/Taxicab norm)**: Sum of absolute values. Useful when you want to penalize any deviation equally, regardless of direction.\n",
    "- **L2 norm (Euclidean norm)**: Square root of sum of squares. Most commonly used; represents straight-line distance.\n",
    "- **L∞ norm (Maximum norm)**: Maximum absolute component. Useful when you care about the worst-case scenario.\n",
    "\n",
    "The mathematical formula for the L-p norm is: $||\\mathbf{x}||_p = \\left(\\sum_{i=1}^{n} |x_i|^p\\right)^{1/p}$"
   ]
  },
  {
   "cell_type": "code",
   "execution_count": null,
   "id": "6232c34d-9ff8-446f-ae09-43fd8f00840d",
   "metadata": {},
   "outputs": [],
   "source": [
    "# Custom function to calculate L-p norm\n",
    "def norm(\n",
    "    vector: Union[List[float], np.ndarray],\n",
    "    order: int = 2\n",
    ") -> float:\n",
    "    \"\"\"Calculate the L-order norm of a vector.\n",
    "\n",
    "    Args:\n",
    "        vector: Input vector as list or numpy array\n",
    "        order: The order of the norm (1, 2, 3, etc.)\n",
    "\n",
    "    Returns:\n",
    "        The L-order norm as a scalar value\n",
    "    \"\"\"\n",
    "    # Calculate: (sum of |x|^order)^(1/order)\n",
    "    value = (sum([abs(x)**order for x in vector]))**(1 / order)\n",
    "    return value"
   ]
  },
  {
   "cell_type": "markdown",
   "id": "00969885-60c1-485a-b82b-4b9c91e06575",
   "metadata": {},
   "source": [
    "**NumPy provides built-in functions** for calculating norms efficiently. The `numpy.linalg.norm()` function is optimized and should be used in practice."
   ]
  },
  {
   "cell_type": "code",
   "execution_count": null,
   "id": "46a87cd1-2ce0-49fd-b81b-5544881301ea",
   "metadata": {},
   "outputs": [],
   "source": [
    "# Compare our custom norm function with NumPy's implementation\n",
    "print(\"Comparing norm calculations:\")\n",
    "for order in range(1, 4):\n",
    "    custom_norm = norm(vector=u, order=order)\n",
    "    numpy_norm = np.linalg.norm(x=u, ord=order)\n",
    "\n",
    "    print(f\"L-{order} norm (custom):     {custom_norm:.6f}\")\n",
    "    print(f\"L-{order} norm (NumPy):      {numpy_norm:.6f}\")\n",
    "    print(f\"Difference:                  {abs(custom_norm - numpy_norm):.10f}\")\n",
    "    print()"
   ]
  },
  {
   "cell_type": "markdown",
   "id": "d42add51-4e20-4bf7-9808-b1ccc032bdc6",
   "metadata": {},
   "source": [
    "### Dot Product (Inner Product)\n",
    "\n",
    "The **dot product** of two vectors produces a scalar value that captures important geometric relationships:\n",
    "\n",
    "- **Similarity measure**: Larger dot products indicate vectors pointing in similar directions\n",
    "- **Projection**: Measures how much one vector extends in the direction of another\n",
    "- **Orthogonality**: A dot product of zero means the vectors are perpendicular\n",
    "\n",
    "**Applications in data science:**\n",
    "- Feature similarity in machine learning\n",
    "- Correlation calculations in statistics\n",
    "\n",
    "Mathematical formula: $\\mathbf{u} \\cdot \\mathbf{v} = \\sum_{i=1}^{n} u_i v_i$"
   ]
  },
  {
   "cell_type": "code",
   "execution_count": null,
   "id": "6e7eb445-a5c9-495f-9915-b0b04b6a6947",
   "metadata": {},
   "outputs": [],
   "source": [
    "# Custom function to calculate dot product\n",
    "def dot_product(\n",
    "    u: Union[List[float], np.ndarray],\n",
    "    v: Union[List[float], np.ndarray]\n",
    ") -> float:\n",
    "    \"\"\"Calculate the dot product (inner product) between two vectors.\n",
    "\n",
    "    Args:\n",
    "        u, v: Input vectors of the same length\n",
    "\n",
    "    Returns:\n",
    "        Scalar dot product value\n",
    "    \"\"\"\n",
    "    # Element-wise multiplication and sum\n",
    "    value = sum([x * y for x, y in zip(u, v)])\n",
    "    return value"
   ]
  },
  {
   "cell_type": "markdown",
   "id": "ac3dc324-d722-49dc-b454-7d7ee6cb76a2",
   "metadata": {},
   "source": [
    "**NumPy provides multiple ways** to compute dot products efficiently. The `@` operator is the most modern and readable approach."
   ]
  },
  {
   "cell_type": "code",
   "execution_count": null,
   "id": "4c0aba8e-eef5-4e4a-8e02-4125e112cf02",
   "metadata": {},
   "outputs": [],
   "source": [
    "# Create a second vector for demonstration\n",
    "v = np.array([4, 5, 6])\n",
    "\n",
    "print(f\"Vector u: {u}\")\n",
    "print(f\"Vector v: {v}\")\n",
    "\n",
    "# Three different ways to calculate the same dot product\n",
    "print(f\"\\nDot product (custom function): {dot_product(u, v)}\")\n",
    "print(f\"Dot product (np.dot):          {np.dot(u, v)}\")\n",
    "print(f\"Dot product (@ operator):      {u @ v}\")  # Modern Python syntax"
   ]
  },
  {
   "cell_type": "markdown",
   "id": "06d8f252-a7f8-43d9-be51-73250b7c17e9",
   "metadata": {},
   "source": [
    "### Vector Distance Metrics\n",
    "\n",
    "**Distance metrics** quantify how \"far apart\" two vectors are in vector space. The choice of distance metric significantly impacts the behavior of machine learning algorithms and data analysis.\n",
    "\n",
    "#### Euclidean Distance (L2 Distance)\n",
    "\n",
    "The **Euclidean distance** is the most intuitive distance measure - it's the straight-line distance between two points in space. Mathematically, it's the L2 norm of the difference vector.\n",
    "\n",
    "Formula: $d(\\mathbf{u}, \\mathbf{v}) = ||\\mathbf{u} - \\mathbf{v}||_2 = \\sqrt{\\sum_{i=1}^{n} (u_i - v_i)^2}$"
   ]
  },
  {
   "cell_type": "code",
   "execution_count": null,
   "id": "1a1b2885-d49b-4f15-8084-2fe2ffab11a4",
   "metadata": {},
   "outputs": [],
   "source": [
    "# Calculate Euclidean distance step by step\n",
    "difference = u - v  # Vector subtraction\n",
    "euclidean_dist_manual = norm(difference)  # L2 norm of difference\n",
    "euclidean_dist_scipy = distance.euclidean(u, v)  # Using SciPy\n",
    "\n",
    "print(f\"Difference vector (u - v): {difference}\")\n",
    "print(f\"Euclidean distance (manual):    {euclidean_dist_manual:.6f}\")\n",
    "print(f\"Euclidean distance (SciPy):     {euclidean_dist_scipy:.6f}\")"
   ]
  },
  {
   "cell_type": "markdown",
   "id": "845ab48a-745f-48c2-acb9-90196246d86a",
   "metadata": {},
   "source": [
    "### Cosine Similarity and Distance\n",
    "\n",
    "**Cosine similarity** measures the cosine of the angle between two vectors, focusing on their direction rather than magnitude. This is particularly useful in:\n",
    "\n",
    "- **Text analysis**: Comparing document similarity regardless of length\n",
    "- **Recommendation systems**: Finding similar user preferences\n",
    "- **High-dimensional data**: When magnitude is less important than direction\n",
    "\n",
    "**Cosine similarity** ranges from -1 to 1:\n",
    "- 1: Vectors point in the same direction (identical)\n",
    "- 0: Vectors are orthogonal (unrelated)\n",
    "- -1: Vectors point in opposite directions\n",
    "\n",
    "**Cosine distance** = 1 - cosine similarity, ranging from 0 to 2."
   ]
  },
  {
   "cell_type": "code",
   "execution_count": null,
   "id": "263c50e4-c9d3-4f90-a7a4-d925172eab7b",
   "metadata": {},
   "outputs": [],
   "source": [
    "def cosine_similarity(\n",
    "    u: Union[List[float], np.ndarray],\n",
    "    v: Union[List[float], np.ndarray]\n",
    ") -> float:\n",
    "    \"\"\"Calculate cosine similarity between two vectors.\"\"\"\n",
    "    return dot_product(u, v) / (norm(u) * norm(v))\n",
    "\n",
    "def cosine_distance(\n",
    "    u: Union[List[float], np.ndarray],\n",
    "    v: Union[List[float], np.ndarray]\n",
    ") -> float:\n",
    "    \"\"\"Calculate cosine distance between two vectors.\"\"\"\n",
    "    return 1 - cosine_similarity(u, v)\n",
    "\n",
    "# Calculate and compare results\n",
    "cos_sim = cosine_similarity(u, v)\n",
    "cos_dist_manual = cosine_distance(u, v)\n",
    "cos_dist_scipy = distance.cosine(u, v)\n",
    "\n",
    "print(f\"Cosine similarity:           {cos_sim:.6f}\")\n",
    "print(f\"Cosine distance (manual):    {cos_dist_manual:.6f}\")\n",
    "print(f\"Cosine distance (SciPy):     {cos_dist_scipy:.6f}\")"
   ]
  },
  {
   "cell_type": "markdown",
   "id": "cbe70382-845d-405b-ab0f-04ddefe27410",
   "metadata": {},
   "source": [
    "## Matrix Operations\n",
    "\n",
    "A **matrix** is a two-dimensional array of numbers organized in rows and columns. In data science, matrices are fundamental for:\n",
    "\n",
    "- **Data storage**: Each row represents an observation, each column a feature\n",
    "- **Linear transformations**: Rotating, scaling, and projecting data\n",
    "- **Machine learning**: Weight matrices in neural networks, covariance matrices in statistics\n",
    "\n",
    "**Matrix notation**: An m×n matrix has m rows and n columns."
   ]
  },
  {
   "cell_type": "code",
   "execution_count": null,
   "id": "6a9d1153-b5aa-49f0-b445-408e7846aa87",
   "metadata": {},
   "outputs": [],
   "source": [
    "# Create a 2x2 matrix\n",
    "A = np.array([\n",
    "    [1, 2],  # First row\n",
    "    [3, 4],  # Second row\n",
    "])\n",
    "print(f\"Matrix A:\")\n",
    "print(A)\n",
    "print(f\"Shape: {A.shape} (2 rows, 2 columns)\")"
   ]
  },
  {
   "cell_type": "code",
   "execution_count": null,
   "id": "24da0019-633f-49ef-a072-ba689ce8c5db",
   "metadata": {},
   "outputs": [],
   "source": [
    "# Matrix addition: element-wise operation\n",
    "B = np.array([\n",
    "    [5, 6],\n",
    "    [7, 8],\n",
    "])\n",
    "\n",
    "print(f\"Matrix B:\")\n",
    "print(B)\n",
    "print(f\"\\nMatrix addition A + B:\")\n",
    "print(A + B)  # Each element A[i,j] + B[i,j]"
   ]
  },
  {
   "cell_type": "code",
   "execution_count": null,
   "id": "8aa2a24f-79e1-48b4-81bc-a508103add6f",
   "metadata": {},
   "outputs": [],
   "source": [
    "# Broadcasting: scalar addition to all elements\n",
    "print(f\"Broadcasting - adding 3 to every element of A:\")\n",
    "print(A + 3)  # NumPy automatically applies 3 to each element"
   ]
  },
  {
   "cell_type": "code",
   "execution_count": null,
   "id": "878666f6-d8cc-4965-a580-1bf9856cef46",
   "metadata": {},
   "outputs": [],
   "source": [
    "# Broadcasting: scalar multiplication\n",
    "print(f\"Broadcasting - multiplying every element of A by 3:\")\n",
    "print(A * 3)  # Element-wise scalar multiplication"
   ]
  },
  {
   "cell_type": "markdown",
   "id": "8b613445-f63a-4389-a38c-ebbd5cd6e584",
   "metadata": {},
   "source": [
    "## Matrix Multiplication\n",
    "\n",
    "**Matrix multiplication** is a fundamental operation that combines two matrices according to specific rules. Unlike element-wise operations, matrix multiplication follows the rule:\n",
    "\n",
    "- **Compatibility**: An (m×n) matrix can multiply an (n×p) matrix, resulting in an (m×p) matrix\n",
    "- **Computation**: Each element C[i,j] = sum of (row i of A) × (column j of B)\n",
    "\n",
    "**Applications:**\n",
    "- Linear transformations in computer graphics\n",
    "- Neural network forward propagation\n",
    "- Solving systems of linear equations"
   ]
  },
  {
   "cell_type": "code",
   "execution_count": null,
   "id": "b5abd9a4-b590-4dc4-9e84-072e6e7f98af",
   "metadata": {},
   "outputs": [],
   "source": [
    "# Matrix multiplication example\n",
    "A = np.array([\n",
    "    [1, 2],    # 4×2 matrix\n",
    "    [3, 4],\n",
    "    [5, 6],\n",
    "    [7, 8],\n",
    "])\n",
    "B = np.array([\n",
    "    [1, 2, 3],  # 2×3 matrix\n",
    "    [4, 5, 6],\n",
    "])\n",
    "\n",
    "print(f\"Matrix A shape: {A.shape}\")\n",
    "print(f\"Matrix B shape: {B.shape}\")\n",
    "print(f\"Result will be shape: {A.shape[0]}×{B.shape[1]}\")\n",
    "print()\n",
    "\n",
    "# Perform matrix multiplication\n",
    "result = np.matmul(A, B)  # or A @ B\n",
    "print(f\"A @ B =\")\n",
    "print(result)\n",
    "print(f\"Result shape: {result.shape}\")"
   ]
  },
  {
   "cell_type": "code",
   "execution_count": null,
   "id": "3aae8b8e-958a-49d6-a8b1-f68720e0561d",
   "metadata": {},
   "outputs": [],
   "source": [
    "# Modern Python syntax for matrix multiplication\n",
    "print(f\"Using @ operator (recommended):\")\n",
    "print(A @ B)  # Equivalent to np.matmul(A, B)"
   ]
  },
  {
   "cell_type": "markdown",
   "id": "14a00a77-a3a8-42b2-a821-4e9f1b807ff7",
   "metadata": {},
   "source": [
    "### Essential Matrix Operations\n",
    "\n",
    "These operations are fundamental building blocks for more complex linear algebra computations."
   ]
  },
  {
   "cell_type": "code",
   "execution_count": null,
   "id": "812cdf4b-0348-444c-a0b5-ecf54ef50b17",
   "metadata": {},
   "outputs": [],
   "source": [
    "# Matrix transpose: flip rows and columns\n",
    "print(f\"Original matrix A:\")\n",
    "print(A)\n",
    "print(f\"\\nTransposed matrix A.T:\")\n",
    "print(A.T)  # Rows become columns, columns become rows\n",
    "print(f\"Shape changed from {A.shape} to {A.T.shape}\")"
   ]
  },
  {
   "cell_type": "code",
   "execution_count": null,
   "id": "d88f3822-de9f-4071-851d-ad64383fa167",
   "metadata": {},
   "outputs": [],
   "source": [
    "# Trace: sum of diagonal elements (only for square matrices)\n",
    "AA_T = A @ A.T  # Create square matrix (4×4)\n",
    "A_T_A = A.T @ A  # Create square matrix (2×2)\n",
    "\n",
    "print(f\"Trace of A @ A.T: {np.trace(AA_T)}\")\n",
    "print(f\"Trace of A.T @ A: {np.trace(A_T_A)}\")\n",
    "print(f\"\\nNote: Traces are equal! This is always true for A@A.T and A.T@A\")"
   ]
  },
  {
   "cell_type": "code",
   "execution_count": null,
   "id": "16d063be-ecc7-4f1b-85c1-7df0e8add9ab",
   "metadata": {},
   "outputs": [],
   "source": [
    "# Determinant: scalar value indicating volume scaling (square matrices only)\n",
    "\n",
    "# Zero determinant means the matrix is singular (not invertible)\n",
    "# Non-zero determinant means the matrix is invertible\n",
    "\n",
    "det_AA_T = np.linalg.det(AA_T)\n",
    "det_A_T_A = np.linalg.det(A_T_A)\n",
    "\n",
    "print(f\"Determinant of A @ A.T: {det_AA_T:.6f}\")\n",
    "print(f\"Determinant of A.T @ A: {det_A_T_A:.6f}\")"
   ]
  },
  {
   "cell_type": "code",
   "execution_count": null,
   "id": "89e9dc61-a950-42af-ba07-c40dbfff3b6b",
   "metadata": {},
   "outputs": [],
   "source": [
    "# Identity matrix: the \"1\" of matrix multiplication\n",
    "I = np.eye(3)  # 3×3 identity matrix\n",
    "print(f\"3×3 Identity matrix:\")\n",
    "print(I)"
   ]
  },
  {
   "cell_type": "markdown",
   "id": "73437f04-7068-4bc8-aea6-471a45d424cc",
   "metadata": {},
   "source": [
    "### Matrix Inverse\n",
    "\n",
    "The **matrix inverse** A⁻¹ is a special matrix such that A × A⁻¹ = A⁻¹ × A = I (identity matrix).\n",
    "\n",
    "**Key properties:**\n",
    "- Only **square matrices** can have inverses\n",
    "- Only **non-singular matrices** (determinant ≠ 0) have inverses\n",
    "- **Applications**: Solving linear equations, optimization problems\n",
    "\n",
    "**When matrices aren't invertible**, we use the **pseudo-inverse** (Moore-Penrose inverse)."
   ]
  },
  {
   "cell_type": "code",
   "execution_count": null,
   "id": "11e046ca-2997-4816-89c1-04598a3bb684",
   "metadata": {},
   "outputs": [],
   "source": [
    "# Matrix inverse example\n",
    "X = A.T @ A  # Create a 2×2 matrix that should be invertible\n",
    "print(f\"Matrix X = A.T @ A:\")\n",
    "print(X)\n",
    "print(f\"Determinant: {np.linalg.det(X):.6f}\")\n",
    "\n",
    "# Calculate inverse\n",
    "X_inv = np.linalg.inv(X)\n",
    "print(f\"\\nInverse of X:\")\n",
    "print(X_inv)\n",
    "\n",
    "# Verify: X @ X_inv should equal identity matrix\n",
    "verification = X @ X_inv\n",
    "print(f\"\\nVerification X @ X_inv (should be identity):\")\n",
    "print(verification)"
   ]
  },
  {
   "cell_type": "code",
   "execution_count": null,
   "id": "c11f80cb-6ce3-461b-9102-47066a8c757b",
   "metadata": {},
   "outputs": [],
   "source": [
    "# Example of non-invertible matrix\n",
    "Y = A @ A.T  # This creates a 4×4 matrix\n",
    "print(f\"Matrix Y = A @ A.T:\")\n",
    "print(Y)\n",
    "print(f\"Shape: {Y.shape}\")\n",
    "print(f\"Determinant: {np.linalg.det(Y):.10f}\")\n",
    "print()\n",
    "\n",
    "try:\n",
    "    Y_inv = np.linalg.inv(Y)\n",
    "    print(\"Inverse calculated successfully\")\n",
    "except np.linalg.LinAlgError as e:\n",
    "    print(f\"Error: {e}\")\n",
    "    print(\"This matrix is singular (determinant ≈ 0) and cannot be inverted\")"
   ]
  },
  {
   "cell_type": "markdown",
   "id": "22ae894b-d820-424d-a212-0ce9df5d5d69",
   "metadata": {},
   "source": [
    "### Matrix Rank\n",
    "\n",
    "The **rank** of a matrix is the maximum number of linearly independent rows or columns. It represents the dimension of the vector space spanned by the matrix.\n",
    "\n",
    "**Key insights:**\n",
    "- **Full rank**: rank equals min(rows, columns) - matrix contains maximum information\n",
    "- **Rank deficient**: rank < min(rows, columns) - some information is redundant\n",
    "- **Applications**: Determining if systems of equations have unique solutions, data dimensionality"
   ]
  },
  {
   "cell_type": "code",
   "execution_count": null,
   "id": "79b07393-d8cd-43db-8fb0-ead168e6048e",
   "metadata": {},
   "outputs": [],
   "source": [
    "# Analyze rank of different matrices\n",
    "print(f\"Matrix X (A.T @ A):\")\n",
    "print(f\"Shape: {X.shape}\")\n",
    "print(f\"Rank: {np.linalg.matrix_rank(X)}\")\n",
    "print(f\"Full rank? {np.linalg.matrix_rank(X) == min(X.shape)}\")\n",
    "print()"
   ]
  },
  {
   "cell_type": "code",
   "execution_count": null,
   "id": "97904b5d-3619-41f9-8cf0-7d04eed5153f",
   "metadata": {},
   "outputs": [],
   "source": [
    "print(f\"Matrix Y (A @ A.T):\")\n",
    "print(f\"Shape: {Y.shape}\")\n",
    "print(f\"Rank: {np.linalg.matrix_rank(Y)}\")\n",
    "print(f\"Full rank? {np.linalg.matrix_rank(Y) == min(Y.shape)}\")\n",
    "print(f\"\\nY is rank deficient - this is why it's not invertible!\")"
   ]
  },
  {
   "cell_type": "markdown",
   "id": "d9a1e511-c61e-400d-80e0-8ac2e1480c7f",
   "metadata": {},
   "source": [
    "## Eigenvalues and Eigenvectors\n",
    "\n",
    "**Eigenvalues** and **eigenvectors** reveal fundamental properties of square matrices and are crucial in many data science applications.\n",
    "\n",
    "### Mathematical Definition\n",
    "\n",
    "For a square matrix A, an **eigenvector** v and its corresponding **eigenvalue** λ satisfy:\n",
    "\n",
    "$$A\\mathbf{v} = \\lambda \\mathbf{v}$$\n",
    "\n",
    "This means: \"When matrix A transforms vector v, the result is just v scaled by λ\"\n",
    "\n",
    "### Intuitive Understanding\n",
    "\n",
    "- **Eigenvectors**: Special directions that don't change when the matrix transformation is applied\n",
    "- **Eigenvalues**: How much the eigenvectors are scaled (stretched/compressed)\n",
    "\n",
    "### Applications\n",
    "- **Principal Component Analysis (PCA)**: Finding directions of maximum variance\n",
    "- **Google PageRank**: Finding important web pages\n",
    "- **Stability analysis**: Understanding system behavior over time"
   ]
  },
  {
   "cell_type": "code",
   "execution_count": null,
   "id": "77e26dbb-cfd6-48d5-8a30-5555a4e79297",
   "metadata": {},
   "outputs": [],
   "source": [
    "# Calculate eigenvalues and eigenvectors\n",
    "eigenvalues, eigenvectors = np.linalg.eig(X)\n",
    "\n",
    "print(f\"Matrix X:\")\n",
    "print(X)\n",
    "print()"
   ]
  },
  {
   "cell_type": "code",
   "execution_count": null,
   "id": "4a2414e2-03da-4480-af82-5df0ba60db95",
   "metadata": {},
   "outputs": [],
   "source": [
    "print(f\"Eigenvalues: {eigenvalues}\")\n",
    "print(f\"\\nEigenvectors (as columns):\")\n",
    "print(eigenvectors)\n",
    "print(f\"\\nFirst eigenvector: {eigenvectors[:, 0]}\")\n",
    "print(f\"Second eigenvector: {eigenvectors[:, 1]}\")"
   ]
  },
  {
   "cell_type": "code",
   "execution_count": null,
   "id": "be16392b-db3c-4d5d-88cb-53cd83f56214",
   "metadata": {},
   "outputs": [],
   "source": [
    "# Verify the eigenvalue equation: A*v = λ*v\n",
    "v1 = eigenvectors[:, 0]  # First eigenvector\n",
    "lambda1 = eigenvalues[0]  # First eigenvalue\n",
    "\n",
    "left_side = X @ v1  # A * v\n",
    "right_side = lambda1 * v1  # λ * v\n",
    "\n",
    "print(f\"Verification of eigenvalue equation for first eigenpair:\")\n",
    "print(f\"X @ v1 = {left_side}\")\n",
    "print(f\"λ1 * v1 = {right_side}\")\n",
    "print(f\"Difference: {np.linalg.norm(left_side - right_side):.10f}\")\n",
    "print(f\"\\nThey match! (within numerical precision)\")"
   ]
  },
  {
   "cell_type": "code",
   "execution_count": null,
   "id": "dd5881c7-6bf8-4e6c-a793-bf96b819e971",
   "metadata": {},
   "outputs": [],
   "source": [
    "# Verify for the second eigenpair as well\n",
    "v2 = eigenvectors[:, 1]  # Second eigenvector\n",
    "lambda2 = eigenvalues[1]  # Second eigenvalue\n",
    "\n",
    "left_side_2 = X @ v2  # A * v\n",
    "right_side_2 = lambda2 * v2  # λ * v\n",
    "\n",
    "print(f\"Verification for second eigenpair:\")\n",
    "print(f\"X @ v2 = {left_side_2}\")\n",
    "print(f\"λ2 * v2 = {right_side_2}\")\n",
    "print(f\"Difference: {np.linalg.norm(left_side_2 - right_side_2):.10f}\")"
   ]
  },
  {
   "cell_type": "markdown",
   "id": "9ed910fb-e178-43c9-bf07-86dc0b907e63",
   "metadata": {},
   "source": [
    "## Singular Value Decomposition (SVD)\n",
    "\n",
    "**SVD** is one of the most important matrix factorization techniques in data science. It decomposes any matrix (not just square ones) into three matrices:\n",
    "\n",
    "$$A = U \\Sigma V^T$$\n",
    "\n",
    "Where:\n",
    "- **U**: Left singular vectors (orthogonal columns)\n",
    "- **Σ**: Diagonal matrix of singular values (sorted in descending order)\n",
    "- **V**: Right singular vectors (orthogonal columns)\n",
    "\n",
    "### Key Applications\n",
    "- **Dimensionality reduction**: Keep only the largest singular values\n",
    "- **Data compression**: Approximate matrices with fewer components\n",
    "- **Noise reduction**: Remove small singular values that often represent noise\n",
    "- **Recommendation systems**: Matrix factorization for collaborative filtering"
   ]
  },
  {
   "cell_type": "code",
   "execution_count": null,
   "id": "d98366b0-7399-457b-8a2a-9bb6c39b4a6d",
   "metadata": {},
   "outputs": [],
   "source": [
    "# SVD decomposition example\n",
    "A = np.array([\n",
    "    [1, 2],  # 3×2 matrix\n",
    "    [3, 4],\n",
    "    [5, 6],\n",
    "])\n",
    "\n",
    "print(f\"Original matrix A:\")\n",
    "print(A)\n",
    "print(f\"Shape: {A.shape}\")\n",
    "print()\n",
    "\n",
    "# Perform SVD\n",
    "U, sigma, VT = np.linalg.svd(A)  # Note: returns V.T, not V\n",
    "V = VT.T  # Convert to V for clarity\n",
    "\n",
    "print(f\"U matrix (left singular vectors):\")\n",
    "print(U)\n",
    "print(f\"Shape: {U.shape}\")\n",
    "print()\n",
    "\n",
    "print(f\"Singular values:\")\n",
    "print(sigma)\n",
    "print()\n",
    "\n",
    "print(f\"V matrix (right singular vectors):\")\n",
    "print(V)\n",
    "print(f\"Shape: {V.shape}\")"
   ]
  },
  {
   "cell_type": "code",
   "execution_count": null,
   "id": "cc0280c6-58a0-4263-b1dc-722196f7f8aa",
   "metadata": {},
   "outputs": [],
   "source": [
    "# Reconstruct the original matrix from SVD components\n",
    "# Need to create proper Sigma matrix with zeros padding\n",
    "Sigma = np.zeros((A.shape[0], A.shape[1]))  # 3×2 matrix\n",
    "Sigma[:len(sigma), :len(sigma)] = np.diag(sigma)  # Place singular values on diagonal\n",
    "\n",
    "print(f\"Sigma matrix:\")\n",
    "print(Sigma)\n",
    "print()\n",
    "\n",
    "# Reconstruct: A = U @ Sigma @ V.T\n",
    "A_reconstructed = U @ Sigma @ V.T\n",
    "print(f\"Reconstructed matrix:\")\n",
    "print(A_reconstructed)\n",
    "print()\n",
    "\n",
    "print(f\"Reconstruction error: {np.linalg.norm(A - A_reconstructed):.10f}\")"
   ]
  },
  {
   "cell_type": "code",
   "execution_count": null,
   "id": "ecf76aac-09c1-4c24-baf8-4df7c0992ed0",
   "metadata": {},
   "outputs": [],
   "source": [
    "# Understanding SVD components: each singular value creates a rank-1 matrix\n",
    "US = U @ Sigma  # Pre-multiply U with Sigma for convenience\n",
    "print(f\"US matrix (U @ Sigma):\")\n",
    "print(US)\n",
    "print()\n",
    "\n",
    "# Show how each component contributes to the reconstruction\n",
    "print(f\"SVD shows A as sum of rank-1 matrices:\")\n",
    "for i in range(len(sigma)):\n",
    "    component = np.outer(US[:, i], V[:, i])  # Outer product creates rank-1 matrix\n",
    "    print(f\"\\nComponent {i+1} (σ={sigma[i]:.3f}):\")\n",
    "    print(component)"
   ]
  },
  {
   "cell_type": "code",
   "execution_count": null,
   "id": "038daf13-04e7-4fb7-a041-1cabffc70477",
   "metadata": {},
   "outputs": [],
   "source": [
    "# Verify that sum of components equals original matrix\n",
    "reconstruction_sum = np.zeros_like(A, dtype=float)\n",
    "for i in range(len(sigma)):\n",
    "    component = np.outer(US[:, i], V[:, i])\n",
    "    reconstruction_sum += component\n",
    "\n",
    "print(f\"Sum of all components:\")\n",
    "print(reconstruction_sum)\n",
    "print(f\"\\nDifference from original: {np.linalg.norm(A - reconstruction_sum):.10f}\")"
   ]
  },
  {
   "cell_type": "markdown",
   "id": "cc92dc1a-daff-4070-8bcc-93e0b9097511",
   "metadata": {},
   "source": [
    "### SVD for Image Compression\n",
    "\n",
    "One of the most intuitive applications of SVD is **image compression**. Let's see how it works."
   ]
  },
  {
   "cell_type": "code",
   "execution_count": null,
   "id": "d2b8806c-b3d9-4713-837f-22d2ee706f2b",
   "metadata": {},
   "outputs": [],
   "source": [
    "# Load and display original image\n",
    "FIGURE_SIZE = (12, 6)  # Size for side-by-side comparison\n",
    "plt.gray()  # Use grayscale colormap\n",
    "\n",
    "# Load image from URL\n",
    "image_url = \"https://github.com/changyaochen/MECE4520/raw/master/data/leena.png\"\n",
    "original_image = Image.open(urlopen(image_url))\n",
    "\n",
    "plt.figure(figsize=FIGURE_SIZE)\n",
    "plt.subplot(1, 2, 1)\n",
    "plt.imshow(original_image, interpolation=\"none\")\n",
    "plt.title(\"Original Image\")\n",
    "plt.axis('off')"
   ]
  },
  {
   "cell_type": "code",
   "execution_count": null,
   "id": "b2713bf5-4a13-45c7-9640-c77ec8bd1e20",
   "metadata": {},
   "outputs": [],
   "source": [
    "# Convert to numpy array for processing\n",
    "original_data = np.array(original_image)\n",
    "print(f\"Image shape: {original_data.shape}\")\n",
    "print(f\"Data type: {original_data.dtype}\")\n",
    "print(f\"Value range: {original_data.min()} to {original_data.max()}\")\n",
    "print(f\"\\nTotal pixels: {original_data.size:,}\")\n",
    "print(f\"Storage (uncompressed): {original_data.nbytes:,} bytes\")"
   ]
  },
  {
   "cell_type": "code",
   "execution_count": null,
   "id": "45563595-ba77-4df8-8288-81ae3cc35594",
   "metadata": {},
   "outputs": [],
   "source": [
    "# Perform SVD on the image\n",
    "print(\"Performing SVD on image data...\")\n",
    "U, sigma, VT = np.linalg.svd(original_data)\n",
    "V = VT.T\n",
    "\n",
    "print(f\"U shape: {U.shape}\")\n",
    "print(f\"Sigma length: {len(sigma)}\")\n",
    "print(f\"V shape: {V.shape}\")\n",
    "print(f\"\\nLargest singular values: {sigma[:5]}\")\n",
    "print(f\"Smallest singular values: {sigma[-5:]}\")"
   ]
  },
  {
   "cell_type": "code",
   "execution_count": null,
   "id": "19a0025c-fd55-400a-8c0c-e0bfb91e212f",
   "metadata": {},
   "outputs": [],
   "source": [
    "# Compress image using only top k components\n",
    "k = 20  # Number of singular values to keep\n",
    "\n",
    "print(f\"Compressing image using top {k} singular values...\")\n",
    "\n",
    "# Keep only the first k components\n",
    "U_reduced = U[:, :k]  # Keep first k columns\n",
    "sigma_reduced = sigma[:k]  # Keep first k singular values\n",
    "V_reduced = V[:, :k]  # Keep first k columns\n",
    "\n",
    "print(f\"Compressed components:\")\n",
    "print(f\"U_reduced shape: {U_reduced.shape}\")\n",
    "print(f\"sigma_reduced length: {len(sigma_reduced)}\")\n",
    "print(f\"V_reduced shape: {V_reduced.shape}\")\n",
    "\n",
    "# Calculate storage savings\n",
    "original_elements = original_data.size\n",
    "compressed_elements = U_reduced.size + len(sigma_reduced) + V_reduced.size\n",
    "compression_ratio = original_elements / compressed_elements\n",
    "\n",
    "print(f\"\\nStorage comparison:\")\n",
    "print(f\"Original: {original_elements:,} elements\")\n",
    "print(f\"Compressed: {compressed_elements:,} elements\")\n",
    "print(f\"Compression ratio: {compression_ratio:.1f}:1\")\n",
    "\n",
    "# Reconstruct compressed image\n",
    "Sigma_reduced = np.diag(sigma_reduced)  # Create diagonal matrix\n",
    "compressed_image = U_reduced @ Sigma_reduced @ V_reduced.T\n",
    "\n",
    "# Display comparison\n",
    "plt.figure(figsize=FIGURE_SIZE)\n",
    "\n",
    "plt.subplot(1, 2, 1)\n",
    "plt.imshow(original_image, interpolation=\"none\")\n",
    "plt.title(f\"Original Image\\n({original_data.size:,} elements)\")\n",
    "plt.axis('off')\n",
    "\n",
    "plt.subplot(1, 2, 2)\n",
    "plt.imshow(compressed_image, interpolation=\"none\")\n",
    "plt.title(f\"Compressed Image (k={k})\\n({compressed_elements:,} elements, {compression_ratio:.1f}:1 ratio)\")\n",
    "plt.axis('off')\n",
    "\n",
    "plt.tight_layout()\n",
    "plt.show()\n",
    "\n",
    "# Calculate reconstruction error\n",
    "mse = np.mean((original_data - compressed_image)**2)\n",
    "print(f\"\\nReconstruction quality:\")\n",
    "print(f\"Mean Squared Error: {mse:.2f}\")\n",
    "print(f\"Peak Signal-to-Noise Ratio: {20 * np.log10(255) - 10 * np.log10(mse):.2f} dB\")"
   ]
  }
 ],
 "metadata": {
  "kernelspec": {
   "display_name": ".venv",
   "language": "python",
   "name": "python3"
  },
  "language_info": {
   "codemirror_mode": {
    "name": "ipython",
    "version": 3
   },
   "file_extension": ".py",
   "mimetype": "text/x-python",
   "name": "python",
   "nbconvert_exporter": "python",
   "version": "3.11.10"
  }
 },
 "nbformat": 4,
 "nbformat_minor": 5
}
