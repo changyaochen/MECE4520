{
 "cells": [
  {
   "cell_type": "markdown",
   "id": "0762fce8",
   "metadata": {},
   "source": [
    "\n",
    "# Linear Algebra Examples\n",
    "\n",
    "**Learning goals**\n",
    "1. See how linear algebra models real mechanical systems (spring–mass).\n",
    "2. Use eigenvalues/eigenvectors to interpret **natural frequencies** and **mode shapes**.\n",
    "3. Connect solving \\(Kx = F\\) to **least-squares regression** via the normal equations \\(X^TX \\beta = X^Ty\\). We will learn more details about regressions in coming lectures.\n"
   ]
  },
  {
   "cell_type": "code",
   "execution_count": 1,
   "id": "408ae4f4",
   "metadata": {},
   "outputs": [],
   "source": [
    "import numpy as np\n",
    "import matplotlib.pyplot as plt\n",
    "\n",
    "# Ensure nice printing\n",
    "np.set_printoptions(precision=4, suppress=True)"
   ]
  },
  {
   "cell_type": "markdown",
   "id": "58ae1b45",
   "metadata": {},
   "source": [
    "## Modeling a 2‑Mass, 3‑Spring System\n",
    "\n",
    "**System:** \n",
    "Two masses (denoted as $m_1$ and $m_2$) are connected by three springs \n",
    "(with spring constants $k_1, k_2, k_3$) to walls and to each other.\n",
    "\n",
    "<div style=\"text-align: center;\">\n",
    "    <img src=\"../../data/springs_and_masses.png\" alt=\"Springs and Masses\" width=\"800\">\n",
    "</div>\n",
    "\n",
    "For this system, we will denote the displacements of the masses \n",
    "(with their respective equilibrium positions) as $x_1$ and $x_2$.\n",
    "\n",
    "Then the equations of motion are given by:\n",
    "\n",
    "$$\n",
    "\\begin{aligned}\n",
    "m_1 \\ddot x_1 + (k_1+k_2)\\,x_1 - k_2\\,x_2 &= 0,\\\\\n",
    "m_2 \\ddot x_2 + (k_2+k_3)\\,x_2 - k_2\\,x_1 &= 0.\n",
    "\\end{aligned}\n",
    "$$\n",
    "\n",
    "This can be written in matrix form as:\n",
    "\n",
    "$$\n",
    "\\underbrace{\\begin{bmatrix} m_1 & 0 \\\\ 0 & m_2 \\end{bmatrix}}_{M}\n",
    "\\begin{bmatrix} \\ddot x_1 \\\\ \\ddot x_2 \\end{bmatrix}\n",
    "+\n",
    "\\underbrace{\\begin{bmatrix} k_1+k_2 & -k_2 \\\\ -k_2 & k_2+k_3 \\end{bmatrix}}_{K}\n",
    "\\begin{bmatrix} x_1 \\\\ x_2 \\end{bmatrix}\n",
    "= \\mathbf{0}.\n",
    "$$\n",
    "\n",
    "with effective mass matrix $M$ and stiffness matrix $K$.\n",
    "\n",
    "Let's further denote $\\mathbf{x}(t)=[x_1(t),\\,x_2(t)]^\\top$, and\n",
    "$\\mathbf{z}=\\begin{bmatrix}\\mathbf{x}\\\\ \\dot{\\mathbf{x}}\\end{bmatrix}\\in\\mathbb{R}^4$\n",
    "as the state vector. Then the system can be written as:\n",
    "\n",
    "$$\n",
    "\\dot{\\mathbf{z}} = \\underbrace{\\begin{bmatrix} 0 & I \\\\ -M^{-1}K & 0 \\end{bmatrix}}_{\\mathbf{A}} \\mathbf{z}.\n",
    "$$\n",
    "\n"
   ]
  }
 ],
 "metadata": {
  "kernelspec": {
   "display_name": ".venv",
   "language": "python",
   "name": "python3"
  },
  "language_info": {
   "codemirror_mode": {
    "name": "ipython",
    "version": 3
   },
   "file_extension": ".py",
   "mimetype": "text/x-python",
   "name": "python",
   "nbconvert_exporter": "python",
   "pygments_lexer": "ipython3",
   "version": "3.11.10"
  }
 },
 "nbformat": 4,
 "nbformat_minor": 5
}
