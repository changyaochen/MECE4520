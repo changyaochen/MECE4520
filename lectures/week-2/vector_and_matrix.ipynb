{
 "cells": [
  {
   "cell_type": "code",
   "execution_count": 1,
   "id": "6aeca9ed-e0e4-48c8-a9f0-2f80ef7c5570",
   "metadata": {},
   "outputs": [],
   "source": [
    "from typing import List\n",
    "from typing import Union\n",
    "\n",
    "import numpy as np\n",
    "from IPython.display import display\n",
    "from matplotlib import pyplot as plt\n",
    "from PIL import Image\n",
    "from urllib.request import urlopen\n",
    "from scipy.spatial import distance"
   ]
  },
  {
   "cell_type": "markdown",
   "id": "a268cd03-92af-49ca-a29d-adf64a4b4526",
   "metadata": {},
   "source": [
    "## Vector"
   ]
  },
  {
   "cell_type": "code",
   "execution_count": 2,
   "id": "fdde9365-0373-48a6-9839-84e27493768c",
   "metadata": {},
   "outputs": [
    {
     "name": "stdout",
     "output_type": "stream",
     "text": [
      "(3,)\n"
     ]
    }
   ],
   "source": [
    "u = np.array([1, 2, 3])\n",
    "print(u.shape)"
   ]
  },
  {
   "cell_type": "code",
   "execution_count": 4,
   "id": "6232c34d-9ff8-446f-ae09-43fd8f00840d",
   "metadata": {},
   "outputs": [],
   "source": [
    "# Norms\n",
    "def norm(\n",
    "    vector: Union[List[float], np.ndarray], \n",
    "    order: int = 2\n",
    ") -> float:\n",
    "    \"\"\"Calculate the L-order norm.\"\"\"\n",
    "    value = (sum([abs(x)**order for x in vector]))**(1 / order)\n",
    "    return value"
   ]
  },
  {
   "cell_type": "code",
   "execution_count": 5,
   "id": "46a87cd1-2ce0-49fd-b81b-5544881301ea",
   "metadata": {},
   "outputs": [
    {
     "name": "stdout",
     "output_type": "stream",
     "text": [
      "The L-1 norm is:                     6.0\n",
      "The L-1 norm calculated by numpy is: 6.0\n",
      "\n",
      "The L-2 norm is:                     3.7416573867739413\n",
      "The L-2 norm calculated by numpy is: 3.7416573867739413\n",
      "\n",
      "The L-3 norm is:                     3.3019272488946263\n",
      "The L-3 norm calculated by numpy is: 3.3019272488946263\n",
      "\n"
     ]
    }
   ],
   "source": [
    "for order in range(1, 4):\n",
    "    print(f\"The L-{order} norm is:                    \", norm(vector=u, order=order))\n",
    "    print(f\"The L-{order} norm calculated by numpy is:\", np.linalg.norm(x=u, ord=order))\n",
    "    print()"
   ]
  },
  {
   "cell_type": "code",
   "execution_count": 6,
   "id": "6e7eb445-a5c9-495f-9915-b0b04b6a6947",
   "metadata": {},
   "outputs": [],
   "source": [
    "# Dot product\n",
    "def dot_product(\n",
    "    u: Union[List[float], np.ndarray],\n",
    "    v: Union[List[float], np.ndarray]\n",
    ") -> float:\n",
    "    \"\"\"Calcuate the dot- (inner-) product between two vectors.\"\"\"\n",
    "    value = sum([x * y for x, y in zip(u, v)])\n",
    "    return value"
   ]
  },
  {
   "cell_type": "code",
   "execution_count": 7,
   "id": "4c0aba8e-eef5-4e4a-8e02-4125e112cf02",
   "metadata": {},
   "outputs": [
    {
     "name": "stdout",
     "output_type": "stream",
     "text": [
      "32\n",
      "32\n",
      "32\n"
     ]
    }
   ],
   "source": [
    "v = np.array([4, 5, 6])\n",
    "\n",
    "print(dot_product(u, v))\n",
    "print(np.dot(u, v))\n",
    "print(u @ v.T)  # short-hand for matrix multiplication"
   ]
  },
  {
   "cell_type": "code",
   "execution_count": 8,
   "id": "1a1b2885-d49b-4f15-8084-2fe2ffab11a4",
   "metadata": {},
   "outputs": [
    {
     "name": "stdout",
     "output_type": "stream",
     "text": [
      "[-3 -3 -3]\n",
      "5.196152422706632\n",
      "5.196152422706632\n"
     ]
    }
   ],
   "source": [
    "# Distance\n",
    "print(u - v)\n",
    "print(norm(u - v))\n",
    "print(distance.euclidean(u, v))"
   ]
  },
  {
   "cell_type": "code",
   "execution_count": 9,
   "id": "263c50e4-c9d3-4f90-a7a4-d925172eab7b",
   "metadata": {},
   "outputs": [
    {
     "name": "stdout",
     "output_type": "stream",
     "text": [
      "0.025368153802923787\n",
      "0.0253681538029239\n"
     ]
    }
   ],
   "source": [
    "def cosine_distance(\n",
    "    u: Union[List[float], np.ndarray],\n",
    "    v: Union[List[float], np.ndarray]\n",
    ") -> float:\n",
    "    \"\"\"Calculate the cosine distance between two vectors.\"\"\"\n",
    "    value = dot_product(u, v) / (norm(u) * norm(v))\n",
    "    return 1 - value\n",
    "\n",
    "print(cosine_distance(u, v))\n",
    "print(distance.cosine(u, v))"
   ]
  },
  {
   "cell_type": "markdown",
   "id": "cbe70382-845d-405b-ab0f-04ddefe27410",
   "metadata": {},
   "source": [
    "## Matrix"
   ]
  },
  {
   "cell_type": "code",
   "execution_count": 10,
   "id": "6a9d1153-b5aa-49f0-b445-408e7846aa87",
   "metadata": {},
   "outputs": [
    {
     "name": "stdout",
     "output_type": "stream",
     "text": [
      "(2, 2)\n"
     ]
    }
   ],
   "source": [
    "A = np.array([\n",
    "  [1, 2],\n",
    "  [3, 4],  \n",
    "])\n",
    "print(A.shape)"
   ]
  },
  {
   "cell_type": "code",
   "execution_count": 11,
   "id": "24da0019-633f-49ef-a072-ba689ce8c5db",
   "metadata": {},
   "outputs": [
    {
     "data": {
      "text/plain": [
       "array([[ 6,  8],\n",
       "       [10, 12]])"
      ]
     },
     "execution_count": 11,
     "metadata": {},
     "output_type": "execute_result"
    }
   ],
   "source": [
    "B = np.array([\n",
    "  [5, 6],\n",
    "  [7, 8],  \n",
    "])\n",
    "\n",
    "A + B"
   ]
  },
  {
   "cell_type": "code",
   "execution_count": 12,
   "id": "8aa2a24f-79e1-48b4-81bc-a508103add6f",
   "metadata": {},
   "outputs": [
    {
     "data": {
      "text/plain": [
       "array([[4, 5],\n",
       "       [6, 7]])"
      ]
     },
     "execution_count": 12,
     "metadata": {},
     "output_type": "execute_result"
    }
   ],
   "source": [
    "# broadcasting\n",
    "A + 3"
   ]
  },
  {
   "cell_type": "code",
   "execution_count": 13,
   "id": "878666f6-d8cc-4965-a580-1bf9856cef46",
   "metadata": {},
   "outputs": [
    {
     "data": {
      "text/plain": [
       "array([[ 3,  6],\n",
       "       [ 9, 12]])"
      ]
     },
     "execution_count": 13,
     "metadata": {},
     "output_type": "execute_result"
    }
   ],
   "source": [
    "A * 3"
   ]
  },
  {
   "cell_type": "code",
   "execution_count": 14,
   "id": "b5abd9a4-b590-4dc4-9e84-072e6e7f98af",
   "metadata": {},
   "outputs": [
    {
     "name": "stdout",
     "output_type": "stream",
     "text": [
      "(4, 2) (2, 3)\n"
     ]
    }
   ],
   "source": [
    "# multiplication\n",
    "A = np.array([\n",
    "    [1, 2],\n",
    "    [3, 4],\n",
    "    [5, 6],\n",
    "    [7, 8],\n",
    "])\n",
    "B = np.array([\n",
    "    [1, 2, 3],\n",
    "    [4, 5, 6],\n",
    "])\n",
    "\n",
    "print(A.shape, B.shape)"
   ]
  },
  {
   "cell_type": "code",
   "execution_count": 15,
   "id": "61339c13-ab47-4685-8153-f767cf907d29",
   "metadata": {},
   "outputs": [
    {
     "data": {
      "text/plain": [
       "array([[ 9, 12, 15],\n",
       "       [19, 26, 33],\n",
       "       [29, 40, 51],\n",
       "       [39, 54, 69]])"
      ]
     },
     "execution_count": 15,
     "metadata": {},
     "output_type": "execute_result"
    }
   ],
   "source": [
    "np.matmul(A, B)"
   ]
  },
  {
   "cell_type": "code",
   "execution_count": 16,
   "id": "3aae8b8e-958a-49d6-a8b1-f68720e0561d",
   "metadata": {},
   "outputs": [
    {
     "data": {
      "text/plain": [
       "array([[ 9, 12, 15],\n",
       "       [19, 26, 33],\n",
       "       [29, 40, 51],\n",
       "       [39, 54, 69]])"
      ]
     },
     "execution_count": 16,
     "metadata": {},
     "output_type": "execute_result"
    }
   ],
   "source": [
    "A @ B"
   ]
  },
  {
   "cell_type": "code",
   "execution_count": 17,
   "id": "812cdf4b-0348-444c-a0b5-ecf54ef50b17",
   "metadata": {},
   "outputs": [
    {
     "name": "stdout",
     "output_type": "stream",
     "text": [
      "[[1 2]\n",
      " [3 4]\n",
      " [5 6]\n",
      " [7 8]]\n",
      "[[1 3 5 7]\n",
      " [2 4 6 8]]\n"
     ]
    }
   ],
   "source": [
    "# transpose\n",
    "print(A)\n",
    "print(A.T)"
   ]
  },
  {
   "cell_type": "code",
   "execution_count": 18,
   "id": "d88f3822-de9f-4071-851d-ad64383fa167",
   "metadata": {},
   "outputs": [
    {
     "name": "stdout",
     "output_type": "stream",
     "text": [
      "204\n",
      "204\n"
     ]
    }
   ],
   "source": [
    "# trace\n",
    "print(np.trace(A @ A.T))\n",
    "print(np.trace(A.T @ A))"
   ]
  },
  {
   "cell_type": "code",
   "execution_count": 19,
   "id": "16d063be-ecc7-4f1b-85c1-7df0e8add9ab",
   "metadata": {},
   "outputs": [
    {
     "name": "stdout",
     "output_type": "stream",
     "text": [
      "0.0\n",
      "79.99999999999976\n"
     ]
    }
   ],
   "source": [
    "# determinant\n",
    "print(np.linalg.det(A @ A.T))\n",
    "print(np.linalg.det(A.T @ A))"
   ]
  },
  {
   "cell_type": "code",
   "execution_count": 20,
   "id": "89e9dc61-a950-42af-ba07-c40dbfff3b6b",
   "metadata": {},
   "outputs": [
    {
     "name": "stdout",
     "output_type": "stream",
     "text": [
      "[[1. 0. 0.]\n",
      " [0. 1. 0.]\n",
      " [0. 0. 1.]]\n"
     ]
    }
   ],
   "source": [
    "# identity matrix\n",
    "I = np.eye(3)\n",
    "print(I)"
   ]
  },
  {
   "cell_type": "code",
   "execution_count": 21,
   "id": "11e046ca-2997-4816-89c1-04598a3bb684",
   "metadata": {},
   "outputs": [
    {
     "name": "stdout",
     "output_type": "stream",
     "text": [
      "[[ 84 100]\n",
      " [100 120]]\n"
     ]
    },
    {
     "data": {
      "text/plain": [
       "array([[ 1.5 , -1.25],\n",
       "       [-1.25,  1.05]])"
      ]
     },
     "execution_count": 21,
     "metadata": {},
     "output_type": "execute_result"
    }
   ],
   "source": [
    "# inverse\n",
    "X = A.T @ A\n",
    "print(X)\n",
    "np.linalg.inv(X)"
   ]
  },
  {
   "cell_type": "code",
   "execution_count": 22,
   "id": "c11f80cb-6ce3-461b-9102-47066a8c757b",
   "metadata": {},
   "outputs": [
    {
     "ename": "LinAlgError",
     "evalue": "Singular matrix",
     "output_type": "error",
     "traceback": [
      "\u001b[0;31m---------------------------------------------------------------------------\u001b[0m",
      "\u001b[0;31mLinAlgError\u001b[0m                               Traceback (most recent call last)",
      "Input \u001b[0;32mIn [22]\u001b[0m, in \u001b[0;36m<cell line: 4>\u001b[0;34m()\u001b[0m\n\u001b[1;32m      1\u001b[0m Y \u001b[38;5;241m=\u001b[39m A \u001b[38;5;241m@\u001b[39m A\u001b[38;5;241m.\u001b[39mT\n\u001b[1;32m      3\u001b[0m \u001b[38;5;66;03m# this will fail\u001b[39;00m\n\u001b[0;32m----> 4\u001b[0m \u001b[43mnp\u001b[49m\u001b[38;5;241;43m.\u001b[39;49m\u001b[43mlinalg\u001b[49m\u001b[38;5;241;43m.\u001b[39;49m\u001b[43minv\u001b[49m\u001b[43m(\u001b[49m\u001b[43mY\u001b[49m\u001b[43m)\u001b[49m\n",
      "File \u001b[0;32m<__array_function__ internals>:180\u001b[0m, in \u001b[0;36minv\u001b[0;34m(*args, **kwargs)\u001b[0m\n",
      "File \u001b[0;32m/opt/conda/lib/python3.10/site-packages/numpy/linalg/linalg.py:545\u001b[0m, in \u001b[0;36minv\u001b[0;34m(a)\u001b[0m\n\u001b[1;32m    543\u001b[0m signature \u001b[38;5;241m=\u001b[39m \u001b[38;5;124m'\u001b[39m\u001b[38;5;124mD->D\u001b[39m\u001b[38;5;124m'\u001b[39m \u001b[38;5;28;01mif\u001b[39;00m isComplexType(t) \u001b[38;5;28;01melse\u001b[39;00m \u001b[38;5;124m'\u001b[39m\u001b[38;5;124md->d\u001b[39m\u001b[38;5;124m'\u001b[39m\n\u001b[1;32m    544\u001b[0m extobj \u001b[38;5;241m=\u001b[39m get_linalg_error_extobj(_raise_linalgerror_singular)\n\u001b[0;32m--> 545\u001b[0m ainv \u001b[38;5;241m=\u001b[39m \u001b[43m_umath_linalg\u001b[49m\u001b[38;5;241;43m.\u001b[39;49m\u001b[43minv\u001b[49m\u001b[43m(\u001b[49m\u001b[43ma\u001b[49m\u001b[43m,\u001b[49m\u001b[43m \u001b[49m\u001b[43msignature\u001b[49m\u001b[38;5;241;43m=\u001b[39;49m\u001b[43msignature\u001b[49m\u001b[43m,\u001b[49m\u001b[43m \u001b[49m\u001b[43mextobj\u001b[49m\u001b[38;5;241;43m=\u001b[39;49m\u001b[43mextobj\u001b[49m\u001b[43m)\u001b[49m\n\u001b[1;32m    546\u001b[0m \u001b[38;5;28;01mreturn\u001b[39;00m wrap(ainv\u001b[38;5;241m.\u001b[39mastype(result_t, copy\u001b[38;5;241m=\u001b[39m\u001b[38;5;28;01mFalse\u001b[39;00m))\n",
      "File \u001b[0;32m/opt/conda/lib/python3.10/site-packages/numpy/linalg/linalg.py:88\u001b[0m, in \u001b[0;36m_raise_linalgerror_singular\u001b[0;34m(err, flag)\u001b[0m\n\u001b[1;32m     87\u001b[0m \u001b[38;5;28;01mdef\u001b[39;00m \u001b[38;5;21m_raise_linalgerror_singular\u001b[39m(err, flag):\n\u001b[0;32m---> 88\u001b[0m     \u001b[38;5;28;01mraise\u001b[39;00m LinAlgError(\u001b[38;5;124m\"\u001b[39m\u001b[38;5;124mSingular matrix\u001b[39m\u001b[38;5;124m\"\u001b[39m)\n",
      "\u001b[0;31mLinAlgError\u001b[0m: Singular matrix"
     ]
    }
   ],
   "source": [
    "Y = A @ A.T\n",
    "\n",
    "# this will fail\n",
    "np.linalg.inv(Y)"
   ]
  },
  {
   "cell_type": "code",
   "execution_count": 24,
   "id": "b26b95c3-b1dd-4536-bf2c-ddfd5b4adaef",
   "metadata": {},
   "outputs": [
    {
     "data": {
      "text/plain": [
       "array([[ 1.7225,  0.8825,  0.0425, -0.7975],\n",
       "       [ 0.8825,  0.4525,  0.0225, -0.4075],\n",
       "       [ 0.0425,  0.0225,  0.0025, -0.0175],\n",
       "       [-0.7975, -0.4075, -0.0175,  0.3725]])"
      ]
     },
     "execution_count": 24,
     "metadata": {},
     "output_type": "execute_result"
    }
   ],
   "source": [
    "# pseudo-inverse\n",
    "np.linalg.pinv(Y)"
   ]
  },
  {
   "cell_type": "code",
   "execution_count": 25,
   "id": "0d03a13f-a9d0-463d-b161-b3bd45143754",
   "metadata": {},
   "outputs": [
    {
     "data": {
      "text/plain": [
       "array([[ 0.7,  0.4,  0.1, -0.2],\n",
       "       [ 0.4,  0.3,  0.2,  0.1],\n",
       "       [ 0.1,  0.2,  0.3,  0.4],\n",
       "       [-0.2,  0.1,  0.4,  0.7]])"
      ]
     },
     "execution_count": 25,
     "metadata": {},
     "output_type": "execute_result"
    }
   ],
   "source": [
    "np.linalg.pinv(Y) @ Y"
   ]
  },
  {
   "cell_type": "code",
   "execution_count": 26,
   "id": "79b07393-d8cd-43db-8fb0-ead168e6048e",
   "metadata": {},
   "outputs": [
    {
     "name": "stdout",
     "output_type": "stream",
     "text": [
      "(2, 2)\n",
      "2\n"
     ]
    }
   ],
   "source": [
    "# rank\n",
    "print(X.shape)\n",
    "print(np.linalg.matrix_rank(X))"
   ]
  },
  {
   "cell_type": "code",
   "execution_count": 27,
   "id": "97904b5d-3619-41f9-8cf0-7d04eed5153f",
   "metadata": {},
   "outputs": [
    {
     "name": "stdout",
     "output_type": "stream",
     "text": [
      "(4, 4)\n",
      "2\n"
     ]
    }
   ],
   "source": [
    "print(Y.shape)\n",
    "print(np.linalg.matrix_rank(Y))"
   ]
  },
  {
   "cell_type": "markdown",
   "id": "d9a1e511-c61e-400d-80e0-8ac2e1480c7f",
   "metadata": {},
   "source": [
    "## Eigenvalues and eigenvectors"
   ]
  },
  {
   "cell_type": "code",
   "execution_count": 28,
   "id": "77e26dbb-cfd6-48d5-8a30-5555a4e79297",
   "metadata": {},
   "outputs": [],
   "source": [
    "w, v = np.linalg.eig(X)"
   ]
  },
  {
   "cell_type": "code",
   "execution_count": 29,
   "id": "4a2414e2-03da-4480-af82-5df0ba60db95",
   "metadata": {},
   "outputs": [
    {
     "name": "stdout",
     "output_type": "stream",
     "text": [
      "[  0.39291363 203.60708637]\n",
      "[[-0.7671874  -0.64142303]\n",
      " [ 0.64142303 -0.7671874 ]]\n"
     ]
    }
   ],
   "source": [
    "print(w)\n",
    "print(v)"
   ]
  },
  {
   "cell_type": "code",
   "execution_count": 30,
   "id": "be16392b-db3c-4d5d-88cb-53cd83f56214",
   "metadata": {},
   "outputs": [
    {
     "name": "stdout",
     "output_type": "stream",
     "text": [
      "[-0.30143839  0.25202385]\n"
     ]
    }
   ],
   "source": [
    "print(X @ v[:, 0])"
   ]
  },
  {
   "cell_type": "code",
   "execution_count": 31,
   "id": "dd5881c7-6bf8-4e6c-a793-bf96b819e971",
   "metadata": {},
   "outputs": [
    {
     "data": {
      "text/plain": [
       "array([-0.30143839,  0.25202385])"
      ]
     },
     "execution_count": 31,
     "metadata": {},
     "output_type": "execute_result"
    }
   ],
   "source": [
    "w[0] * v[:, 0]"
   ]
  },
  {
   "cell_type": "markdown",
   "id": "9ed910fb-e178-43c9-bf07-86dc0b907e63",
   "metadata": {},
   "source": [
    "## SVD"
   ]
  },
  {
   "cell_type": "code",
   "execution_count": 32,
   "id": "d98366b0-7399-457b-8a2a-9bb6c39b4a6d",
   "metadata": {},
   "outputs": [
    {
     "name": "stdout",
     "output_type": "stream",
     "text": [
      "U:\n",
      " [[-0.2298477   0.88346102  0.40824829]\n",
      " [-0.52474482  0.24078249 -0.81649658]\n",
      " [-0.81964194 -0.40189603  0.40824829]]\n",
      "Sigma:\n",
      " [9.52551809 0.51430058]\n",
      "V:\n",
      " [[-0.61962948 -0.78489445]\n",
      " [-0.78489445  0.61962948]]\n"
     ]
    }
   ],
   "source": [
    "# SVD\n",
    "A = np.array([\n",
    "    [1, 2],\n",
    "    [3, 4],\n",
    "    [5, 6],\n",
    "])\n",
    "\n",
    "U, Sigma, V = np.linalg.svd(A)\n",
    "V = V.T\n",
    "print(\"U:\\n\", U)\n",
    "print(\"Sigma:\\n\", Sigma)\n",
    "print(\"V:\\n\", V)"
   ]
  },
  {
   "cell_type": "code",
   "execution_count": 33,
   "id": "cc0280c6-58a0-4263-b1dc-722196f7f8aa",
   "metadata": {},
   "outputs": [
    {
     "data": {
      "text/plain": [
       "array([[1., 2.],\n",
       "       [3., 4.],\n",
       "       [5., 6.]])"
      ]
     },
     "execution_count": 33,
     "metadata": {},
     "output_type": "execute_result"
    }
   ],
   "source": [
    "# recreate the original matrix\n",
    "# we need to turn the ``Sigma`` to a ndarray of the proper shape\n",
    "U @ np.insert(np.diag(Sigma), len(Sigma), [0, 0], 0) @ V.T"
   ]
  },
  {
   "cell_type": "code",
   "execution_count": 34,
   "id": "ecf76aac-09c1-4c24-baf8-4df7c0992ed0",
   "metadata": {},
   "outputs": [
    {
     "data": {
      "text/plain": [
       "array([[-2.18941839,  0.45436451],\n",
       "       [-4.99846626,  0.12383458],\n",
       "       [-7.80751414, -0.20669536]])"
      ]
     },
     "execution_count": 34,
     "metadata": {},
     "output_type": "execute_result"
    }
   ],
   "source": [
    "# Create the partial matrices\n",
    "US = U @ np.insert(np.diag(Sigma), len(Sigma), [0, 0], 0)\n",
    "US"
   ]
  },
  {
   "cell_type": "code",
   "execution_count": 35,
   "id": "038daf13-04e7-4fb7-a041-1cabffc70477",
   "metadata": {},
   "outputs": [
    {
     "data": {
      "text/plain": [
       "matrix([[1.35662819, 1.71846235],\n",
       "        [3.09719707, 3.92326845],\n",
       "        [4.83776596, 6.12807454]])"
      ]
     },
     "execution_count": 35,
     "metadata": {},
     "output_type": "execute_result"
    }
   ],
   "source": [
    "# partial matrix 1\n",
    "np.matrix(US[:, 0]).T @ np.matrix(V[:, 0])"
   ]
  },
  {
   "cell_type": "code",
   "execution_count": 36,
   "id": "0c4f4841-9e31-4496-bf60-40ee0327d33b",
   "metadata": {},
   "outputs": [
    {
     "data": {
      "text/plain": [
       "matrix([[-0.35662819,  0.28153765],\n",
       "        [-0.09719707,  0.07673155],\n",
       "        [ 0.16223404, -0.12807454]])"
      ]
     },
     "execution_count": 36,
     "metadata": {},
     "output_type": "execute_result"
    }
   ],
   "source": [
    "# partial matrix 2\n",
    "np.matrix(US[:, 1]).T @ np.matrix(V[:, 1])"
   ]
  },
  {
   "cell_type": "code",
   "execution_count": null,
   "id": "d2b8806c-b3d9-4713-837f-22d2ee706f2b",
   "metadata": {},
   "outputs": [],
   "source": [
    "# Image compression\n",
    "FIGURE_SIZE = (10, 10)\n",
    "plt.gray()\n",
    "\n",
    "original = Image.open(urlopen(\"https://github.com/changyaochen/MECE4520/raw/master/data/leena.png\"))\n",
    "plt.figure(figsize=FIGURE_SIZE)\n",
    "plt.imshow(original, interpolation=\"none\")"
   ]
  },
  {
   "cell_type": "code",
   "execution_count": null,
   "id": "b2713bf5-4a13-45c7-9640-c77ec8bd1e20",
   "metadata": {},
   "outputs": [],
   "source": [
    "original_data = np.array(original)\n",
    "print(original_data.shape)\n",
    "original_data"
   ]
  },
  {
   "cell_type": "code",
   "execution_count": null,
   "id": "45563595-ba77-4df8-8288-81ae3cc35594",
   "metadata": {},
   "outputs": [],
   "source": [
    "U, Sigma, V = np.linalg.svd(original_data)\n",
    "V = V.T"
   ]
  },
  {
   "cell_type": "code",
   "execution_count": null,
   "id": "19a0025c-fd55-400a-8c0c-e0bfb91e212f",
   "metadata": {},
   "outputs": [],
   "source": [
    "k = 20  # Number of principle components to keep\n",
    "\n",
    "U_reduced = U[:, 0:k]\n",
    "V_reduced = V[:, 0:k]\n",
    "Sigma_reduced = np.diag(Sigma[:k])"
   ]
  },
  {
   "cell_type": "code",
   "execution_count": null,
   "id": "6fc4ac6a-ced2-4653-bc16-e97c78018161",
   "metadata": {},
   "outputs": [],
   "source": [
    "compressed = U_reduced @ Sigma_reduced @ V_reduced.T\n",
    "\n",
    "plt.figure(figsize=FIGURE_SIZE)\n",
    "plt.imshow(compressed, interpolation=\"none\")"
   ]
  },
  {
   "cell_type": "code",
   "execution_count": null,
   "id": "fb2b3bc1-f6b8-4ad1-a123-6cf8a874ad62",
   "metadata": {},
   "outputs": [],
   "source": []
  }
 ],
 "metadata": {
  "kernelspec": {
   "display_name": "Python 3 (ipykernel)",
   "language": "python",
   "name": "python3"
  },
  "language_info": {
   "codemirror_mode": {
    "name": "ipython",
    "version": 3
   },
   "file_extension": ".py",
   "mimetype": "text/x-python",
   "name": "python",
   "nbconvert_exporter": "python",
   "pygments_lexer": "ipython3",
   "version": "3.10.6"
  }
 },
 "nbformat": 4,
 "nbformat_minor": 5
}
