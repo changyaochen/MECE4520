{
 "cells": [
  {
   "cell_type": "code",
   "execution_count": null,
   "id": "6aeca9ed-e0e4-48c8-a9f0-2f80ef7c5570",
   "metadata": {},
   "outputs": [],
   "source": [
    "from typing import List\n",
    "from typing import Union\n",
    "\n",
    "import numpy as np\n",
    "from IPython.display import display\n",
    "from matplotlib import pyplot as plt\n",
    "from PIL import Image\n",
    "from urllib.request import urlopen\n",
    "from scipy.spatial import distance"
   ]
  },
  {
   "cell_type": "markdown",
   "id": "a268cd03-92af-49ca-a29d-adf64a4b4526",
   "metadata": {},
   "source": [
    "## Vector\n",
    "\n",
    "Vector is a fundamental concept that represents a quantity with both magnitude and direction. Vectors are widely used in data science for various purposes, including data representation, analysis, and machine learning.\n",
    "\n",
    "With Python, it is common to represent a vector with the `numpy.array` object."
   ]
  },
  {
   "cell_type": "code",
   "execution_count": null,
   "id": "fdde9365-0373-48a6-9839-84e27493768c",
   "metadata": {},
   "outputs": [],
   "source": [
    "u = np.array([1, 2, 3])\n",
    "print(u.shape)"
   ]
  },
  {
   "cell_type": "markdown",
   "id": "69b53c1b-fc0e-4d3c-95de-de5db9b7dedc",
   "metadata": {},
   "source": [
    "### Norm\n",
    "\n",
    "The norm of a vector is a mathematical operation that calculates a measure of the length or size of the vector. The norm is a scalar value that provides information about the magnitude or distance of the vector from the origin. \n",
    "\n",
    "To define a norm, one also needs to provide the order. The choice of which norm to use depends on the specific problem and the characteristics of the data. The Euclidean norm (L2 norm) is often used when considering the overall magnitude or distance between vectors. The Taxicab norm (L1 norm) is used when you want to calculate distances in a grid-like fashion, where you can only move along the coordinate axes. The Infinity norm (L∞ norm) is useful when you want to find the maximum absolute component value of a vector."
   ]
  },
  {
   "cell_type": "code",
   "execution_count": null,
   "id": "6232c34d-9ff8-446f-ae09-43fd8f00840d",
   "metadata": {},
   "outputs": [],
   "source": [
    "# Norms\n",
    "def norm(\n",
    "    vector: Union[List[float], np.ndarray], \n",
    "    order: int = 2\n",
    ") -> float:\n",
    "    \"\"\"Calculate the L-order norm.\"\"\"\n",
    "    value = (sum([abs(x)**order for x in vector]))**(1 / order)\n",
    "    return value"
   ]
  },
  {
   "cell_type": "markdown",
   "id": "00969885-60c1-485a-b82b-4b9c91e06575",
   "metadata": {},
   "source": [
    "You can calculate the norm of a vector by calling `numpy`'s built-in function of `linalg.norm()`."
   ]
  },
  {
   "cell_type": "code",
   "execution_count": null,
   "id": "46a87cd1-2ce0-49fd-b81b-5544881301ea",
   "metadata": {},
   "outputs": [],
   "source": [
    "for order in range(1, 4):\n",
    "    print(f\"The L-{order} norm is:                    \", norm(vector=u, order=order))\n",
    "    print(f\"The L-{order} norm calculated by numpy is:\", np.linalg.norm(x=u, ord=order))\n",
    "    print()"
   ]
  },
  {
   "cell_type": "markdown",
   "id": "d42add51-4e20-4bf7-9808-b1ccc032bdc6",
   "metadata": {},
   "source": [
    "### Dot Product\n",
    "\n",
    "The dot product of two vectors is a scalar value that measures the similarity or projection of one vector onto another. It's used in various machine learning algorithms and statistical calculations."
   ]
  },
  {
   "cell_type": "code",
   "execution_count": null,
   "id": "6e7eb445-a5c9-495f-9915-b0b04b6a6947",
   "metadata": {},
   "outputs": [],
   "source": [
    "# Dot product\n",
    "def dot_product(\n",
    "    u: Union[List[float], np.ndarray],\n",
    "    v: Union[List[float], np.ndarray]\n",
    ") -> float:\n",
    "    \"\"\"Calcuate the dot- (inner-) product between two vectors.\"\"\"\n",
    "    value = sum([x * y for x, y in zip(u, v)])\n",
    "    return value"
   ]
  },
  {
   "cell_type": "markdown",
   "id": "ac3dc324-d722-49dc-b454-7d7ee6cb76a2",
   "metadata": {},
   "source": [
    "Similarly, you can use `numpy`'s built-in function, or `@` shorthand to perform dot product."
   ]
  },
  {
   "cell_type": "code",
   "execution_count": null,
   "id": "4c0aba8e-eef5-4e4a-8e02-4125e112cf02",
   "metadata": {},
   "outputs": [],
   "source": [
    "v = np.array([4, 5, 6])\n",
    "\n",
    "print(dot_product(u, v))\n",
    "print(np.dot(u, v))\n",
    "print(u @ v.T)  # short-hand for matrix multiplication"
   ]
  },
  {
   "cell_type": "markdown",
   "id": "06d8f252-a7f8-43d9-be51-73250b7c17e9",
   "metadata": {},
   "source": [
    "### Distance\n",
    "\n",
    "The distance between two vectors is a measure of how far apart they are in a vector space. There are different ways to calculate the distance between vectors, and the choice of distance metric depends on the context and the specific problem you are trying to solve. Some common distance metrics include:\n",
    "\n",
    "#### Euclidean Distance\n",
    "\n",
    "The Euclidean distance between two vectors is also known as the L2 distance or L2 norm. It calculates the straight-line distance between the two vectors in Euclidean space. It is the L2 norm of the difference (also a vector) between the two vectors."
   ]
  },
  {
   "cell_type": "code",
   "execution_count": null,
   "id": "1a1b2885-d49b-4f15-8084-2fe2ffab11a4",
   "metadata": {},
   "outputs": [],
   "source": [
    "# Distance\n",
    "print(u - v)\n",
    "print(norm(u - v))\n",
    "print(distance.euclidean(u, v))"
   ]
  },
  {
   "cell_type": "markdown",
   "id": "845ab48a-745f-48c2-acb9-90196246d86a",
   "metadata": {},
   "source": [
    "### Cosine Similarity:\n",
    "\n",
    "Cosine similarity measures the cosine of the angle between two vectors and is often used to assess the similarity between vectors in high-dimensional spaces. It is not a distance metric in the traditional sense but a similarity measure."
   ]
  },
  {
   "cell_type": "code",
   "execution_count": null,
   "id": "263c50e4-c9d3-4f90-a7a4-d925172eab7b",
   "metadata": {},
   "outputs": [],
   "source": [
    "def cosine_distance(\n",
    "    u: Union[List[float], np.ndarray],\n",
    "    v: Union[List[float], np.ndarray]\n",
    ") -> float:\n",
    "    \"\"\"Calculate the cosine distance between two vectors.\"\"\"\n",
    "    value = dot_product(u, v) / (norm(u) * norm(v))\n",
    "    return 1 - value\n",
    "\n",
    "print(cosine_distance(u, v))\n",
    "print(distance.cosine(u, v))"
   ]
  },
  {
   "cell_type": "markdown",
   "id": "cbe70382-845d-405b-ab0f-04ddefe27410",
   "metadata": {},
   "source": [
    "## Matrix\n",
    "\n",
    "In the context of data science and mathematics, a matrix is a fundamental data structure that consists of a two-dimensional arrangement of numbers, symbols, or data elements organized in rows and columns. "
   ]
  },
  {
   "cell_type": "code",
   "execution_count": null,
   "id": "6a9d1153-b5aa-49f0-b445-408e7846aa87",
   "metadata": {},
   "outputs": [],
   "source": [
    "A = np.array([\n",
    "  [1, 2],\n",
    "  [3, 4],  \n",
    "])\n",
    "print(A.shape)"
   ]
  },
  {
   "cell_type": "code",
   "execution_count": null,
   "id": "24da0019-633f-49ef-a072-ba689ce8c5db",
   "metadata": {},
   "outputs": [],
   "source": [
    "B = np.array([\n",
    "  [5, 6],\n",
    "  [7, 8],  \n",
    "])\n",
    "\n",
    "A + B"
   ]
  },
  {
   "cell_type": "code",
   "execution_count": null,
   "id": "8aa2a24f-79e1-48b4-81bc-a508103add6f",
   "metadata": {},
   "outputs": [],
   "source": [
    "# broadcasting\n",
    "A + 3"
   ]
  },
  {
   "cell_type": "code",
   "execution_count": null,
   "id": "878666f6-d8cc-4965-a580-1bf9856cef46",
   "metadata": {},
   "outputs": [],
   "source": [
    "A * 3"
   ]
  },
  {
   "cell_type": "markdown",
   "id": "8b613445-f63a-4389-a38c-ebbd5cd6e584",
   "metadata": {},
   "source": [
    "## Multiplication\n",
    "\n",
    "Matrix multiplication is a fundamental mathematical operation that combines two matrices to produce a new matrix. "
   ]
  },
  {
   "cell_type": "code",
   "execution_count": null,
   "id": "b5abd9a4-b590-4dc4-9e84-072e6e7f98af",
   "metadata": {},
   "outputs": [],
   "source": [
    "# multiplication\n",
    "A = np.array([\n",
    "    [1, 2],\n",
    "    [3, 4],\n",
    "    [5, 6],\n",
    "    [7, 8],\n",
    "])\n",
    "B = np.array([\n",
    "    [1, 2, 3],\n",
    "    [4, 5, 6],\n",
    "])\n",
    "\n",
    "print(A.shape, B.shape)"
   ]
  },
  {
   "cell_type": "code",
   "execution_count": null,
   "id": "61339c13-ab47-4685-8153-f767cf907d29",
   "metadata": {},
   "outputs": [],
   "source": [
    "np.matmul(A, B)"
   ]
  },
  {
   "cell_type": "code",
   "execution_count": null,
   "id": "3aae8b8e-958a-49d6-a8b1-f68720e0561d",
   "metadata": {},
   "outputs": [],
   "source": [
    "A @ B"
   ]
  },
  {
   "cell_type": "markdown",
   "id": "14a00a77-a3a8-42b2-a821-4e9f1b807ff7",
   "metadata": {},
   "source": [
    "### Basic matrix operations"
   ]
  },
  {
   "cell_type": "code",
   "execution_count": null,
   "id": "812cdf4b-0348-444c-a0b5-ecf54ef50b17",
   "metadata": {},
   "outputs": [],
   "source": [
    "# transpose\n",
    "print(A)\n",
    "print(A.T)"
   ]
  },
  {
   "cell_type": "code",
   "execution_count": null,
   "id": "d88f3822-de9f-4071-851d-ad64383fa167",
   "metadata": {},
   "outputs": [],
   "source": [
    "# trace\n",
    "print(np.trace(A @ A.T))\n",
    "print(np.trace(A.T @ A))"
   ]
  },
  {
   "cell_type": "code",
   "execution_count": null,
   "id": "16d063be-ecc7-4f1b-85c1-7df0e8add9ab",
   "metadata": {},
   "outputs": [],
   "source": [
    "# determinant\n",
    "print(np.linalg.det(A @ A.T))\n",
    "print(np.linalg.det(A.T @ A))"
   ]
  },
  {
   "cell_type": "code",
   "execution_count": null,
   "id": "89e9dc61-a950-42af-ba07-c40dbfff3b6b",
   "metadata": {},
   "outputs": [],
   "source": [
    "# identity matrix\n",
    "I = np.eye(3)\n",
    "print(I)"
   ]
  },
  {
   "cell_type": "markdown",
   "id": "73437f04-7068-4bc8-aea6-471a45d424cc",
   "metadata": {},
   "source": [
    "### Matrix inverse\n",
    "\n",
    "The inverse of a matrix is a special matrix that, when multiplied by the original matrix, results in the identity matrix. \n",
    "\n",
    "Not all matrices have inverses, and those that do are called \"invertible\" or \"non-singular\" matrices. "
   ]
  },
  {
   "cell_type": "code",
   "execution_count": null,
   "id": "11e046ca-2997-4816-89c1-04598a3bb684",
   "metadata": {},
   "outputs": [],
   "source": [
    "# inverse\n",
    "X = A.T @ A\n",
    "print(X)\n",
    "np.linalg.inv(X)"
   ]
  },
  {
   "cell_type": "code",
   "execution_count": null,
   "id": "c11f80cb-6ce3-461b-9102-47066a8c757b",
   "metadata": {},
   "outputs": [],
   "source": [
    "Y = A @ A.T\n",
    "\n",
    "# this will fail\n",
    "np.linalg.inv(Y)"
   ]
  },
  {
   "cell_type": "code",
   "execution_count": null,
   "id": "b26b95c3-b1dd-4536-bf2c-ddfd5b4adaef",
   "metadata": {},
   "outputs": [],
   "source": [
    "# pseudo-inverse\n",
    "np.linalg.pinv(Y)"
   ]
  },
  {
   "cell_type": "code",
   "execution_count": null,
   "id": "0d03a13f-a9d0-463d-b161-b3bd45143754",
   "metadata": {},
   "outputs": [],
   "source": [
    "np.linalg.pinv(Y) @ Y"
   ]
  },
  {
   "cell_type": "markdown",
   "id": "22ae894b-d820-424d-a212-0ce9df5d5d69",
   "metadata": {},
   "source": [
    "### Rank\n",
    "\n",
    "The rank of a matrix is a fundamental concept in linear algebra and is defined as the maximum number of linearly independent rows or columns in the matrix. In other words, it measures the dimension of the vector space spanned by the rows or columns of the matrix. "
   ]
  },
  {
   "cell_type": "code",
   "execution_count": null,
   "id": "79b07393-d8cd-43db-8fb0-ead168e6048e",
   "metadata": {},
   "outputs": [],
   "source": [
    "# rank\n",
    "print(X.shape)\n",
    "print(np.linalg.matrix_rank(X))"
   ]
  },
  {
   "cell_type": "code",
   "execution_count": null,
   "id": "97904b5d-3619-41f9-8cf0-7d04eed5153f",
   "metadata": {},
   "outputs": [],
   "source": [
    "print(Y.shape)\n",
    "print(np.linalg.matrix_rank(Y))"
   ]
  },
  {
   "cell_type": "markdown",
   "id": "d9a1e511-c61e-400d-80e0-8ac2e1480c7f",
   "metadata": {},
   "source": [
    "## Eigenvalues and eigenvectors\n",
    "\n",
    "In linear algebra, the eigenvalues and eigenvectors of a square matrix are important concepts used to understand the behavior and transformations associated with that matrix. Let's explore what eigenvalues and eigenvectors are in more detail:\n",
    "\n",
    "#### Eigenvalues:\n",
    "\n",
    "Eigenvalues are scalars (numbers) associated with a square matrix. Each matrix can have a set of eigenvalues.\n",
    "The eigenvalues of a matrix A are values λ that satisfy the following equation:\n",
    "\n",
    "$$ Av = \\lambda v$$\n",
    "\n",
    "Here, $A$ is the square matrix, $\\lambda$ is the eigenvalue, and $v$ is the corresponding eigenvector.\n",
    "\n",
    "In other words, when you multiply the matrix $A$ by its eigenvector $v$, you get a new vector that is just a scaled version of the original eigenvector $v$, where the scaling factor is the eigenvalue $\\lambda$.\n",
    "\n",
    "Eigenvalues provide information about how the matrix scales or stretches space along specific directions.\n",
    "\n",
    "#### Eigenvectors:\n",
    "\n",
    "Eigenvectors are non-zero vectors associated with eigenvalues. Each eigenvalue corresponds to one or more eigenvectors.\n",
    "\n",
    "Eigenvectors are the vectors that remain in the same direction after being transformed by the matrix $A$. They are only scaled (stretched or compressed) by the eigenvalue.\n",
    "\n",
    "Eigenvectors are often normalized (scaled to have a length of 1) for convenience."
   ]
  },
  {
   "cell_type": "code",
   "execution_count": null,
   "id": "77e26dbb-cfd6-48d5-8a30-5555a4e79297",
   "metadata": {},
   "outputs": [],
   "source": [
    "# w are eigenvalues\n",
    "# v are eigenvectors\n",
    "\n",
    "w, v = np.linalg.eig(X)"
   ]
  },
  {
   "cell_type": "code",
   "execution_count": null,
   "id": "4a2414e2-03da-4480-af82-5df0ba60db95",
   "metadata": {},
   "outputs": [],
   "source": [
    "print(f\"The eigenvalues are: {w}\")\n",
    "print(\"The eigenvectors are:\")\n",
    "print(v)"
   ]
  },
  {
   "cell_type": "code",
   "execution_count": null,
   "id": "be16392b-db3c-4d5d-88cb-53cd83f56214",
   "metadata": {},
   "outputs": [],
   "source": [
    "# reproduce the X * v\n",
    "print(X @ v[:, 0])"
   ]
  },
  {
   "cell_type": "code",
   "execution_count": null,
   "id": "dd5881c7-6bf8-4e6c-a793-bf96b819e971",
   "metadata": {},
   "outputs": [],
   "source": [
    "# reproduce the \\lambda * v\n",
    "w[0] * v[:, 0]"
   ]
  },
  {
   "cell_type": "markdown",
   "id": "9ed910fb-e178-43c9-bf07-86dc0b907e63",
   "metadata": {},
   "source": [
    "## SVD\n",
    "\n",
    "SVD stands for Singular Value Decomposition, and it is a fundamental matrix factorization technique used for various purposes, including dimensionality reduction, data compression, and feature engineering. "
   ]
  },
  {
   "cell_type": "code",
   "execution_count": null,
   "id": "d98366b0-7399-457b-8a2a-9bb6c39b4a6d",
   "metadata": {},
   "outputs": [],
   "source": [
    "# SVD\n",
    "A = np.array([\n",
    "    [1, 2],\n",
    "    [3, 4],\n",
    "    [5, 6],\n",
    "])\n",
    "\n",
    "U, Sigma, V = np.linalg.svd(A)\n",
    "V = V.T\n",
    "print(\"U:\\n\", U)\n",
    "print(\"Sigma:\\n\", Sigma)\n",
    "print(\"V:\\n\", V)"
   ]
  },
  {
   "cell_type": "code",
   "execution_count": null,
   "id": "cc0280c6-58a0-4263-b1dc-722196f7f8aa",
   "metadata": {},
   "outputs": [],
   "source": [
    "# recreate the original matrix\n",
    "# we need to turn the ``Sigma`` to a ndarray of the proper shape\n",
    "sigma_matrix = np.insert(np.diag(Sigma), len(Sigma), [0, 0], 0)\n",
    "U @ sigma_matrix @ V.T"
   ]
  },
  {
   "cell_type": "code",
   "execution_count": null,
   "id": "ecf76aac-09c1-4c24-baf8-4df7c0992ed0",
   "metadata": {},
   "outputs": [],
   "source": [
    "# Create the partial matrices\n",
    "US = U @ sigma_matrix\n",
    "US"
   ]
  },
  {
   "cell_type": "code",
   "execution_count": null,
   "id": "038daf13-04e7-4fb7-a041-1cabffc70477",
   "metadata": {},
   "outputs": [],
   "source": [
    "# partial matrix 1\n",
    "np.matrix(US[:, 0]).T @ np.matrix(V[:, 0])"
   ]
  },
  {
   "cell_type": "code",
   "execution_count": null,
   "id": "0c4f4841-9e31-4496-bf60-40ee0327d33b",
   "metadata": {},
   "outputs": [],
   "source": [
    "# partial matrix 2\n",
    "np.matrix(US[:, 1]).T @ np.matrix(V[:, 1])"
   ]
  },
  {
   "cell_type": "markdown",
   "id": "cc92dc1a-daff-4070-8bcc-93e0b9097511",
   "metadata": {},
   "source": [
    "SVD can be used for data compression, particularly in image and signal processing. \n",
    "\n",
    "By representing an image or signal with a reduced number of singular values and corresponding components, you can achieve data compression while retaining the essential features of the data."
   ]
  },
  {
   "cell_type": "code",
   "execution_count": null,
   "id": "d2b8806c-b3d9-4713-837f-22d2ee706f2b",
   "metadata": {},
   "outputs": [],
   "source": [
    "# Image compression\n",
    "FIGURE_SIZE = (10, 10)\n",
    "plt.gray()\n",
    "\n",
    "original = Image.open(urlopen(\"https://github.com/changyaochen/MECE4520/raw/master/data/leena.png\"))\n",
    "plt.figure(figsize=FIGURE_SIZE)\n",
    "plt.imshow(original, interpolation=\"none\")"
   ]
  },
  {
   "cell_type": "code",
   "execution_count": null,
   "id": "b2713bf5-4a13-45c7-9640-c77ec8bd1e20",
   "metadata": {},
   "outputs": [],
   "source": [
    "original_data = np.array(original)\n",
    "print(original_data.shape)\n",
    "original_data"
   ]
  },
  {
   "cell_type": "code",
   "execution_count": null,
   "id": "45563595-ba77-4df8-8288-81ae3cc35594",
   "metadata": {},
   "outputs": [],
   "source": [
    "U, Sigma, V = np.linalg.svd(original_data)\n",
    "V = V.T"
   ]
  },
  {
   "cell_type": "code",
   "execution_count": null,
   "id": "19a0025c-fd55-400a-8c0c-e0bfb91e212f",
   "metadata": {},
   "outputs": [],
   "source": [
    "k = 20  # Number of principle components to keep\n",
    "\n",
    "U_reduced = U[:, 0:k]\n",
    "V_reduced = V[:, 0:k]\n",
    "Sigma_reduced = np.diag(Sigma[:k])"
   ]
  },
  {
   "cell_type": "code",
   "execution_count": null,
   "id": "6fc4ac6a-ced2-4653-bc16-e97c78018161",
   "metadata": {},
   "outputs": [],
   "source": [
    "compressed = U_reduced @ Sigma_reduced @ V_reduced.T\n",
    "\n",
    "plt.figure(figsize=FIGURE_SIZE)\n",
    "plt.imshow(compressed, interpolation=\"none\")"
   ]
  }
 ],
 "metadata": {
  "kernelspec": {
   "display_name": "Python 3 (ipykernel)",
   "language": "python",
   "name": "python3"
  },
  "language_info": {
   "codemirror_mode": {
    "name": "ipython",
    "version": 3
   },
   "file_extension": ".py",
   "mimetype": "text/x-python",
   "name": "python",
   "nbconvert_exporter": "python",
   "pygments_lexer": "ipython3",
   "version": "3.10.6"
  }
 },
 "nbformat": 4,
 "nbformat_minor": 5
}
