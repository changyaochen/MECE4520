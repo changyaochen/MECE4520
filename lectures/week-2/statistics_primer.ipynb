{
 "cells": [
  {
   "cell_type": "code",
   "execution_count": null,
   "id": "6e3c4d0e",
   "metadata": {},
   "outputs": [],
   "source": [
    "import matplotlib.pyplot as plt\n",
    "import numpy as np\n",
    "\n",
    "# set random seed\n",
    "np.random.seed(42)"
   ]
  },
  {
   "cell_type": "markdown",
   "id": "3eb087c2",
   "metadata": {},
   "source": [
    "# Descriptive statistics\n",
    "\n",
    "Descriptive statistics provides a summary of the main aspects of the dataset (sample), which we can quantify:\n",
    "\n",
    "* Measures of Central Tendency: mean, median\n",
    "* Measures of Dispersion (or Spread): variance, standard deviation\n",
    "* Measures of Shape: percentile and quantile"
   ]
  },
  {
   "cell_type": "code",
   "execution_count": null,
   "id": "fef5d316",
   "metadata": {},
   "outputs": [],
   "source": [
    "# generate a random sample\n",
    "X = np.random.normal(loc=1.0, scale=5.0, size=1000)"
   ]
  },
  {
   "cell_type": "code",
   "execution_count": null,
   "id": "6ab79e49",
   "metadata": {},
   "outputs": [],
   "source": [
    "# mean\n",
    "x_mean = np.mean(X)\n",
    "x_mean"
   ]
  },
  {
   "cell_type": "code",
   "execution_count": null,
   "id": "879691f8",
   "metadata": {},
   "outputs": [],
   "source": [
    "# median\n",
    "x_median = np.median(X)\n",
    "x_median"
   ]
  },
  {
   "cell_type": "code",
   "execution_count": null,
   "id": "5f13a97b",
   "metadata": {},
   "outputs": [],
   "source": [
    "# sample variance\n",
    "x_var = np.var(X, ddof=1)\n",
    "x_var"
   ]
  },
  {
   "cell_type": "code",
   "execution_count": null,
   "id": "e908aeb5",
   "metadata": {},
   "outputs": [],
   "source": [
    "# standard deviation\n",
    "np.sqrt(x_var)"
   ]
  },
  {
   "cell_type": "code",
   "execution_count": null,
   "id": "6a9c5e0c",
   "metadata": {},
   "outputs": [],
   "source": [
    "np.std(X, ddof=1)"
   ]
  },
  {
   "cell_type": "code",
   "execution_count": null,
   "id": "15b235c2",
   "metadata": {},
   "outputs": [],
   "source": [
    "# quantile\n",
    "x_25th_quantile = np.quantile(X, q=0.25)\n",
    "x_25th_quantile"
   ]
  },
  {
   "cell_type": "code",
   "execution_count": null,
   "id": "c842432c",
   "metadata": {},
   "outputs": [],
   "source": [
    "x_50th_quantile = np.quantile(X, q=0.5)\n",
    "x_50th_quantile"
   ]
  },
  {
   "cell_type": "markdown",
   "id": "61975c6b-ac6d-40bf-b22b-92558ccdee70",
   "metadata": {},
   "source": [
    "## Visual representation\n",
    "\n",
    "### Histogram\n",
    "\n",
    "A histogram is a graphical representation of the distribution of a dataset. It is an estimate of the probability distribution of a random variable. \n",
    "\n",
    "To construct a histogram, the first step is to \"bin\" the range of values — that is, divide the entire range of values into a series of intervals — and then count how many values fall into each interval. The bins are usually specified as consecutive, non-overlapping intervals of a variable."
   ]
  },
  {
   "cell_type": "code",
   "execution_count": null,
   "id": "557899b5",
   "metadata": {},
   "outputs": [],
   "source": [
    "# make the histogram\n",
    "plt.hist(X, bins=50)\n",
    "plt.show()"
   ]
  },
  {
   "cell_type": "markdown",
   "id": "0f8f1fe6-97ec-4038-81e2-a4fe90bfca50",
   "metadata": {},
   "source": [
    "### Boxplot\n",
    "\n",
    "A boxplot, also known as a whisker plot or box-and-whisker plot, is a standardized way of displaying the distribution of data based on a summary, based on the minimum, the maximum, the sample median, the first and third quartiles. Other quantities include IQR (Inter Quantile Range), which is the difference between the first and the thrid quantiles."
   ]
  },
  {
   "cell_type": "code",
   "execution_count": null,
   "id": "8fa5dc6e",
   "metadata": {},
   "outputs": [],
   "source": [
    "# make the box-plot\n",
    "plt.boxplot(X)\n",
    "plt.show()"
   ]
  },
  {
   "cell_type": "markdown",
   "id": "02a1a326",
   "metadata": {},
   "source": [
    "## Examples of well-known distributions"
   ]
  },
  {
   "cell_type": "markdown",
   "id": "dc13a483-c96d-4483-be7b-6381de7d013e",
   "metadata": {},
   "source": [
    "### Bernoulli\n",
    "\n",
    "The Bernoulli distribution is a discrete probability distribution for a random variable which can take on one of two possible outcomes, often labeled 0 and 1. It's a special case of the binomial distribution where a single trial is conducted."
   ]
  },
  {
   "cell_type": "code",
   "execution_count": null,
   "id": "d28932e3-baed-4253-8dc4-3f1d3c4f20d4",
   "metadata": {},
   "outputs": [],
   "source": [
    "from scipy.stats import bernoulli\n",
    "\n",
    "p = 0.6\n",
    "k = [0, 1]\n",
    "\n",
    "pmf = bernoulli.pmf(k=k, p=p)\n",
    "\n",
    "_, ax = plt.subplots(1, 1)\n",
    "ax.plot(k, pmf, \"bo\")\n",
    "_ = ax.vlines(x=k, ymin=0, ymax=pmf, colors=\"b\", lw=5, alpha=0.5)"
   ]
  },
  {
   "cell_type": "markdown",
   "id": "3e1f76dd-340a-409d-bb9f-418c917c749a",
   "metadata": {},
   "source": [
    "### Binomial\n",
    "\n",
    "The Binomial distribution is a discrete probability distribution that describes the number of successes in a fixed number of independent Bernoulli trials, each with the same probability of success."
   ]
  },
  {
   "cell_type": "code",
   "execution_count": null,
   "id": "f8f68c22-90e4-467b-9f76-1872936f915a",
   "metadata": {},
   "outputs": [],
   "source": [
    "from scipy.stats import binom\n",
    "\n",
    "p = 0.6\n",
    "n = 100\n",
    "\n",
    "k = np.arange(start=0, stop=(n + 1), step=1)\n",
    "pmf = binom.pmf(k=k, n=n, p=p)\n",
    "\n",
    "_, ax = plt.subplots(1, 1)\n",
    "ax.plot(k, pmf, \"bo\")\n",
    "_ = ax.vlines(x=k, ymin=0, ymax=pmf, colors=\"b\", lw=2, alpha=0.5)"
   ]
  },
  {
   "cell_type": "markdown",
   "id": "747ba642-2397-4251-89a0-53842bfe09b9",
   "metadata": {},
   "source": [
    "### Geometric \n",
    "\n",
    "The geometric distribution is a discrete probability distribution that describes the number of Bernoulli trials required for a success to occur for the first time. It's a model for the \"waiting time\" until the first success."
   ]
  },
  {
   "cell_type": "code",
   "execution_count": null,
   "id": "a84e73e6-b383-4cef-ae92-bdbe8ccc9813",
   "metadata": {},
   "outputs": [],
   "source": [
    "from scipy.stats import geom\n",
    "\n",
    "p = 0.2\n",
    "\n",
    "k = np.arange(start=0, stop=(n + 1), step=1)\n",
    "pmf = geom.pmf(k=k, p=p)\n",
    "\n",
    "_, ax = plt.subplots(1, 1)\n",
    "ax.plot(k, pmf, \"bo\")\n",
    "_ = ax.vlines(x=k, ymin=0, ymax=pmf, colors=\"b\", lw=2, alpha=0.5)"
   ]
  },
  {
   "cell_type": "markdown",
   "id": "bc92c7c5-1fde-4f15-ad4f-2754c9f69393",
   "metadata": {},
   "source": [
    "### Uniform\n",
    "\n",
    "The uniform distribution is the probability distribution in which all outcomes (from within a range) are equally likely. "
   ]
  },
  {
   "cell_type": "code",
   "execution_count": null,
   "id": "36fd2335-1997-4b67-acc6-c580d0d6d467",
   "metadata": {},
   "outputs": [],
   "source": [
    "from scipy.stats import uniform\n",
    "\n",
    "x = np.arange(start=-1, stop=2, step=0.01)\n",
    "pdf = uniform.pdf(x)\n",
    "\n",
    "_, ax = plt.subplots(1, 1)\n",
    "_ = ax.plot(x, pdf, \"r-\")"
   ]
  },
  {
   "cell_type": "markdown",
   "id": "07719c2c-c449-4594-afbd-60038b7d7005",
   "metadata": {},
   "source": [
    "### Normal\n",
    "\n",
    "The normal distribution, also known as the Gaussian distribution, is a continuous probability distribution that has a bell-shaped probability density function. It is one of the most important and widely used distributions in statistics and natural sciences due to its descriptive power for many natural phenomena."
   ]
  },
  {
   "cell_type": "code",
   "execution_count": null,
   "id": "17d5d169-3c5c-42bf-b424-2663a5945a0c",
   "metadata": {},
   "outputs": [],
   "source": [
    "from scipy.stats import norm\n",
    "\n",
    "x = np.arange(start=-5, stop=5, step=0.01)\n",
    "pdf = norm.pdf(x)\n",
    "\n",
    "_, ax = plt.subplots(1, 1)\n",
    "_ = ax.plot(x, pdf, \"r-\")"
   ]
  }
 ],
 "metadata": {
  "kernelspec": {
   "display_name": "Python 3 (ipykernel)",
   "language": "python",
   "name": "python3"
  },
  "language_info": {
   "codemirror_mode": {
    "name": "ipython",
    "version": 3
   },
   "file_extension": ".py",
   "mimetype": "text/x-python",
   "name": "python",
   "nbconvert_exporter": "python",
   "pygments_lexer": "ipython3",
   "version": "3.9.16"
  },
  "vscode": {
   "interpreter": {
    "hash": "665970a3d761a4f255ecde32808731f9b2ef62c954e47b5b53ad070c6557cd9d"
   }
  }
 },
 "nbformat": 4,
 "nbformat_minor": 5
}
