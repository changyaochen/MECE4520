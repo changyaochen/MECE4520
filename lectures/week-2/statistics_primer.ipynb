{
 "cells": [
  {
   "cell_type": "code",
   "execution_count": null,
   "id": "6e3c4d0e",
   "metadata": {},
   "outputs": [],
   "source": [
    "import matplotlib.pyplot as plt\n",
    "import numpy as np\n",
    "\n",
    "from scipy.stats import binom\n",
    "from scipy.stats import norm\n",
    "from scipy.stats import ttest_ind\n",
    "from tqdm import tqdm\n",
    "\n",
    "# set random seed\n",
    "np.random.seed(42)"
   ]
  },
  {
   "cell_type": "markdown",
   "id": "3eb087c2",
   "metadata": {},
   "source": [
    "# Descriptive statistics"
   ]
  },
  {
   "cell_type": "code",
   "execution_count": null,
   "id": "fef5d316",
   "metadata": {},
   "outputs": [],
   "source": [
    "# generate a random sample\n",
    "X = np.random.normal(loc=1.0, scale=5.0, size=1000)"
   ]
  },
  {
   "cell_type": "code",
   "execution_count": null,
   "id": "6ab79e49",
   "metadata": {},
   "outputs": [],
   "source": [
    "# mean\n",
    "x_mean = np.mean(X)\n",
    "x_mean"
   ]
  },
  {
   "cell_type": "code",
   "execution_count": null,
   "id": "879691f8",
   "metadata": {},
   "outputs": [],
   "source": [
    "# median\n",
    "x_median = np.median(X)\n",
    "x_median"
   ]
  },
  {
   "cell_type": "code",
   "execution_count": null,
   "id": "15b235c2",
   "metadata": {},
   "outputs": [],
   "source": [
    "# quantile\n",
    "x_25th_quantile = np.quantile(X, q=0.25)\n",
    "x_25th_quantile"
   ]
  },
  {
   "cell_type": "code",
   "execution_count": null,
   "id": "c842432c",
   "metadata": {},
   "outputs": [],
   "source": [
    "x_50th_quantile = np.quantile(X, q=0.5)\n",
    "x_50th_quantile"
   ]
  },
  {
   "cell_type": "code",
   "execution_count": null,
   "id": "557899b5",
   "metadata": {},
   "outputs": [],
   "source": [
    "# make the histogram\n",
    "plt.hist(X, bins=50)\n",
    "plt.show()"
   ]
  },
  {
   "cell_type": "code",
   "execution_count": null,
   "id": "8fa5dc6e",
   "metadata": {},
   "outputs": [],
   "source": [
    "# make the box-plot\n",
    "plt.boxplot(X)\n",
    "plt.show()"
   ]
  },
  {
   "cell_type": "code",
   "execution_count": null,
   "id": "5f13a97b",
   "metadata": {},
   "outputs": [],
   "source": [
    "# sample variance\n",
    "x_var = np.var(X, ddof=1)\n",
    "x_var"
   ]
  },
  {
   "cell_type": "code",
   "execution_count": null,
   "id": "e908aeb5",
   "metadata": {},
   "outputs": [],
   "source": [
    "# standard deviation\n",
    "np.sqrt(x_var)"
   ]
  },
  {
   "cell_type": "code",
   "execution_count": null,
   "id": "6a9c5e0c",
   "metadata": {},
   "outputs": [],
   "source": [
    "np.std(X, ddof=1)"
   ]
  },
  {
   "cell_type": "markdown",
   "id": "02a1a326",
   "metadata": {},
   "source": [
    "## Central Limit Theorem"
   ]
  },
  {
   "cell_type": "code",
   "execution_count": null,
   "id": "ed10ac18",
   "metadata": {},
   "outputs": [],
   "source": [
    "n_trials = 1000\n",
    "n_samples = 100"
   ]
  },
  {
   "cell_type": "code",
   "execution_count": null,
   "id": "fb89a7b3",
   "metadata": {},
   "outputs": [],
   "source": [
    "# normal distribution\n",
    "sample_means = []\n",
    "for _ in range(n_trials):\n",
    "    X = np.random.normal(loc=1.0, scale=1.0, size=n_samples)\n",
    "    sample_means.append(np.mean(X))\n",
    "\n",
    "print(f\"The mean of sample means is: {np.mean(sample_means):5.3f}.\")\n",
    "print(f\"The standard deviation of sample means is: {np.std(sample_means):5.3f}.\")\n",
    "plt.hist(sample_means, bins=20)\n",
    "plt.show()"
   ]
  },
  {
   "cell_type": "code",
   "execution_count": null,
   "id": "cd1bf295",
   "metadata": {},
   "outputs": [],
   "source": [
    "# bernoulli distribution\n",
    "sample_means = []\n",
    "p = 0.6\n",
    "for _ in range(n_trials):\n",
    "    X_uniform = np.random.random(size=n_samples)\n",
    "    X = [1 if x < p else 0 for x in X_uniform]\n",
    "    sample_means.append(np.mean(X))\n",
    "\n",
    "print(f\"The mean of sample means is: {np.mean(sample_means):5.3f}.\")\n",
    "print(f\"The standard deviation of sample means is: {np.std(sample_means):5.3f}.\")\n",
    "plt.hist(sample_means, bins=20)\n",
    "plt.show()"
   ]
  },
  {
   "cell_type": "code",
   "execution_count": null,
   "id": "ef685d27",
   "metadata": {},
   "outputs": [],
   "source": [
    "# binomial distribtuion\n",
    "sample_means = []\n",
    "for _ in range(n_trials):\n",
    "    X = np.random.binomial(n=10, p=0.6, size=n_samples)\n",
    "    sample_means.append(np.mean(X))\n",
    "\n",
    "print(f\"The mean of sample means is: {np.mean(sample_means):5.3f}.\")\n",
    "print(f\"The standard deviation of sample means is: {np.std(sample_means):5.3f}.\")\n",
    "plt.hist(sample_means, bins=20)\n",
    "plt.show()"
   ]
  },
  {
   "cell_type": "code",
   "execution_count": null,
   "id": "324576cd",
   "metadata": {},
   "outputs": [],
   "source": [
    "# geometric distribution\n",
    "sample_means = []\n",
    "for _ in range(n_trials):\n",
    "    X = np.random.geometric(p=0.6, size=n_samples)\n",
    "    sample_means.append(np.mean(X))\n",
    "\n",
    "print(f\"The mean of sample means is: {np.mean(sample_means):5.3f}.\")\n",
    "print(f\"The standard deviation of sample means is: {np.std(sample_means):5.3f}.\")\n",
    "plt.hist(sample_means, bins=20)\n",
    "plt.show()"
   ]
  },
  {
   "cell_type": "markdown",
   "id": "0a506b1d",
   "metadata": {},
   "source": [
    "## Point estimation and confidence interval"
   ]
  },
  {
   "cell_type": "code",
   "execution_count": null,
   "id": "e9d4992f",
   "metadata": {},
   "outputs": [],
   "source": [
    "np.random.seed(42)\n",
    "\n",
    "n_trials = 100\n",
    "n_samples = 100\n",
    "mu = 0\n",
    "sigma = 1\n",
    "\n",
    "results = []\n",
    "for i, _ in enumerate(range(n_trials)):\n",
    "    X = np.random.normal(loc=mu, scale=sigma**0.5, size=n_samples)\n",
    "    lower_bound = np.mean(X) - 1.96 * np.std(X, ddof=1) / np.sqrt(n_samples)\n",
    "    upper_bound = np.mean(X) + 1.96 * np.std(X, ddof=1) / np.sqrt(n_samples)\n",
    "    \n",
    "    results.append((i, lower_bound, upper_bound))\n",
    "    \n",
    "plt.figure(figsize=(15, 9))\n",
    "for i, lower, upper in results:\n",
    "    plt.plot([lower, upper], [i] * 2, color=\"blue\", alpha=0.2)\n",
    "plt.plot([mu] * len(results), list(range(len(results))))\n",
    "plt.show()"
   ]
  },
  {
   "cell_type": "markdown",
   "id": "025cf4a0",
   "metadata": {},
   "source": [
    "## Hypothesis test"
   ]
  },
  {
   "cell_type": "code",
   "execution_count": null,
   "id": "f40f114e",
   "metadata": {},
   "outputs": [],
   "source": [
    "# fair coin, binomial test\n",
    "n = 10\n",
    "p = 0.5\n",
    "for k in range(11):\n",
    "    proba = binom.pmf(k=k, n=n, p=p)\n",
    "    print(f\"The probability of getting {k} head(s) is: {proba:5.3f}\")"
   ]
  },
  {
   "cell_type": "code",
   "execution_count": null,
   "id": "fd6eb54b",
   "metadata": {},
   "outputs": [],
   "source": [
    "# IQ example\n",
    "n = 10\n",
    "mu_0 = 100\n",
    "mu_a = 105\n",
    "sigma = 15\n",
    "alpha = 0.05  # Type I error rate\n",
    "\n",
    "\n",
    "x_range = np.arange(75, 125, 0.001)\n",
    "plt.plot(\n",
    "    x_range, \n",
    "    norm.pdf(x_range, loc=mu_0, scale=np.sqrt(sigma**2 / n)),\n",
    "    color=\"blue\",\n",
    "    label=\"H_0\"\n",
    ")\n",
    "\n",
    "plt.plot(\n",
    "    x_range, \n",
    "    norm.pdf(x_range, loc=mu_a, scale=np.sqrt(sigma**2 / n)),\n",
    "    color=\"red\",\n",
    "    label=\"H_a\"\n",
    ")\n",
    "\n",
    "# find the rejection region\n",
    "x_critical = norm.ppf(q=(1 - alpha), loc=mu_0, scale=np.sqrt(sigma**2 / n))\n",
    "power = norm.sf(x=x_critical, loc=mu_a, scale=np.sqrt(sigma**2 / n))\n",
    "\n",
    "print(f\"The critial value is {x_critical:5.3f}.\")\n",
    "print(f\"The power of the test is {power:5.3f}.\")\n",
    "plt.axvline(x=x_critical, color=\"black\")\n",
    "\n",
    "plt.axhline(y=0, color=\"black\")\n",
    "plt.legend()\n",
    "plt.show()"
   ]
  },
  {
   "cell_type": "code",
   "execution_count": null,
   "id": "86803aab",
   "metadata": {},
   "outputs": [],
   "source": [
    "# Get the p-value\n",
    "norm.sf(x=110, loc=100, scale=np.sqrt(15**2 / 10))"
   ]
  },
  {
   "cell_type": "code",
   "execution_count": null,
   "id": "32b3775e",
   "metadata": {},
   "outputs": [],
   "source": [
    "# 2-sample test\n",
    "x_mean = 100\n",
    "y_mean = 105\n",
    "s_x = 10\n",
    "s_y = 10\n",
    "n_x = 150\n",
    "n_y = 150\n",
    "\n",
    "delta = 3\n",
    "alpha = 0.05\n",
    "\n",
    "s_pool = np.sqrt(s_x**2 / n_x + s_y**2 / n_y)\n",
    "\n",
    "z_range = np.arange(-5, 5, 0.001)\n",
    "plt.plot(\n",
    "    z_range, \n",
    "    norm.pdf(z_range, loc=0, scale=1),\n",
    "    color=\"blue\",\n",
    "    label=\"H_0\"\n",
    ")\n",
    "\n",
    "plt.plot(\n",
    "    z_range, \n",
    "    norm.pdf(z_range, loc=(delta / s_pool), scale=1),\n",
    "    color=\"red\",\n",
    "    label=\"H_a\"\n",
    ")\n",
    "\n",
    "# use q=(1 - alpha) for one-sided test\n",
    "z_critical = norm.ppf(q=(1 - alpha / 2))\n",
    "power = norm.sf(x=z_critical, loc=(delta / s_pool), scale=1)\n",
    "\n",
    "print(f\"The critial value is {z_critical:5.3f}.\")\n",
    "print(f\"The power of the test is {power:5.3f}.\")\n",
    "plt.axvline(x=z_critical, color=\"black\")\n",
    "plt.axvline(x=0, color=\"blue\", linestyle=\"--\")\n",
    "plt.axvline(x=(delta / s_pool), color=\"red\", linestyle=\"--\")\n",
    "\n",
    "plt.axhline(y=0, color=\"black\")\n",
    "plt.legend()\n",
    "plt.show()"
   ]
  },
  {
   "cell_type": "code",
   "execution_count": null,
   "id": "b89e04a6",
   "metadata": {},
   "outputs": [],
   "source": [
    "# multiple tests\n",
    "np.random.seed(42)\n",
    "n_samples = int(1e5)\n",
    "\n",
    "group_A = np.random.normal(size=n_samples)\n",
    "group_B = np.random.normal(size=n_samples)\n",
    "\n",
    "print(ttest_ind(a=group_A, b=group_B))"
   ]
  },
  {
   "cell_type": "code",
   "execution_count": null,
   "id": "a4903cca",
   "metadata": {},
   "outputs": [],
   "source": [
    "# assign meaningless labels to each sample\n",
    "n_labels = 100\n",
    "group_A_labeled = [(i % n_labels, x) for i, x in enumerate(group_A)]\n",
    "group_B_labeled = [(i % n_labels, x) for i, x in enumerate(group_B)]\n",
    "\n",
    "# run t-tests by label\n",
    "p_values = []\n",
    "t_statistics = []\n",
    "for i in tqdm(range(n_labels)):\n",
    "    t_statistic, p_value =  ttest_ind(\n",
    "        a=[x for label, x in group_A_labeled if label == i], \n",
    "        b=[x for label, x in group_B_labeled if label == i]\n",
    "    )\n",
    "    t_statistics.append(t_statistic)\n",
    "    p_values.append(p_value)"
   ]
  },
  {
   "cell_type": "code",
   "execution_count": null,
   "id": "6331d5d1",
   "metadata": {},
   "outputs": [],
   "source": [
    "print(\"Smallest p_values are:\")\n",
    "print(sorted(p_values)[:5])\n",
    "plt.hist(x=p_values)\n",
    "plt.show()"
   ]
  }
 ],
 "metadata": {
  "kernelspec": {
   "display_name": "Python 3 (ipykernel)",
   "language": "python",
   "name": "python3"
  },
  "language_info": {
   "codemirror_mode": {
    "name": "ipython",
    "version": 3
   },
   "file_extension": ".py",
   "mimetype": "text/x-python",
   "name": "python",
   "nbconvert_exporter": "python",
   "pygments_lexer": "ipython3",
   "version": "3.10.6"
  },
  "vscode": {
   "interpreter": {
    "hash": "665970a3d761a4f255ecde32808731f9b2ef62c954e47b5b53ad070c6557cd9d"
   }
  }
 },
 "nbformat": 4,
 "nbformat_minor": 5
}
