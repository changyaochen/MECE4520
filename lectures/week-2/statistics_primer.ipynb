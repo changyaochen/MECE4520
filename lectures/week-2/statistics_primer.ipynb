{
 "cells": [
  {
   "cell_type": "code",
   "execution_count": null,
   "id": "6e3c4d0e",
   "metadata": {},
   "outputs": [],
   "source": [
    "import matplotlib.pyplot as plt\n",
    "import numpy as np\n",
    "\n",
    "# set random seed\n",
    "np.random.seed(42)"
   ]
  },
  {
   "cell_type": "markdown",
   "id": "3eb087c2",
   "metadata": {},
   "source": [
    "# Descriptive statistics"
   ]
  },
  {
   "cell_type": "code",
   "execution_count": null,
   "id": "fef5d316",
   "metadata": {},
   "outputs": [],
   "source": [
    "# generate a random sample\n",
    "X = np.random.normal(loc=1.0, scale=5.0, size=1000)"
   ]
  },
  {
   "cell_type": "code",
   "execution_count": null,
   "id": "6ab79e49",
   "metadata": {},
   "outputs": [],
   "source": [
    "# mean\n",
    "x_mean = np.mean(X)\n",
    "x_mean"
   ]
  },
  {
   "cell_type": "code",
   "execution_count": null,
   "id": "879691f8",
   "metadata": {},
   "outputs": [],
   "source": [
    "# median\n",
    "x_median = np.median(X)\n",
    "x_median"
   ]
  },
  {
   "cell_type": "code",
   "execution_count": null,
   "id": "15b235c2",
   "metadata": {},
   "outputs": [],
   "source": [
    "# quantile\n",
    "x_25th_quantile = np.quantile(X, q=0.25)\n",
    "x_25th_quantile"
   ]
  },
  {
   "cell_type": "code",
   "execution_count": null,
   "id": "c842432c",
   "metadata": {},
   "outputs": [],
   "source": [
    "x_50th_quantile = np.quantile(X, q=0.5)\n",
    "x_50th_quantile"
   ]
  },
  {
   "cell_type": "code",
   "execution_count": null,
   "id": "557899b5",
   "metadata": {},
   "outputs": [],
   "source": [
    "# make the histogram\n",
    "plt.hist(X, bins=50)\n",
    "plt.show()"
   ]
  },
  {
   "cell_type": "code",
   "execution_count": null,
   "id": "8fa5dc6e",
   "metadata": {},
   "outputs": [],
   "source": [
    "# make the box-plot\n",
    "plt.boxplot(X)\n",
    "plt.show()"
   ]
  },
  {
   "cell_type": "code",
   "execution_count": null,
   "id": "5f13a97b",
   "metadata": {},
   "outputs": [],
   "source": [
    "# sample variance\n",
    "x_var = np.var(X, ddof=1)\n",
    "x_var"
   ]
  },
  {
   "cell_type": "code",
   "execution_count": null,
   "id": "e908aeb5",
   "metadata": {},
   "outputs": [],
   "source": [
    "# standard deviation\n",
    "np.sqrt(x_var)"
   ]
  },
  {
   "cell_type": "code",
   "execution_count": null,
   "id": "6a9c5e0c",
   "metadata": {},
   "outputs": [],
   "source": [
    "np.std(X, ddof=1)"
   ]
  },
  {
   "cell_type": "markdown",
   "id": "02a1a326",
   "metadata": {},
   "source": [
    "## Examples of well-known distributions"
   ]
  },
  {
   "cell_type": "markdown",
   "id": "dc13a483-c96d-4483-be7b-6381de7d013e",
   "metadata": {},
   "source": [
    "### Bernoulli"
   ]
  },
  {
   "cell_type": "code",
   "execution_count": null,
   "id": "d28932e3-baed-4253-8dc4-3f1d3c4f20d4",
   "metadata": {},
   "outputs": [],
   "source": [
    "from scipy.stats import bernoulli\n",
    "\n",
    "p = 0.6\n",
    "k = [0, 1]\n",
    "\n",
    "pmf = bernoulli.pmf(k=k, p=p)\n",
    "\n",
    "_, ax = plt.subplots(1, 1)\n",
    "ax.plot(k, pmf, \"bo\")\n",
    "_ = ax.vlines(x=k, ymin=0, ymax=pmf, colors=\"b\", lw=5, alpha=0.5)"
   ]
  },
  {
   "cell_type": "markdown",
   "id": "3e1f76dd-340a-409d-bb9f-418c917c749a",
   "metadata": {},
   "source": [
    "### Binomial"
   ]
  },
  {
   "cell_type": "code",
   "execution_count": null,
   "id": "f8f68c22-90e4-467b-9f76-1872936f915a",
   "metadata": {},
   "outputs": [],
   "source": [
    "from scipy.stats import binom\n",
    "\n",
    "p = 0.6\n",
    "n = 100\n",
    "\n",
    "k = np.arange(start=0, stop=(n + 1), step=1)\n",
    "pmf = binom.pmf(k=k, n=n, p=p)\n",
    "\n",
    "_, ax = plt.subplots(1, 1)\n",
    "ax.plot(k, pmf, \"bo\")\n",
    "_ = ax.vlines(x=k, ymin=0, ymax=pmf, colors=\"b\", lw=2, alpha=0.5)"
   ]
  },
  {
   "cell_type": "markdown",
   "id": "747ba642-2397-4251-89a0-53842bfe09b9",
   "metadata": {},
   "source": [
    "### Geometric "
   ]
  },
  {
   "cell_type": "code",
   "execution_count": null,
   "id": "a84e73e6-b383-4cef-ae92-bdbe8ccc9813",
   "metadata": {},
   "outputs": [],
   "source": [
    "from scipy.stats import geom\n",
    "\n",
    "p = 0.2\n",
    "\n",
    "k = np.arange(start=0, stop=(n + 1), step=1)\n",
    "pmf = geom.pmf(k=k, p=p)\n",
    "\n",
    "_, ax = plt.subplots(1, 1)\n",
    "ax.plot(k, pmf, \"bo\")\n",
    "_ = ax.vlines(x=k, ymin=0, ymax=pmf, colors=\"b\", lw=2, alpha=0.5)"
   ]
  },
  {
   "cell_type": "markdown",
   "id": "bc92c7c5-1fde-4f15-ad4f-2754c9f69393",
   "metadata": {},
   "source": [
    "### Uniform"
   ]
  },
  {
   "cell_type": "code",
   "execution_count": null,
   "id": "36fd2335-1997-4b67-acc6-c580d0d6d467",
   "metadata": {},
   "outputs": [],
   "source": [
    "from scipy.stats import uniform\n",
    "\n",
    "x = np.arange(start=-1, stop=2, step=0.01)\n",
    "pdf = uniform.pdf(x)\n",
    "\n",
    "_, ax = plt.subplots(1, 1)\n",
    "_ = ax.plot(x, pdf, \"r-\")"
   ]
  },
  {
   "cell_type": "markdown",
   "id": "07719c2c-c449-4594-afbd-60038b7d7005",
   "metadata": {},
   "source": [
    "### Normal"
   ]
  },
  {
   "cell_type": "code",
   "execution_count": null,
   "id": "17d5d169-3c5c-42bf-b424-2663a5945a0c",
   "metadata": {},
   "outputs": [],
   "source": [
    "from scipy.stats import norm\n",
    "\n",
    "x = np.arange(start=-5, stop=5, step=0.01)\n",
    "pdf = norm.pdf(x)\n",
    "\n",
    "_, ax = plt.subplots(1, 1)\n",
    "_ = ax.plot(x, pdf, \"r-\")"
   ]
  },
  {
   "cell_type": "code",
   "execution_count": null,
   "id": "7c77d691-bdbd-4832-b122-d8019a70d957",
   "metadata": {},
   "outputs": [],
   "source": []
  }
 ],
 "metadata": {
  "kernelspec": {
   "display_name": "Python 3 (ipykernel)",
   "language": "python",
   "name": "python3"
  },
  "language_info": {
   "codemirror_mode": {
    "name": "ipython",
    "version": 3
   },
   "file_extension": ".py",
   "mimetype": "text/x-python",
   "name": "python",
   "nbconvert_exporter": "python",
   "pygments_lexer": "ipython3",
   "version": "3.10.6"
  },
  "vscode": {
   "interpreter": {
    "hash": "665970a3d761a4f255ecde32808731f9b2ef62c954e47b5b53ad070c6557cd9d"
   }
  }
 },
 "nbformat": 4,
 "nbformat_minor": 5
}
