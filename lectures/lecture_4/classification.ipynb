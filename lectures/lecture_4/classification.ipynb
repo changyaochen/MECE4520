{
 "cells": [
  {
   "cell_type": "code",
   "execution_count": null,
   "id": "384d59bb",
   "metadata": {},
   "outputs": [],
   "source": [
    "%matplotlib notebook\n",
    "import matplotlib.pyplot as plt\n",
    "import numpy as np\n",
    "import pandas as pd\n",
    "import seaborn as sns\n",
    "\n",
    "pd.set_option(\"display.max_columns\", 500)\n",
    "sns.set(font_scale=1.5)\n",
    "sns.set_style(\"whitegrid\", {'grid.linestyle':'--'})"
   ]
  },
  {
   "cell_type": "markdown",
   "id": "085e16cb",
   "metadata": {},
   "source": [
    "## Binary classification example"
   ]
  },
  {
   "cell_type": "markdown",
   "id": "044b42ac",
   "metadata": {},
   "source": [
    "Wisconsin breast cancer diagnostic dataset. The data dictionary can be found [here](https://archive.ics.uci.edu/ml/datasets/Breast+Cancer+Wisconsin+(Diagnostic))."
   ]
  },
  {
   "cell_type": "code",
   "execution_count": null,
   "id": "8a633693",
   "metadata": {},
   "outputs": [],
   "source": [
    "breast_cancer_data = pd.read_csv(\"https://raw.githubusercontent.com/changyaochen/MECE4520/master/lectures/lecture_4/breast_cancer_data.csv\")\n",
    "breast_cancer_data.head()"
   ]
  },
  {
   "cell_type": "markdown",
   "id": "297ddf35",
   "metadata": {},
   "source": [
    "Tatanic survivor dataset. The data dictionary of the dataset can be found [here](https://www.kaggle.com/c/titanic/data)."
   ]
  },
  {
   "cell_type": "code",
   "execution_count": null,
   "id": "ab14ac07",
   "metadata": {},
   "outputs": [],
   "source": [
    "titanic_data = pd.read_csv(\"https://raw.githubusercontent.com/changyaochen/MECE4520/master/lectures/lecture_4/titanic_data.csv\")\n",
    "titanic_data.head()"
   ]
  },
  {
   "cell_type": "markdown",
   "id": "3e68a41d",
   "metadata": {},
   "source": [
    "## EDA"
   ]
  },
  {
   "cell_type": "code",
   "execution_count": null,
   "id": "36a79abd",
   "metadata": {},
   "outputs": [],
   "source": [
    "sns.scatterplot(x=\"radius_mean\", y=\"diagnosis\", data=breast_cancer_data)\n",
    "plt.tight_layout()"
   ]
  },
  {
   "cell_type": "code",
   "execution_count": null,
   "id": "b0f54990",
   "metadata": {},
   "outputs": [],
   "source": []
  }
 ],
 "metadata": {
  "kernelspec": {
   "display_name": "Python 3 (ipykernel)",
   "language": "python",
   "name": "python3"
  },
  "language_info": {
   "codemirror_mode": {
    "name": "ipython",
    "version": 3
   },
   "file_extension": ".py",
   "mimetype": "text/x-python",
   "name": "python",
   "nbconvert_exporter": "python",
   "pygments_lexer": "ipython3",
   "version": "3.7.11"
  }
 },
 "nbformat": 4,
 "nbformat_minor": 5
}
